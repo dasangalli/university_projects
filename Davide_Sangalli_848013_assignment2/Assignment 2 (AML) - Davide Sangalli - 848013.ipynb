{
 "cells": [
  {
   "cell_type": "code",
   "execution_count": 1,
   "metadata": {},
   "outputs": [
    {
     "name": "stderr",
     "output_type": "stream",
     "text": [
      "Using TensorFlow backend.\n"
     ]
    }
   ],
   "source": [
    "#vengono importate le librerie necessarie\n",
    "\n",
    "%matplotlib inline\n",
    "\n",
    "import pickle\n",
    "import pandas as pd \n",
    "import numpy as np \n",
    "from keras.layers import Input, Dense,Dropout\n",
    "from keras.models import Sequential\n",
    "from keras.regularizers import l2\n",
    "from keras.models import Model\n",
    "from matplotlib import pyplot as plt\n",
    "from keras.utils import np_utils\n",
    "from sklearn.model_selection import train_test_split\n",
    "from sklearn.metrics import classification_report"
   ]
  },
  {
   "cell_type": "markdown",
   "metadata": {},
   "source": [
    "##### Definizione di funzioni ausiliarie per il preprocessing e per la visualizzazione "
   ]
  },
  {
   "cell_type": "code",
   "execution_count": 2,
   "metadata": {},
   "outputs": [],
   "source": [
    "#funzione per leggere i file\n",
    "\n",
    "def load_data(file_name):\n",
    "    df = pickle.load(open(\"{}\".format(file_name),\n",
    "                          \"rb\"))\n",
    "    return df"
   ]
  },
  {
   "cell_type": "code",
   "execution_count": 3,
   "metadata": {},
   "outputs": [],
   "source": [
    "#funzione per fare il reshape del dataset: prima viene letto il file, poi viene effettuata una conversione di tipo\n",
    "#e standardizzato (dividendolo per 255) ed infine effettuato il reshape vero e proprio,trasformando l'immagine da \n",
    "#una matrice di 28 x 28 in un array da 784\n",
    "\n",
    "def reshape_dataset(file_name):\n",
    "    X = load_data(file_name)\n",
    "    X = X.astype('float32') / 255.\n",
    "    X= X.reshape(len(X),X.shape[1]*X.shape[2])\n",
    "\n",
    "    return X"
   ]
  },
  {
   "cell_type": "code",
   "execution_count": 4,
   "metadata": {},
   "outputs": [],
   "source": [
    "#funzione che serve per plottare i risultati della funzione di loss ed eventualmente dell'accuracy,\n",
    "# sia del training set che del validation set\n",
    "\n",
    "def plot_nn_results(network_history,accuracy=False,val_accuracy=False):\n",
    "    \n",
    "    if(accuracy==True and val_accuracy==True):\n",
    "        \n",
    "        plt.plot(network_history.history['val_accuracy'])\n",
    "        plt.plot(network_history.history['accuracy'])\n",
    "        plt.title('Accuracy')\n",
    "        plt.ylabel('Accuracy')\n",
    "        plt.xlabel('Epoch')\n",
    "        plt.legend(['Validation','Train'], loc='lower right')\n",
    "        plt.show()\n",
    "        \n",
    "    plt.plot(network_history.history['val_loss']) \n",
    "    plt.plot(network_history.history['loss']) \n",
    "    plt.title('Model loss') \n",
    "    plt.ylabel('Loss') \n",
    "    plt.xlabel('Epoch') \n",
    "    plt.legend(['Validation', 'Train'], loc='upper right') \n",
    "    plt.show()\n"
   ]
  },
  {
   "cell_type": "code",
   "execution_count": 5,
   "metadata": {},
   "outputs": [],
   "source": [
    "# vengono letti i file di x_train e di y_train. Viene anche effettuata la reshape dei dati di x_train\n",
    "\n",
    "X=reshape_dataset(\"/home/davide/Scrivania/Advanced Machine Learning/Assignment 2/x_train.obj\")\n",
    "y=load_data(\"/home/davide/Scrivania/Advanced Machine Learning/Assignment 2/y_train.obj\")"
   ]
  },
  {
   "cell_type": "code",
   "execution_count": 6,
   "metadata": {},
   "outputs": [],
   "source": [
    "# viene effettuato lo split del dataset in training e validation\n",
    "\n",
    "X_train,X_val,y_train,y_val=train_test_split(X,y,test_size=0.2,random_state=42)"
   ]
  },
  {
   "cell_type": "markdown",
   "metadata": {},
   "source": [
    "#### CLASSIFICAZIONE TRAMITE RETE NEURALE "
   ]
  },
  {
   "cell_type": "code",
   "execution_count": 7,
   "metadata": {},
   "outputs": [],
   "source": [
    "#vengono scalate le classi del train set e del validation set, per poterle utilizzare correttamente in Keras\n",
    "\n",
    "y_train=y_train-min(y_train)\n",
    "y_val=y_val-min(y_val)"
   ]
  },
  {
   "cell_type": "code",
   "execution_count": 8,
   "metadata": {},
   "outputs": [],
   "source": [
    "#viene effettuata la conversione nel formato one-hot encoding delle classi\n",
    "\n",
    "y_train=np_utils.to_categorical(y_train,11)\n",
    "y_val=np_utils.to_categorical(y_val,11)"
   ]
  },
  {
   "cell_type": "code",
   "execution_count": 9,
   "metadata": {},
   "outputs": [],
   "source": [
    "#viene definito il modello di rete neurale per la classificazione\n",
    "\n",
    "def build_neural_network():\n",
    "    \n",
    "    model=Sequential()\n",
    "    model.add(Dense(512,input_shape=(784,),activation='relu',kernel_regularizer=l2(0.001)))\n",
    "    model.add(Dropout(0.4))\n",
    "    model.add(Dense(256,activation='relu',kernel_regularizer=l2(0.001)))\n",
    "    model.add(Dropout(0.3))\n",
    "    model.add(Dense(128,activation='relu',kernel_regularizer=l2(0.001)))\n",
    "    model.add(Dropout(0.2))\n",
    "    model.add(Dense(64,activation='relu',kernel_regularizer=l2(0.001)))\n",
    "    model.add(Dropout(0.2))\n",
    "    model.add(Dense(32,activation='relu',kernel_regularizer=l2(0.001)))\n",
    "    model.add(Dropout(0.2))\n",
    "    model.add(Dense(11,activation='softmax'))\n",
    "    \n",
    "    model.compile(optimizer='adam',loss='categorical_crossentropy',metrics=['accuracy'])\n",
    "    \n",
    "    return model"
   ]
  },
  {
   "cell_type": "code",
   "execution_count": 10,
   "metadata": {},
   "outputs": [],
   "source": [
    "#viene costruita la rete neurale\n",
    "\n",
    "neural_network=build_neural_network()"
   ]
  },
  {
   "cell_type": "code",
   "execution_count": 11,
   "metadata": {},
   "outputs": [
    {
     "name": "stdout",
     "output_type": "stream",
     "text": [
      "Train on 11200 samples, validate on 2800 samples\n",
      "Epoch 1/50\n",
      "11200/11200 [==============================] - 5s 454us/step - loss: 2.2071 - accuracy: 0.5255 - val_loss: 1.3046 - val_accuracy: 0.8000\n",
      "Epoch 2/50\n",
      "11200/11200 [==============================] - 5s 404us/step - loss: 1.3370 - accuracy: 0.7946 - val_loss: 0.9891 - val_accuracy: 0.8936\n",
      "Epoch 3/50\n",
      "11200/11200 [==============================] - 5s 403us/step - loss: 1.1192 - accuracy: 0.8423 - val_loss: 0.9298 - val_accuracy: 0.8825\n",
      "Epoch 4/50\n",
      "11200/11200 [==============================] - 5s 447us/step - loss: 1.0121 - accuracy: 0.8640 - val_loss: 0.8243 - val_accuracy: 0.9096\n",
      "Epoch 5/50\n",
      "11200/11200 [==============================] - 5s 467us/step - loss: 0.9563 - accuracy: 0.8693 - val_loss: 0.7940 - val_accuracy: 0.9121\n",
      "Epoch 6/50\n",
      "11200/11200 [==============================] - 5s 465us/step - loss: 0.8807 - accuracy: 0.8872 - val_loss: 0.7512 - val_accuracy: 0.9136\n",
      "Epoch 7/50\n",
      "11200/11200 [==============================] - 5s 417us/step - loss: 0.8408 - accuracy: 0.8917 - val_loss: 0.7010 - val_accuracy: 0.9250\n",
      "Epoch 8/50\n",
      "11200/11200 [==============================] - 4s 400us/step - loss: 0.8358 - accuracy: 0.8888 - val_loss: 0.7913 - val_accuracy: 0.8950\n",
      "Epoch 9/50\n",
      "11200/11200 [==============================] - 5s 412us/step - loss: 0.8037 - accuracy: 0.8939 - val_loss: 0.7327 - val_accuracy: 0.9089\n",
      "Epoch 10/50\n",
      "11200/11200 [==============================] - 5s 414us/step - loss: 0.7779 - accuracy: 0.8967 - val_loss: 0.6743 - val_accuracy: 0.9250\n",
      "Epoch 11/50\n",
      "11200/11200 [==============================] - 5s 404us/step - loss: 0.7609 - accuracy: 0.8954 - val_loss: 0.6595 - val_accuracy: 0.9261\n",
      "Epoch 12/50\n",
      "11200/11200 [==============================] - 4s 399us/step - loss: 0.7623 - accuracy: 0.8974 - val_loss: 0.6360 - val_accuracy: 0.9311\n",
      "Epoch 13/50\n",
      "11200/11200 [==============================] - 5s 409us/step - loss: 0.7388 - accuracy: 0.9015 - val_loss: 0.6535 - val_accuracy: 0.9214\n",
      "Epoch 14/50\n",
      "11200/11200 [==============================] - 5s 408us/step - loss: 0.7359 - accuracy: 0.9002 - val_loss: 0.6452 - val_accuracy: 0.9204\n",
      "Epoch 15/50\n",
      "11200/11200 [==============================] - 5s 410us/step - loss: 0.7436 - accuracy: 0.9012 - val_loss: 0.6645 - val_accuracy: 0.9225\n",
      "Epoch 16/50\n",
      "11200/11200 [==============================] - 5s 416us/step - loss: 0.7244 - accuracy: 0.9055 - val_loss: 0.6340 - val_accuracy: 0.9282\n",
      "Epoch 17/50\n",
      "11200/11200 [==============================] - 5s 419us/step - loss: 0.7244 - accuracy: 0.9025 - val_loss: 0.6630 - val_accuracy: 0.9225\n",
      "Epoch 18/50\n",
      "11200/11200 [==============================] - 5s 442us/step - loss: 0.7200 - accuracy: 0.9076 - val_loss: 0.6667 - val_accuracy: 0.9136\n",
      "Epoch 19/50\n",
      "11200/11200 [==============================] - 5s 428us/step - loss: 0.7047 - accuracy: 0.9089 - val_loss: 0.6414 - val_accuracy: 0.9214\n",
      "Epoch 20/50\n",
      "11200/11200 [==============================] - 5s 433us/step - loss: 0.7022 - accuracy: 0.9090 - val_loss: 0.6543 - val_accuracy: 0.9175\n",
      "Epoch 21/50\n",
      "11200/11200 [==============================] - 5s 471us/step - loss: 0.7062 - accuracy: 0.9068 - val_loss: 0.6385 - val_accuracy: 0.9257\n",
      "Epoch 22/50\n",
      "11200/11200 [==============================] - 5s 444us/step - loss: 0.7011 - accuracy: 0.9104 - val_loss: 0.6549 - val_accuracy: 0.9182\n",
      "Epoch 23/50\n",
      "11200/11200 [==============================] - 5s 440us/step - loss: 0.7007 - accuracy: 0.9104 - val_loss: 0.6330 - val_accuracy: 0.9271\n",
      "Epoch 24/50\n",
      "11200/11200 [==============================] - 5s 443us/step - loss: 0.7011 - accuracy: 0.9047 - val_loss: 0.6298 - val_accuracy: 0.9229\n",
      "Epoch 25/50\n",
      "11200/11200 [==============================] - 5s 424us/step - loss: 0.7009 - accuracy: 0.9094 - val_loss: 0.6297 - val_accuracy: 0.9257\n",
      "Epoch 26/50\n",
      "11200/11200 [==============================] - 5s 421us/step - loss: 0.6780 - accuracy: 0.9133 - val_loss: 0.6124 - val_accuracy: 0.9293\n",
      "Epoch 27/50\n",
      "11200/11200 [==============================] - 5s 423us/step - loss: 0.6823 - accuracy: 0.9123 - val_loss: 0.6209 - val_accuracy: 0.9282\n",
      "Epoch 28/50\n",
      "11200/11200 [==============================] - 5s 421us/step - loss: 0.6901 - accuracy: 0.9098 - val_loss: 0.6334 - val_accuracy: 0.9243\n",
      "Epoch 29/50\n",
      "11200/11200 [==============================] - 5s 419us/step - loss: 0.6906 - accuracy: 0.9094 - val_loss: 0.6270 - val_accuracy: 0.9293\n",
      "Epoch 30/50\n",
      "11200/11200 [==============================] - 5s 420us/step - loss: 0.7035 - accuracy: 0.9079 - val_loss: 0.6017 - val_accuracy: 0.9307\n",
      "Epoch 31/50\n",
      "11200/11200 [==============================] - 5s 427us/step - loss: 0.6778 - accuracy: 0.9148 - val_loss: 0.6122 - val_accuracy: 0.9311\n",
      "Epoch 32/50\n",
      "11200/11200 [==============================] - 5s 426us/step - loss: 0.6805 - accuracy: 0.9104 - val_loss: 0.6340 - val_accuracy: 0.9186\n",
      "Epoch 33/50\n",
      "11200/11200 [==============================] - 5s 423us/step - loss: 0.6746 - accuracy: 0.9157 - val_loss: 0.6154 - val_accuracy: 0.9296\n",
      "Epoch 34/50\n",
      "11200/11200 [==============================] - 5s 428us/step - loss: 0.6669 - accuracy: 0.9120 - val_loss: 0.6407 - val_accuracy: 0.9200\n",
      "Epoch 35/50\n",
      "11200/11200 [==============================] - 5s 459us/step - loss: 0.6875 - accuracy: 0.9079 - val_loss: 0.6055 - val_accuracy: 0.9321\n",
      "Epoch 36/50\n",
      "11200/11200 [==============================] - 5s 421us/step - loss: 0.6828 - accuracy: 0.9106 - val_loss: 0.6124 - val_accuracy: 0.9257\n",
      "Epoch 37/50\n",
      "11200/11200 [==============================] - 5s 404us/step - loss: 0.6706 - accuracy: 0.9143 - val_loss: 0.6213 - val_accuracy: 0.9232\n",
      "Epoch 38/50\n",
      "11200/11200 [==============================] - 4s 394us/step - loss: 0.6711 - accuracy: 0.9103 - val_loss: 0.6384 - val_accuracy: 0.9193\n",
      "Epoch 39/50\n",
      "11200/11200 [==============================] - 4s 392us/step - loss: 0.6808 - accuracy: 0.9112 - val_loss: 0.6179 - val_accuracy: 0.9282\n",
      "Epoch 40/50\n",
      "11200/11200 [==============================] - 4s 387us/step - loss: 0.6686 - accuracy: 0.9161 - val_loss: 0.6046 - val_accuracy: 0.9339\n",
      "Epoch 41/50\n",
      "11200/11200 [==============================] - 4s 375us/step - loss: 0.6652 - accuracy: 0.9132 - val_loss: 0.6416 - val_accuracy: 0.9246\n",
      "Epoch 42/50\n",
      "11200/11200 [==============================] - 4s 382us/step - loss: 0.6646 - accuracy: 0.9159 - val_loss: 0.6101 - val_accuracy: 0.9264\n",
      "Epoch 43/50\n",
      "11200/11200 [==============================] - 4s 371us/step - loss: 0.6675 - accuracy: 0.9129 - val_loss: 0.6043 - val_accuracy: 0.9286\n",
      "Epoch 44/50\n",
      "11200/11200 [==============================] - 4s 376us/step - loss: 0.6690 - accuracy: 0.9122 - val_loss: 0.5900 - val_accuracy: 0.9354\n",
      "Epoch 45/50\n",
      "11200/11200 [==============================] - 4s 381us/step - loss: 0.6615 - accuracy: 0.9157 - val_loss: 0.6028 - val_accuracy: 0.9311\n",
      "Epoch 46/50\n",
      "11200/11200 [==============================] - 4s 373us/step - loss: 0.6666 - accuracy: 0.9116 - val_loss: 0.6029 - val_accuracy: 0.9311\n",
      "Epoch 47/50\n",
      "11200/11200 [==============================] - 4s 388us/step - loss: 0.6386 - accuracy: 0.9179 - val_loss: 0.5937 - val_accuracy: 0.9329\n",
      "Epoch 48/50\n",
      "11200/11200 [==============================] - 6s 521us/step - loss: 0.6656 - accuracy: 0.9146 - val_loss: 0.6007 - val_accuracy: 0.9229\n",
      "Epoch 49/50\n",
      "11200/11200 [==============================] - 5s 431us/step - loss: 0.6749 - accuracy: 0.9117 - val_loss: 0.6209 - val_accuracy: 0.9261\n",
      "Epoch 50/50\n",
      "11200/11200 [==============================] - 5s 453us/step - loss: 0.6613 - accuracy: 0.9152 - val_loss: 0.5795 - val_accuracy: 0.9307\n"
     ]
    }
   ],
   "source": [
    "# viene fatto il train del modello\n",
    "\n",
    "neural_network_history=neural_network.fit(X_train,y_train,validation_data=(X_val,y_val),batch_size=32,epochs=50)"
   ]
  },
  {
   "cell_type": "code",
   "execution_count": 12,
   "metadata": {},
   "outputs": [
    {
     "data": {
      "image/png": "[encoded data removed]",
      "text/plain": [
       "<Figure size 432x288 with 1 Axes>"
      ]
     },
     "metadata": {
      "needs_background": "light"
     },
     "output_type": "display_data"
    },
    {
     "data": {
      "image/png": "[encoded data removed]",
      "text/plain": [
       "<Figure size 432x288 with 1 Axes>"
      ]
     },
     "metadata": {
      "needs_background": "light"
     },
     "output_type": "display_data"
    }
   ],
   "source": [
    "#vengono visualizzati i risultati del training del modello\n",
    "\n",
    "plot_nn_results(neural_network_history,accuracy=True,val_accuracy=True)"
   ]
  },
  {
   "cell_type": "code",
   "execution_count": 13,
   "metadata": {},
   "outputs": [],
   "source": [
    "#vengono convertite nuovamente le classi del training set in un array per poterle utilizzare correttamente nel \n",
    "#classification report\n",
    "\n",
    "y_train_true=[]\n",
    "\n",
    "for i in range(len(y_train)):\n",
    "    y_train_true.append(np.argmax(y_train[i]))"
   ]
  },
  {
   "cell_type": "code",
   "execution_count": 14,
   "metadata": {},
   "outputs": [],
   "source": [
    "#vengono convertite nuovamente le classi del vaditation set in un array per poterle utilizzare correttamente nel \n",
    "#classification report\n",
    "\n",
    "y_val_true=[]\n",
    "\n",
    "for i in range(len(y_val)):\n",
    "    y_val_true.append(np.argmax(y_val[i]))"
   ]
  },
  {
   "cell_type": "code",
   "execution_count": 15,
   "metadata": {},
   "outputs": [],
   "source": [
    "#vengono predette le classi del training set\n",
    "\n",
    "y_train_pred_nn=neural_network.predict_classes(X_train)"
   ]
  },
  {
   "cell_type": "code",
   "execution_count": 16,
   "metadata": {},
   "outputs": [],
   "source": [
    "#vengono predette le classi del validation set\n",
    "\n",
    "y_val_pred_nn=neural_network.predict_classes(X_val)"
   ]
  },
  {
   "cell_type": "code",
   "execution_count": 17,
   "metadata": {},
   "outputs": [
    {
     "name": "stdout",
     "output_type": "stream",
     "text": [
      "CLASSIFICATION REPORT FOR TRAINING SET:\n",
      "\n",
      "              precision    recall  f1-score   support\n",
      "\n",
      "           0       0.98      0.98      0.98      1030\n",
      "           1       0.95      0.98      0.97      1009\n",
      "           2       0.98      0.96      0.97      1072\n",
      "           3       0.99      0.99      0.99      1049\n",
      "           4       0.98      0.98      0.98      1076\n",
      "           5       0.93      0.96      0.94      1041\n",
      "           6       0.91      0.93      0.92      1012\n",
      "           7       0.99      0.98      0.98      1077\n",
      "           8       0.97      0.96      0.96      1047\n",
      "           9       0.95      0.93      0.94      1060\n",
      "          10       1.00      0.96      0.98       727\n",
      "\n",
      "    accuracy                           0.96     11200\n",
      "   macro avg       0.97      0.96      0.96     11200\n",
      "weighted avg       0.96      0.96      0.96     11200\n",
      "\n",
      "CLASSIFICATION REPORT FOR VALIDATION SET:\n",
      "\n",
      "              precision    recall  f1-score   support\n",
      "\n",
      "           0       0.92      0.93      0.92       265\n",
      "           1       0.92      0.92      0.92       256\n",
      "           2       0.93      0.91      0.92       274\n",
      "           3       0.97      0.97      0.97       280\n",
      "           4       0.93      0.95      0.94       260\n",
      "           5       0.93      0.94      0.93       256\n",
      "           6       0.88      0.93      0.90       257\n",
      "           7       0.96      0.96      0.96       250\n",
      "           8       0.94      0.92      0.93       275\n",
      "           9       0.90      0.85      0.88       261\n",
      "          10       0.98      0.98      0.98       166\n",
      "\n",
      "    accuracy                           0.93      2800\n",
      "   macro avg       0.93      0.93      0.93      2800\n",
      "weighted avg       0.93      0.93      0.93      2800\n",
      "\n"
     ]
    }
   ],
   "source": [
    "#vengono stampati i classification reports sia del training set che del validation set\n",
    "\n",
    "print(\"CLASSIFICATION REPORT FOR TRAINING SET:\\n\")\n",
    "print(classification_report(y_train_true,y_train_pred_nn))\n",
    "print(\"CLASSIFICATION REPORT FOR VALIDATION SET:\\n\")\n",
    "print(classification_report(y_val_true,y_val_pred_nn))"
   ]
  },
  {
   "cell_type": "markdown",
   "metadata": {},
   "source": [
    "#### COSTRUZIONE DELL' AUTOENCODER"
   ]
  },
  {
   "cell_type": "code",
   "execution_count": 18,
   "metadata": {},
   "outputs": [],
   "source": [
    "#viene definita la funzione per costruire l'autoencoder\n",
    "\n",
    "def build_autoencoder(encoding_dim):\n",
    "    \n",
    "    input_image=Input(shape=(784,))\n",
    "    hidden_layer_1=Dense(512,activation='relu')(input_image)\n",
    "    hidden_layer_2=Dense(256,activation='relu')(hidden_layer_1)\n",
    "    hidden_layer_3=Dense(128,activation='relu')(hidden_layer_2)\n",
    "    encoded=Dense(encoding_dim,activation='relu')(hidden_layer_3)\n",
    "    hidden_layer_4=Dense(128,activation='relu')(encoded)\n",
    "    hidden_layer_5=Dense(256,activation='relu')(hidden_layer_4)\n",
    "    hidden_layer_6=Dense(512,activation='relu')(hidden_layer_5)\n",
    "    decoded=Dense(784,activation='sigmoid')(hidden_layer_6)\n",
    "\n",
    "    autoencoder=Model(input_image,decoded)\n",
    "    autoencoder.compile(optimizer='adam',loss='mse')\n",
    "\n",
    "    return autoencoder"
   ]
  },
  {
   "cell_type": "code",
   "execution_count": 19,
   "metadata": {},
   "outputs": [],
   "source": [
    "#viene costruito l'autoencoder\n",
    "\n",
    "autoencoder=build_autoencoder(64)"
   ]
  },
  {
   "cell_type": "code",
   "execution_count": 20,
   "metadata": {},
   "outputs": [
    {
     "name": "stdout",
     "output_type": "stream",
     "text": [
      "Train on 11200 samples, validate on 2800 samples\n",
      "Epoch 1/50\n",
      "11200/11200 [==============================] - 7s 621us/step - loss: 0.0591 - val_loss: 0.0365\n",
      "Epoch 2/50\n",
      "11200/11200 [==============================] - 7s 608us/step - loss: 0.0308 - val_loss: 0.0268\n",
      "Epoch 3/50\n",
      "11200/11200 [==============================] - 7s 608us/step - loss: 0.0235 - val_loss: 0.0219\n",
      "Epoch 4/50\n",
      "11200/11200 [==============================] - 7s 637us/step - loss: 0.0200 - val_loss: 0.0193\n",
      "Epoch 5/50\n",
      "11200/11200 [==============================] - 7s 641us/step - loss: 0.0179 - val_loss: 0.0179\n",
      "Epoch 6/50\n",
      "11200/11200 [==============================] - 7s 643us/step - loss: 0.0163 - val_loss: 0.0165\n",
      "Epoch 7/50\n",
      "11200/11200 [==============================] - 7s 644us/step - loss: 0.0152 - val_loss: 0.0161\n",
      "Epoch 8/50\n",
      "11200/11200 [==============================] - 7s 643us/step - loss: 0.0143 - val_loss: 0.0153\n",
      "Epoch 9/50\n",
      "11200/11200 [==============================] - 7s 625us/step - loss: 0.0137 - val_loss: 0.0151\n",
      "Epoch 10/50\n",
      "11200/11200 [==============================] - 7s 625us/step - loss: 0.0131 - val_loss: 0.0147\n",
      "Epoch 11/50\n",
      "11200/11200 [==============================] - 7s 616us/step - loss: 0.0125 - val_loss: 0.0146\n",
      "Epoch 12/50\n",
      "11200/11200 [==============================] - 7s 612us/step - loss: 0.0121 - val_loss: 0.0139\n",
      "Epoch 13/50\n",
      "11200/11200 [==============================] - 7s 615us/step - loss: 0.0116 - val_loss: 0.0138\n",
      "Epoch 14/50\n",
      "11200/11200 [==============================] - 7s 617us/step - loss: 0.0113 - val_loss: 0.0136\n",
      "Epoch 15/50\n",
      "11200/11200 [==============================] - 7s 620us/step - loss: 0.0110 - val_loss: 0.0135\n",
      "Epoch 16/50\n",
      "11200/11200 [==============================] - 7s 622us/step - loss: 0.0108 - val_loss: 0.0129\n",
      "Epoch 17/50\n",
      "11200/11200 [==============================] - 7s 624us/step - loss: 0.0106 - val_loss: 0.0137\n",
      "Epoch 18/50\n",
      "11200/11200 [==============================] - 7s 626us/step - loss: 0.0103 - val_loss: 0.0130\n",
      "Epoch 19/50\n",
      "11200/11200 [==============================] - 7s 629us/step - loss: 0.0101 - val_loss: 0.0130\n",
      "Epoch 20/50\n",
      "11200/11200 [==============================] - 7s 631us/step - loss: 0.0098 - val_loss: 0.0128\n",
      "Epoch 21/50\n",
      "11200/11200 [==============================] - 7s 632us/step - loss: 0.0096 - val_loss: 0.0126\n",
      "Epoch 22/50\n",
      "11200/11200 [==============================] - 7s 636us/step - loss: 0.0094 - val_loss: 0.0127\n",
      "Epoch 23/50\n",
      "11200/11200 [==============================] - 7s 638us/step - loss: 0.0093 - val_loss: 0.0119\n",
      "Epoch 24/50\n",
      "11200/11200 [==============================] - 9s 769us/step - loss: 0.0091 - val_loss: 0.0126\n",
      "Epoch 25/50\n",
      "11200/11200 [==============================] - 7s 643us/step - loss: 0.0090 - val_loss: 0.0123\n",
      "Epoch 26/50\n",
      "11200/11200 [==============================] - 7s 636us/step - loss: 0.0088 - val_loss: 0.0121\n",
      "Epoch 27/50\n",
      "11200/11200 [==============================] - 7s 634us/step - loss: 0.0087 - val_loss: 0.0121\n",
      "Epoch 28/50\n",
      "11200/11200 [==============================] - 8s 703us/step - loss: 0.0085 - val_loss: 0.0117\n",
      "Epoch 29/50\n",
      "11200/11200 [==============================] - 7s 645us/step - loss: 0.0084 - val_loss: 0.0120\n",
      "Epoch 30/50\n",
      "11200/11200 [==============================] - 7s 645us/step - loss: 0.0083 - val_loss: 0.0117\n",
      "Epoch 31/50\n",
      "11200/11200 [==============================] - 7s 665us/step - loss: 0.0083 - val_loss: 0.0119\n",
      "Epoch 32/50\n",
      "11200/11200 [==============================] - 7s 652us/step - loss: 0.0081 - val_loss: 0.0118\n",
      "Epoch 33/50\n",
      "11200/11200 [==============================] - 7s 647us/step - loss: 0.0080 - val_loss: 0.0119\n",
      "Epoch 34/50\n",
      "11200/11200 [==============================] - 10s 865us/step - loss: 0.0080 - val_loss: 0.0117\n",
      "Epoch 35/50\n",
      "11200/11200 [==============================] - 10s 906us/step - loss: 0.0079 - val_loss: 0.0117\n",
      "Epoch 36/50\n",
      "11200/11200 [==============================] - 8s 700us/step - loss: 0.0078 - val_loss: 0.0117\n",
      "Epoch 37/50\n",
      "11200/11200 [==============================] - 8s 739us/step - loss: 0.0077 - val_loss: 0.0119\n",
      "Epoch 38/50\n",
      "11200/11200 [==============================] - 8s 716us/step - loss: 0.0076 - val_loss: 0.0116\n",
      "Epoch 39/50\n",
      "11200/11200 [==============================] - 8s 700us/step - loss: 0.0075 - val_loss: 0.0117\n",
      "Epoch 40/50\n",
      "11200/11200 [==============================] - 8s 683us/step - loss: 0.0074 - val_loss: 0.0113\n",
      "Epoch 41/50\n",
      "11200/11200 [==============================] - 8s 675us/step - loss: 0.0074 - val_loss: 0.0117\n",
      "Epoch 42/50\n",
      "11200/11200 [==============================] - 8s 673us/step - loss: 0.0073 - val_loss: 0.0112\n",
      "Epoch 43/50\n",
      "11200/11200 [==============================] - 8s 671us/step - loss: 0.0073 - val_loss: 0.0115\n",
      "Epoch 44/50\n",
      "11200/11200 [==============================] - 8s 703us/step - loss: 0.0072 - val_loss: 0.0115\n",
      "Epoch 45/50\n",
      "11200/11200 [==============================] - 8s 693us/step - loss: 0.0071 - val_loss: 0.0114\n",
      "Epoch 46/50\n",
      "11200/11200 [==============================] - 7s 647us/step - loss: 0.0072 - val_loss: 0.0118\n",
      "Epoch 47/50\n",
      "11200/11200 [==============================] - 8s 758us/step - loss: 0.0070 - val_loss: 0.0113\n",
      "Epoch 48/50\n",
      "11200/11200 [==============================] - 8s 697us/step - loss: 0.0070 - val_loss: 0.0113\n",
      "Epoch 49/50\n",
      "11200/11200 [==============================] - 7s 620us/step - loss: 0.0070 - val_loss: 0.0117\n",
      "Epoch 50/50\n",
      "11200/11200 [==============================] - 7s 619us/step - loss: 0.0069 - val_loss: 0.0115\n"
     ]
    }
   ],
   "source": [
    "#training dell'autoencoder\n",
    "\n",
    "autoencoder_history=autoencoder.fit(X_train,X_train,epochs=50,batch_size=32,validation_data=(X_val,X_val))"
   ]
  },
  {
   "cell_type": "code",
   "execution_count": 21,
   "metadata": {},
   "outputs": [
    {
     "data": {
      "image/png": "[encoded data removed]",
      "text/plain": [
       "<Figure size 432x288 with 1 Axes>"
      ]
     },
     "metadata": {
      "needs_background": "light"
     },
     "output_type": "display_data"
    }
   ],
   "source": [
    "#visualizzazione della loss dell'autoencoder, sia sul training set che sul validation set\n",
    "\n",
    "plot_nn_results(autoencoder_history,accuracy=False,val_accuracy=False)"
   ]
  },
  {
   "cell_type": "code",
   "execution_count": 22,
   "metadata": {},
   "outputs": [],
   "source": [
    "#viene definita la funzione per ottenere i layers di encoding e di decoding, partendo dall'autoencoder definito\n",
    "#precedentemente. La funzione prende in input l'autoencoder e gli indici dei propri layers.\n",
    "\n",
    "def get_layers(autoencoder,layers_indeces):\n",
    "    \n",
    "    layers_list=[]\n",
    "    \n",
    "    for i in range(len(layers_indeces)):\n",
    "        layers_list.append(autoencoder.layers[layers_indeces[i]])\n",
    "        \n",
    "    return layers_list    "
   ]
  },
  {
   "cell_type": "code",
   "execution_count": 23,
   "metadata": {},
   "outputs": [],
   "source": [
    "#vengono presi i primi quattro Dense layers dell'autoencoder (layers di encoding)\n",
    "\n",
    "encoder_layers=get_layers(autoencoder,[1,2,3,4])"
   ]
  },
  {
   "cell_type": "code",
   "execution_count": 24,
   "metadata": {},
   "outputs": [],
   "source": [
    "#vengono presi gli ultimi quattro Dense layers dell'autoencoder (layers di decoding)\n",
    "\n",
    "decoder_layers=get_layers(autoencoder,[-4,-3,-2,-1])"
   ]
  },
  {
   "cell_type": "code",
   "execution_count": 25,
   "metadata": {},
   "outputs": [],
   "source": [
    "#dopo aver fissato le dimensioni dell'immagine di input e dell'immagine encodata, vengono definiti l'encoder e \n",
    "#il decoder\n",
    "\n",
    "input_img=Input(shape=(784,))\n",
    "encoded_img=Input(shape=(64,))\n",
    "\n",
    "encoder=Model(input_img,encoder_layers[3](encoder_layers[2](encoder_layers[1]\n",
    "                                                                (encoder_layers[0](input_img)))))\n",
    "              \n",
    "decoder=Model(encoded_img,decoder_layers[3](decoder_layers[2]\n",
    "                                                (decoder_layers[1](decoder_layers[0](encoded_img)))))"
   ]
  },
  {
   "cell_type": "code",
   "execution_count": 26,
   "metadata": {},
   "outputs": [],
   "source": [
    "#vengono prima encodate le immagini appartenenti al validation set (tramite l'utilizzo dell'encoder), \n",
    "#dopodichè vengono decodate (traimite l'utilizzo del decoder)\n",
    "\n",
    "encoded_imgs=encoder.predict(X_val)\n",
    "decoded_imgs=decoder.predict(encoded_imgs)"
   ]
  },
  {
   "cell_type": "code",
   "execution_count": 27,
   "metadata": {},
   "outputs": [
    {
     "data": {
      "image/png": "[encoded data removed]",
      "text/plain": [
       "<Figure size 1440x288 with 20 Axes>"
      ]
     },
     "metadata": {
      "needs_background": "light"
     },
     "output_type": "display_data"
    }
   ],
   "source": [
    "#vengono visualizzate le immagini: la prima riga corrisponde alle immagini \"vere\" del validation set, mentre\n",
    "#la seconda riga corrisponde alle stesse immagini, però ricostruite dal decoder\n",
    "\n",
    "n = 10 \n",
    "plt.figure(figsize=(20, 4))\n",
    "\n",
    "for i in range(n):\n",
    "    # original\n",
    "    ax = plt.subplot(2, n, i + 1)\n",
    "    plt.imshow(X_val[i].reshape(28, 28))\n",
    "    plt.gray()\n",
    "    ax.get_xaxis().set_visible(False)\n",
    "    ax.get_yaxis().set_visible(False)\n",
    "\n",
    "    # reconstruction\n",
    "    ax = plt.subplot(2, n, i + 1 + n)\n",
    "    plt.imshow(decoded_imgs[i].reshape(28, 28))\n",
    "    plt.gray()\n",
    "    ax.get_xaxis().set_visible(False)\n",
    "    ax.get_yaxis().set_visible(False)\n",
    "plt.show()"
   ]
  },
  {
   "cell_type": "markdown",
   "metadata": {},
   "source": [
    "#### CLASSIFICAZIONE TRAMITE AUTOENCODER"
   ]
  },
  {
   "cell_type": "code",
   "execution_count": 28,
   "metadata": {},
   "outputs": [],
   "source": [
    "#viene definita la funzione per costruire il modello di classificazione partendo dai layers dell'encoder\n",
    "\n",
    "def build_classification_model(encoding_dim):\n",
    "    \n",
    "    model=Sequential()\n",
    "    model.add(Dense(512,input_shape=(784,),activation='relu'))\n",
    "    model.add(Dense(256,activation='relu'))\n",
    "    model.add(Dense(128,activation='relu'))\n",
    "    model.add(Dense(encoding_dim,activation='relu'))\n",
    "    \n",
    "    model.add(Dense(128,activation='relu',kernel_regularizer=l2(0.01)))\n",
    "    model.add(Dense(64,activation='relu',kernel_regularizer=l2(0.01)))\n",
    "    model.add(Dense(32,activation='relu',kernel_regularizer=l2(0.001)))\n",
    "    \n",
    "    model.add(Dense(11,activation='softmax'))\n",
    "    \n",
    "    return model"
   ]
  },
  {
   "cell_type": "code",
   "execution_count": 29,
   "metadata": {},
   "outputs": [],
   "source": [
    "#viene costruito il modello di classificazione\n",
    "\n",
    "autoencoder_model=build_classification_model(64)"
   ]
  },
  {
   "cell_type": "code",
   "execution_count": 30,
   "metadata": {},
   "outputs": [],
   "source": [
    "#i primi quattro layers di questo modello devono avere gli stessi pesi dei layers dell'encoder, perciò vengono\n",
    "#settati in anticipo\n",
    "\n",
    "for i in range(0,4):\n",
    "    autoencoder_model.layers[i].set_weights(autoencoder.layers[i+1].get_weights())"
   ]
  },
  {
   "cell_type": "code",
   "execution_count": 31,
   "metadata": {},
   "outputs": [],
   "source": [
    "#sempre i primi quattro layers di questo modello non devono essere allenati durante il training del modello, perciò\n",
    "#viene settato il loro attributo \"trainable\" a False\n",
    "\n",
    "for layer in autoencoder_model.layers[0:4]:\n",
    "    layer.trainable = False "
   ]
  },
  {
   "cell_type": "code",
   "execution_count": 32,
   "metadata": {},
   "outputs": [
    {
     "name": "stdout",
     "output_type": "stream",
     "text": [
      "Model: \"sequential_2\"\n",
      "_________________________________________________________________\n",
      "Layer (type)                 Output Shape              Param #   \n",
      "=================================================================\n",
      "dense_15 (Dense)             (None, 512)               401920    \n",
      "_________________________________________________________________\n",
      "dense_16 (Dense)             (None, 256)               131328    \n",
      "_________________________________________________________________\n",
      "dense_17 (Dense)             (None, 128)               32896     \n",
      "_________________________________________________________________\n",
      "dense_18 (Dense)             (None, 64)                8256      \n",
      "_________________________________________________________________\n",
      "dense_19 (Dense)             (None, 128)               8320      \n",
      "_________________________________________________________________\n",
      "dense_20 (Dense)             (None, 64)                8256      \n",
      "_________________________________________________________________\n",
      "dense_21 (Dense)             (None, 32)                2080      \n",
      "_________________________________________________________________\n",
      "dense_22 (Dense)             (None, 11)                363       \n",
      "=================================================================\n",
      "Total params: 593,419\n",
      "Trainable params: 19,019\n",
      "Non-trainable params: 574,400\n",
      "_________________________________________________________________\n"
     ]
    }
   ],
   "source": [
    "#viene stampato il summary del modello; notiamo che ci sono dei parametri non allenabili, corrispondenti ai \n",
    "#parametri dei primi quattro layers\n",
    "\n",
    "autoencoder_model.summary()"
   ]
  },
  {
   "cell_type": "code",
   "execution_count": 33,
   "metadata": {},
   "outputs": [],
   "source": [
    "#compilazione del modello\n",
    "\n",
    "autoencoder_model.compile(optimizer='adam',loss='categorical_crossentropy',metrics=['accuracy'])"
   ]
  },
  {
   "cell_type": "code",
   "execution_count": 34,
   "metadata": {},
   "outputs": [
    {
     "name": "stdout",
     "output_type": "stream",
     "text": [
      "Train on 11200 samples, validate on 2800 samples\n",
      "Epoch 1/50\n",
      "11200/11200 [==============================] - 1s 105us/step - loss: 2.0302 - accuracy: 0.6553 - val_loss: 1.3944 - val_accuracy: 0.7707\n",
      "Epoch 2/50\n",
      "11200/11200 [==============================] - 1s 93us/step - loss: 1.2470 - accuracy: 0.8003 - val_loss: 1.1410 - val_accuracy: 0.8086\n",
      "Epoch 3/50\n",
      "11200/11200 [==============================] - 1s 94us/step - loss: 1.0375 - accuracy: 0.8384 - val_loss: 0.9528 - val_accuracy: 0.8561\n",
      "Epoch 4/50\n",
      "11200/11200 [==============================] - 1s 102us/step - loss: 0.8940 - accuracy: 0.8654 - val_loss: 0.8553 - val_accuracy: 0.8689\n",
      "Epoch 5/50\n",
      "11200/11200 [==============================] - 1s 116us/step - loss: 0.8020 - accuracy: 0.8813 - val_loss: 0.8153 - val_accuracy: 0.8639\n",
      "Epoch 6/50\n",
      "11200/11200 [==============================] - 1s 101us/step - loss: 0.7392 - accuracy: 0.8897 - val_loss: 0.7367 - val_accuracy: 0.8882\n",
      "Epoch 7/50\n",
      "11200/11200 [==============================] - 1s 102us/step - loss: 0.6840 - accuracy: 0.8966 - val_loss: 0.6725 - val_accuracy: 0.8932\n",
      "Epoch 8/50\n",
      "11200/11200 [==============================] - 1s 101us/step - loss: 0.6577 - accuracy: 0.8957 - val_loss: 0.6280 - val_accuracy: 0.9132\n",
      "Epoch 9/50\n",
      "11200/11200 [==============================] - 1s 110us/step - loss: 0.6077 - accuracy: 0.9076 - val_loss: 0.6362 - val_accuracy: 0.8971\n",
      "Epoch 10/50\n",
      "11200/11200 [==============================] - 1s 121us/step - loss: 0.5884 - accuracy: 0.9104 - val_loss: 0.6187 - val_accuracy: 0.8946\n",
      "Epoch 11/50\n",
      "11200/11200 [==============================] - 2s 141us/step - loss: 0.5663 - accuracy: 0.9115 - val_loss: 0.5635 - val_accuracy: 0.9146\n",
      "Epoch 12/50\n",
      "11200/11200 [==============================] - 1s 104us/step - loss: 0.5468 - accuracy: 0.9147 - val_loss: 0.5523 - val_accuracy: 0.9125\n",
      "Epoch 13/50\n",
      "11200/11200 [==============================] - 1s 101us/step - loss: 0.5261 - accuracy: 0.9197 - val_loss: 0.5915 - val_accuracy: 0.9050\n",
      "Epoch 14/50\n",
      "11200/11200 [==============================] - 1s 99us/step - loss: 0.5144 - accuracy: 0.9204 - val_loss: 0.5362 - val_accuracy: 0.9193\n",
      "Epoch 15/50\n",
      "11200/11200 [==============================] - 1s 99us/step - loss: 0.5084 - accuracy: 0.9208 - val_loss: 0.5189 - val_accuracy: 0.9200\n",
      "Epoch 16/50\n",
      "11200/11200 [==============================] - 1s 100us/step - loss: 0.5017 - accuracy: 0.9186 - val_loss: 0.5172 - val_accuracy: 0.9193\n",
      "Epoch 17/50\n",
      "11200/11200 [==============================] - 1s 99us/step - loss: 0.4822 - accuracy: 0.9279 - val_loss: 0.5055 - val_accuracy: 0.9200\n",
      "Epoch 18/50\n",
      "11200/11200 [==============================] - 1s 99us/step - loss: 0.4774 - accuracy: 0.9264 - val_loss: 0.4994 - val_accuracy: 0.9236\n",
      "Epoch 19/50\n",
      "11200/11200 [==============================] - 1s 100us/step - loss: 0.4802 - accuracy: 0.9222 - val_loss: 0.5684 - val_accuracy: 0.8950\n",
      "Epoch 20/50\n",
      "11200/11200 [==============================] - 1s 101us/step - loss: 0.4656 - accuracy: 0.9277 - val_loss: 0.4858 - val_accuracy: 0.9189\n",
      "Epoch 21/50\n",
      "11200/11200 [==============================] - 1s 101us/step - loss: 0.4578 - accuracy: 0.9303 - val_loss: 0.5107 - val_accuracy: 0.9175\n",
      "Epoch 22/50\n",
      "11200/11200 [==============================] - 1s 100us/step - loss: 0.4528 - accuracy: 0.9319 - val_loss: 0.4701 - val_accuracy: 0.9264\n",
      "Epoch 23/50\n",
      "11200/11200 [==============================] - 1s 101us/step - loss: 0.4545 - accuracy: 0.9300 - val_loss: 0.4803 - val_accuracy: 0.9261\n",
      "Epoch 24/50\n",
      "11200/11200 [==============================] - 1s 102us/step - loss: 0.4430 - accuracy: 0.9304 - val_loss: 0.4689 - val_accuracy: 0.9261\n",
      "Epoch 25/50\n",
      "11200/11200 [==============================] - 1s 101us/step - loss: 0.4374 - accuracy: 0.9350 - val_loss: 0.4669 - val_accuracy: 0.9257\n",
      "Epoch 26/50\n",
      "11200/11200 [==============================] - 1s 100us/step - loss: 0.4362 - accuracy: 0.9338 - val_loss: 0.5047 - val_accuracy: 0.9096\n",
      "Epoch 27/50\n",
      "11200/11200 [==============================] - 1s 100us/step - loss: 0.4298 - accuracy: 0.9358 - val_loss: 0.4753 - val_accuracy: 0.9218\n",
      "Epoch 28/50\n",
      "11200/11200 [==============================] - 1s 99us/step - loss: 0.4262 - accuracy: 0.9362 - val_loss: 0.4731 - val_accuracy: 0.9196\n",
      "Epoch 29/50\n",
      "11200/11200 [==============================] - 1s 100us/step - loss: 0.4161 - accuracy: 0.9379 - val_loss: 0.5401 - val_accuracy: 0.9000\n",
      "Epoch 30/50\n",
      "11200/11200 [==============================] - 1s 100us/step - loss: 0.4336 - accuracy: 0.9316 - val_loss: 0.5041 - val_accuracy: 0.9068\n",
      "Epoch 31/50\n",
      "11200/11200 [==============================] - 1s 98us/step - loss: 0.4119 - accuracy: 0.9379 - val_loss: 0.4594 - val_accuracy: 0.9286\n",
      "Epoch 32/50\n",
      "11200/11200 [==============================] - 1s 99us/step - loss: 0.4105 - accuracy: 0.9373 - val_loss: 0.4694 - val_accuracy: 0.9196\n",
      "Epoch 33/50\n",
      "11200/11200 [==============================] - 1s 99us/step - loss: 0.4094 - accuracy: 0.9378 - val_loss: 0.4513 - val_accuracy: 0.9282\n",
      "Epoch 34/50\n",
      "11200/11200 [==============================] - 1s 99us/step - loss: 0.4117 - accuracy: 0.9353 - val_loss: 0.4682 - val_accuracy: 0.9236\n",
      "Epoch 35/50\n",
      "11200/11200 [==============================] - 1s 98us/step - loss: 0.4043 - accuracy: 0.9384 - val_loss: 0.4654 - val_accuracy: 0.9179\n",
      "Epoch 36/50\n",
      "11200/11200 [==============================] - 1s 95us/step - loss: 0.3980 - accuracy: 0.9413 - val_loss: 0.4384 - val_accuracy: 0.9271\n",
      "Epoch 37/50\n",
      "11200/11200 [==============================] - 1s 94us/step - loss: 0.4024 - accuracy: 0.9380 - val_loss: 0.4788 - val_accuracy: 0.9125\n",
      "Epoch 38/50\n",
      "11200/11200 [==============================] - 1s 94us/step - loss: 0.3974 - accuracy: 0.9401 - val_loss: 0.4750 - val_accuracy: 0.9175\n",
      "Epoch 39/50\n",
      "11200/11200 [==============================] - 1s 94us/step - loss: 0.3884 - accuracy: 0.9396 - val_loss: 0.4733 - val_accuracy: 0.9171\n",
      "Epoch 40/50\n",
      "11200/11200 [==============================] - 1s 96us/step - loss: 0.3923 - accuracy: 0.9386 - val_loss: 0.4863 - val_accuracy: 0.9136\n",
      "Epoch 41/50\n",
      "11200/11200 [==============================] - 1s 99us/step - loss: 0.3973 - accuracy: 0.9388 - val_loss: 0.4599 - val_accuracy: 0.9229\n",
      "Epoch 42/50\n",
      "11200/11200 [==============================] - 1s 96us/step - loss: 0.3905 - accuracy: 0.9382 - val_loss: 0.4499 - val_accuracy: 0.9221\n",
      "Epoch 43/50\n",
      "11200/11200 [==============================] - 1s 98us/step - loss: 0.3904 - accuracy: 0.9390 - val_loss: 0.4508 - val_accuracy: 0.9243\n",
      "Epoch 44/50\n",
      "11200/11200 [==============================] - 1s 97us/step - loss: 0.3964 - accuracy: 0.9354 - val_loss: 0.4294 - val_accuracy: 0.9279\n",
      "Epoch 45/50\n",
      "11200/11200 [==============================] - 1s 97us/step - loss: 0.3803 - accuracy: 0.9411 - val_loss: 0.4609 - val_accuracy: 0.9182\n",
      "Epoch 46/50\n",
      "11200/11200 [==============================] - 1s 97us/step - loss: 0.3753 - accuracy: 0.9437 - val_loss: 0.4530 - val_accuracy: 0.9171\n",
      "Epoch 47/50\n",
      "11200/11200 [==============================] - 1s 98us/step - loss: 0.3729 - accuracy: 0.9434 - val_loss: 0.4472 - val_accuracy: 0.9182\n",
      "Epoch 48/50\n",
      "11200/11200 [==============================] - 1s 97us/step - loss: 0.3755 - accuracy: 0.9387 - val_loss: 0.4500 - val_accuracy: 0.9200\n",
      "Epoch 49/50\n",
      "11200/11200 [==============================] - 1s 97us/step - loss: 0.3734 - accuracy: 0.9397 - val_loss: 0.4629 - val_accuracy: 0.9164\n",
      "Epoch 50/50\n",
      "11200/11200 [==============================] - 1s 98us/step - loss: 0.3702 - accuracy: 0.9419 - val_loss: 0.4507 - val_accuracy: 0.9218\n"
     ]
    }
   ],
   "source": [
    "#allenamento del modello\n",
    "\n",
    "autoencoder_model_history=autoencoder_model.fit(X_train,y_train,validation_data=(X_val,y_val),\n",
    "                                                batch_size=32,epochs=50)"
   ]
  },
  {
   "cell_type": "code",
   "execution_count": 35,
   "metadata": {},
   "outputs": [
    {
     "data": {
      "image/png": "[encoded data removed]",
      "text/plain": [
       "<Figure size 432x288 with 1 Axes>"
      ]
     },
     "metadata": {
      "needs_background": "light"
     },
     "output_type": "display_data"
    },
    {
     "data": {
      "image/png": "[encoded data removed]",
      "text/plain": [
       "<Figure size 432x288 with 1 Axes>"
      ]
     },
     "metadata": {
      "needs_background": "light"
     },
     "output_type": "display_data"
    }
   ],
   "source": [
    "#visualizzazione dei risultati del modello: accuracy e loss, entrambi per training set e validation set\n",
    "\n",
    "plot_nn_results(autoencoder_model_history,accuracy=True,val_accuracy=True)"
   ]
  },
  {
   "cell_type": "code",
   "execution_count": 36,
   "metadata": {},
   "outputs": [],
   "source": [
    "#vengono predette le classi del training set\n",
    "\n",
    "y_train_pred_ae=autoencoder_model.predict_classes(X_train)"
   ]
  },
  {
   "cell_type": "code",
   "execution_count": 37,
   "metadata": {},
   "outputs": [],
   "source": [
    "#vengono predette le classi del validation set\n",
    "\n",
    "y_val_pred_ae=autoencoder_model.predict_classes(X_val)"
   ]
  },
  {
   "cell_type": "code",
   "execution_count": 38,
   "metadata": {},
   "outputs": [
    {
     "name": "stdout",
     "output_type": "stream",
     "text": [
      "CLASSIFICATION REPORT FOR TRAINING SET:\n",
      "\n",
      "              precision    recall  f1-score   support\n",
      "\n",
      "           0       0.95      0.97      0.96      1030\n",
      "           1       0.93      0.95      0.94      1009\n",
      "           2       0.96      0.92      0.94      1072\n",
      "           3       1.00      0.96      0.98      1049\n",
      "           4       0.98      0.93      0.95      1076\n",
      "           5       0.88      0.97      0.92      1041\n",
      "           6       0.94      0.88      0.91      1012\n",
      "           7       0.95      0.97      0.96      1077\n",
      "           8       0.97      0.93      0.95      1047\n",
      "           9       0.90      0.93      0.92      1060\n",
      "          10       0.91      0.97      0.94       727\n",
      "\n",
      "    accuracy                           0.94     11200\n",
      "   macro avg       0.94      0.94      0.94     11200\n",
      "weighted avg       0.94      0.94      0.94     11200\n",
      "\n",
      "CLASSIFICATION REPORT FOR VALIDATION SET:\n",
      "\n",
      "              precision    recall  f1-score   support\n",
      "\n",
      "           0       0.91      0.95      0.93       265\n",
      "           1       0.92      0.90      0.91       256\n",
      "           2       0.92      0.88      0.90       274\n",
      "           3       1.00      0.93      0.96       280\n",
      "           4       0.93      0.93      0.93       260\n",
      "           5       0.92      0.95      0.93       256\n",
      "           6       0.93      0.89      0.91       257\n",
      "           7       0.91      0.98      0.94       250\n",
      "           8       0.96      0.88      0.92       275\n",
      "           9       0.87      0.90      0.89       261\n",
      "          10       0.85      0.98      0.91       166\n",
      "\n",
      "    accuracy                           0.92      2800\n",
      "   macro avg       0.92      0.92      0.92      2800\n",
      "weighted avg       0.92      0.92      0.92      2800\n",
      "\n"
     ]
    }
   ],
   "source": [
    "#vengono stampati i classification reports sia del training set che del validation set\n",
    "\n",
    "print(\"CLASSIFICATION REPORT FOR TRAINING SET:\\n\")\n",
    "print(classification_report(y_train_true,y_train_pred_ae))\n",
    "print(\"CLASSIFICATION REPORT FOR VALIDATION SET:\\n\")\n",
    "print(classification_report(y_val_true,y_val_pred_ae))"
   ]
  },
  {
   "cell_type": "code",
   "execution_count": 39,
   "metadata": {},
   "outputs": [],
   "source": [
    "#viene importato il file di test\n",
    "\n",
    "X_test=reshape_dataset(\"/home/davide/Scrivania/Advanced Machine Learning/Assignment 2/x_test.obj\")"
   ]
  },
  {
   "cell_type": "code",
   "execution_count": 40,
   "metadata": {},
   "outputs": [],
   "source": [
    "#vengono predette le classi del test set\n",
    "\n",
    "y_test_pred_ae=autoencoder_model.predict_classes(X_test)"
   ]
  },
  {
   "cell_type": "code",
   "execution_count": 41,
   "metadata": {},
   "outputs": [],
   "source": [
    "#vengono scritte le predizioni delle classi del test set in un file di testo  \n",
    "\n",
    "output_file = open(\"/home/davide/Scrivania/Advanced Machine Learning/Assignment 2/Davide_Sangalli_848013_score2.txt\",\"w\")\n",
    "\n",
    "for i in y_test_pred_ae:\n",
    "    output_file.write(str(i+16)+'\\n')\n",
    "\n",
    "output_file.close()"
   ]
  },
  {
   "cell_type": "code",
   "execution_count": null,
   "metadata": {},
   "outputs": [],
   "source": []
  }
 ],
 "metadata": {
  "kernelspec": {
   "display_name": "Python 3",
   "language": "python",
   "name": "python3"
  },
  "language_info": {
   "codemirror_mode": {
    "name": "ipython",
    "version": 3
   },
   "file_extension": ".py",
   "mimetype": "text/x-python",
   "name": "python",
   "nbconvert_exporter": "python",
   "pygments_lexer": "ipython3",
   "version": "3.6.8"
  }
 },
 "nbformat": 4,
 "nbformat_minor": 2
}
