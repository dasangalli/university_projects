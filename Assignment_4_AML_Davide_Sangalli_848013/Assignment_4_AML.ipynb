{
 "cells": [
  {
   "cell_type": "code",
   "execution_count": 0,
   "metadata": {
    "colab": {},
    "colab_type": "code",
    "id": "FlSXXfYx_3bK"
   },
   "outputs": [],
   "source": [
    "# Il dataset è disponibile al seguente link: https://www.kaggle.com/alessiocorrado99/animals10"
   ]
  },
  {
   "cell_type": "code",
   "execution_count": 2,
   "metadata": {
    "colab": {
     "base_uri": "https://localhost:8080/",
     "height": 129
    },
    "colab_type": "code",
    "id": "Hqf9APuGTGVf",
    "outputId": "8048e03b-84ff-4fc6-abb6-43c1d14addc8"
   },
   "outputs": [
    {
     "name": "stdout",
     "output_type": "stream",
     "text": [
      "Go to this URL in a browser: https://accounts.google.com/o/oauth2/auth?client_id=947318989803-6bn6qk8qdgf4n4g3pfee6491hc0brc4i.apps.googleusercontent.com&redirect_uri=urn%3aietf%3awg%3aoauth%3a2.0%3aoob&response_type=code&scope=email%20https%3a%2f%2fwww.googleapis.com%2fauth%2fdocs.test%20https%3a%2f%2fwww.googleapis.com%2fauth%2fdrive%20https%3a%2f%2fwww.googleapis.com%2fauth%2fdrive.photos.readonly%20https%3a%2f%2fwww.googleapis.com%2fauth%2fpeopleapi.readonly\n",
      "\n",
      "Enter your authorization code:\n",
      "··········\n",
      "Mounted at /content/drive\n"
     ]
    }
   ],
   "source": [
    "from google.colab import drive\n",
    "drive.mount('/content/drive')"
   ]
  },
  {
   "cell_type": "code",
   "execution_count": 0,
   "metadata": {
    "colab": {},
    "colab_type": "code",
    "id": "qnjfJBJTeLU9"
   },
   "outputs": [],
   "source": [
    "import zipfile \n",
    "zip_file= zipfile.ZipFile('/content/drive/My Drive/animals10.zip','r')\n",
    "zip_file.extractall()\n",
    "zip_file.close()"
   ]
  },
  {
   "cell_type": "code",
   "execution_count": 0,
   "metadata": {
    "colab": {},
    "colab_type": "code",
    "id": "RMWnAXNkfowr"
   },
   "outputs": [],
   "source": [
    "import os, os.path\n",
    "import shutil\n",
    "import glob\n",
    "from keras.preprocessing import image\n",
    "from keras.applications import vgg16\n",
    "from keras.models import Model\n",
    "import numpy as np\n",
    "from sklearn.linear_model import LogisticRegression\n",
    "from sklearn.metrics import classification_report, confusion_matrix, accuracy_score\n",
    "from matplotlib import pyplot as plt\n",
    "import seaborn as sns"
   ]
  },
  {
   "cell_type": "code",
   "execution_count": 0,
   "metadata": {
    "colab": {},
    "colab_type": "code",
    "id": "U9TGgtgVC6On"
   },
   "outputs": [],
   "source": [
    "def check_folder(dir_name):\n",
    "  if (os.path.isdir(\"/content/drive/My Drive/dataset/{}\".format(dir_name))):\n",
    "    shutil.rmtree(\"/content/drive/My Drive/dataset/{}\".format(dir_name))\n",
    "    os.mkdir(\"/content/drive/My Drive/dataset/{}\".format(dir_name))"
   ]
  },
  {
   "cell_type": "code",
   "execution_count": 0,
   "metadata": {
    "colab": {},
    "colab_type": "code",
    "id": "08kDyp5AEX75"
   },
   "outputs": [],
   "source": [
    "check_folder(\"train_imgs\")\n",
    "check_folder(\"test_imgs\")"
   ]
  },
  {
   "cell_type": "code",
   "execution_count": 0,
   "metadata": {
    "colab": {},
    "colab_type": "code",
    "id": "XALjXeAiFqPS"
   },
   "outputs": [],
   "source": [
    "def create_subfolder(dir_name):\n",
    "  if (os.path.isdir(\"/content/drive/My Drive/dataset/{}\".format(dir_name))):\n",
    "    os.mkdir(\"/content/drive/My Drive/dataset/{}\".format(dir_name)+\"/\"+\"cane\")\n",
    "    os.mkdir(\"/content/drive/My Drive/dataset/{}\".format(dir_name)+\"/\"+\"cavallo\")\n",
    "    os.mkdir(\"/content/drive/My Drive/dataset/{}\".format(dir_name)+\"/\"+\"elefante\")\n",
    "    os.mkdir(\"/content/drive/My Drive/dataset/{}\".format(dir_name)+\"/\"+\"farfalla\") \n",
    "    os.mkdir(\"/content/drive/My Drive/dataset/{}\".format(dir_name)+\"/\"+\"gallina\")\n",
    "    os.mkdir(\"/content/drive/My Drive/dataset/{}\".format(dir_name)+\"/\"+\"gatto\")\n",
    "    os.mkdir(\"/content/drive/My Drive/dataset/{}\".format(dir_name)+\"/\"+\"mucca\")\n",
    "    os.mkdir(\"/content/drive/My Drive/dataset/{}\".format(dir_name)+\"/\"+\"pecora\")\n",
    "    os.mkdir(\"/content/drive/My Drive/dataset/{}\".format(dir_name)+\"/\"+\"ragno\") \n",
    "    os.mkdir(\"/content/drive/My Drive/dataset/{}\".format(dir_name)+\"/\"+\"scoiattolo\") \n"
   ]
  },
  {
   "cell_type": "code",
   "execution_count": 0,
   "metadata": {
    "colab": {},
    "colab_type": "code",
    "id": "rHKZthYAGZn1"
   },
   "outputs": [],
   "source": [
    "create_subfolder(\"train_imgs\")\n",
    "create_subfolder(\"test_imgs\")"
   ]
  },
  {
   "cell_type": "code",
   "execution_count": 0,
   "metadata": {
    "colab": {},
    "colab_type": "code",
    "id": "xUHIRcrTfouF"
   },
   "outputs": [],
   "source": [
    "def get_number_imgs(dir_name):\n",
    "    count=0\n",
    "    for img in os.listdir(\"animals/raw-img/{}\".format(dir_name)): \n",
    "        count+=1\n",
    "    return count"
   ]
  },
  {
   "cell_type": "code",
   "execution_count": 0,
   "metadata": {
    "colab": {},
    "colab_type": "code",
    "id": "Lypxu0WXfosI"
   },
   "outputs": [],
   "source": [
    "def split_images(dir_name):\n",
    "    \n",
    "    source_dir=\"animals/raw-img/{}\".format(dir_name)\n",
    "    total_imgs=get_number_imgs(dir_name)\n",
    "    \n",
    "    i=1\n",
    "    for filename in os.listdir(source_dir):\n",
    "        if(i<=total_imgs):\n",
    "            os.rename(source_dir+\"/\"+filename,source_dir+\"/{}_{}.jpeg\".format(dir_name,i))\n",
    "        i+=1\n",
    "            "
   ]
  },
  {
   "cell_type": "code",
   "execution_count": 0,
   "metadata": {
    "colab": {},
    "colab_type": "code",
    "id": "v3SlbPBpfopr"
   },
   "outputs": [],
   "source": [
    "split_images(\"cane\")\n",
    "split_images(\"cavallo\")\n",
    "split_images(\"elefante\")\n",
    "split_images(\"farfalla\")\n",
    "split_images(\"gallina\")\n",
    "split_images(\"gatto\")\n",
    "split_images(\"mucca\")\n",
    "split_images(\"pecora\")\n",
    "split_images(\"ragno\")\n",
    "split_images(\"scoiattolo\")"
   ]
  },
  {
   "cell_type": "code",
   "execution_count": 0,
   "metadata": {
    "colab": {},
    "colab_type": "code",
    "id": "VNUCzvrwfokW"
   },
   "outputs": [],
   "source": [
    "def get_numbers(dir_name):\n",
    "    \n",
    "    source_dir=\"animals/raw-img/{}\".format(dir_name)\n",
    "    \n",
    "    numbers=[]\n",
    "    \n",
    "    for filename in os.listdir(source_dir):\n",
    "        name=filename.split('.')[0]\n",
    "        n=name.split('_')[1]\n",
    "        number=int(n)\n",
    "        numbers.append(number)\n",
    "    \n",
    "    return sorted(numbers)"
   ]
  },
  {
   "cell_type": "code",
   "execution_count": 0,
   "metadata": {
    "colab": {},
    "colab_type": "code",
    "id": "kW6kS9AVfoZb"
   },
   "outputs": [],
   "source": [
    "def pick_img_train(dir_name,limit=300):\n",
    "    \n",
    "    source_dir=\"animals/raw-img/{}\".format(dir_name)\n",
    "    target_dir=\"/content/drive/My Drive/dataset/train_imgs/{}\".format(dir_name)\n",
    "    \n",
    "    numbers=get_numbers(dir_name)\n",
    "    \n",
    "    count=0\n",
    "    i=0\n",
    "\n",
    "    while(count<limit):\n",
    "      shutil.copy(source_dir+\"/{}_{}.jpeg\".format(dir_name,numbers[i]),\n",
    "                  target_dir+\"/{}_{}.jpeg\".format(dir_name,numbers[i]))\n",
    "      \n",
    "      count+=1\n",
    "      i+=1"
   ]
  },
  {
   "cell_type": "code",
   "execution_count": 0,
   "metadata": {
    "colab": {},
    "colab_type": "code",
    "id": "lEGp_BvhfoMa"
   },
   "outputs": [],
   "source": [
    "pick_img_train(\"cane\")\n",
    "pick_img_train(\"cavallo\")\n",
    "pick_img_train(\"elefante\")\n",
    "pick_img_train(\"farfalla\")\n",
    "pick_img_train(\"gallina\")\n",
    "pick_img_train(\"gatto\")\n",
    "pick_img_train(\"mucca\")\n",
    "pick_img_train(\"pecora\")\n",
    "pick_img_train(\"ragno\")\n",
    "pick_img_train(\"scoiattolo\")"
   ]
  },
  {
   "cell_type": "code",
   "execution_count": 0,
   "metadata": {
    "colab": {},
    "colab_type": "code",
    "id": "f7ok1O1Dfnzy"
   },
   "outputs": [],
   "source": [
    "def pick_img_test(dir_name,limit=510):\n",
    "    \n",
    "    source_dir=\"animals/raw-img/{}\".format(dir_name)\n",
    "    target_dir=\"/content/drive/My Drive/dataset/test_imgs/{}\".format(dir_name)\n",
    "    \n",
    "    numbers=get_numbers(dir_name)\n",
    "    \n",
    "    count=310\n",
    "    i=310\n",
    "    while(count<limit):\n",
    "      shutil.copy(source_dir+\"/{}_{}.jpeg\".format(dir_name,numbers[i]),\n",
    "                  target_dir+\"/{}_{}.jpeg\".format(dir_name,numbers[i]))\n",
    "      \n",
    "      count+=1\n",
    "      i+=1\n",
    "      "
   ]
  },
  {
   "cell_type": "code",
   "execution_count": 0,
   "metadata": {
    "colab": {},
    "colab_type": "code",
    "id": "Gb_C_snFTk7S"
   },
   "outputs": [],
   "source": [
    "pick_img_test(\"cane\")\n",
    "pick_img_test(\"cavallo\")\n",
    "pick_img_test(\"elefante\")\n",
    "pick_img_test(\"farfalla\")\n",
    "pick_img_test(\"gallina\")\n",
    "pick_img_test(\"gatto\")\n",
    "pick_img_test(\"mucca\")\n",
    "pick_img_test(\"pecora\")\n",
    "pick_img_test(\"ragno\")\n",
    "pick_img_test(\"scoiattolo\")"
   ]
  },
  {
   "cell_type": "code",
   "execution_count": 34,
   "metadata": {
    "colab": {
     "base_uri": "https://localhost:8080/",
     "height": 54
    },
    "colab_type": "code",
    "id": "9zOjYBEWYEmz",
    "outputId": "c8e7c18a-41ad-4b0f-8905-ff3403bef24d"
   },
   "outputs": [
    {
     "name": "stdout",
     "output_type": "stream",
     "text": [
      "Downloading data from https://github.com/fchollet/deep-learning-models/releases/download/v0.1/vgg16_weights_tf_dim_ordering_tf_kernels_notop.h5\n",
      "58892288/58889256 [==============================] - 3s 0us/step\n"
     ]
    }
   ],
   "source": [
    "base_net=vgg16.VGG16(input_shape=(224,224,3),weights='imagenet',include_top=False)"
   ]
  },
  {
   "cell_type": "code",
   "execution_count": 35,
   "metadata": {
    "colab": {
     "base_uri": "https://localhost:8080/",
     "height": 919
    },
    "colab_type": "code",
    "id": "c1_atNZx_Xqg",
    "outputId": "b510dc43-0377-4297-ac63-10ea9284f5c7"
   },
   "outputs": [
    {
     "name": "stdout",
     "output_type": "stream",
     "text": [
      "Model: \"model_2\"\n",
      "_________________________________________________________________\n",
      "Layer (type)                 Output Shape              Param #   \n",
      "=================================================================\n",
      "input_2 (InputLayer)         (None, 224, 224, 3)       0         \n",
      "_________________________________________________________________\n",
      "block1_conv1 (Conv2D)        (None, 224, 224, 64)      1792      \n",
      "_________________________________________________________________\n",
      "block1_conv2 (Conv2D)        (None, 224, 224, 64)      36928     \n",
      "_________________________________________________________________\n",
      "block1_pool (MaxPooling2D)   (None, 112, 112, 64)      0         \n",
      "_________________________________________________________________\n",
      "block2_conv1 (Conv2D)        (None, 112, 112, 128)     73856     \n",
      "_________________________________________________________________\n",
      "block2_conv2 (Conv2D)        (None, 112, 112, 128)     147584    \n",
      "_________________________________________________________________\n",
      "block2_pool (MaxPooling2D)   (None, 56, 56, 128)       0         \n",
      "_________________________________________________________________\n",
      "block3_conv1 (Conv2D)        (None, 56, 56, 256)       295168    \n",
      "_________________________________________________________________\n",
      "block3_conv2 (Conv2D)        (None, 56, 56, 256)       590080    \n",
      "_________________________________________________________________\n",
      "block3_conv3 (Conv2D)        (None, 56, 56, 256)       590080    \n",
      "_________________________________________________________________\n",
      "block3_pool (MaxPooling2D)   (None, 28, 28, 256)       0         \n",
      "_________________________________________________________________\n",
      "block4_conv1 (Conv2D)        (None, 28, 28, 512)       1180160   \n",
      "_________________________________________________________________\n",
      "block4_conv2 (Conv2D)        (None, 28, 28, 512)       2359808   \n",
      "_________________________________________________________________\n",
      "block4_conv3 (Conv2D)        (None, 28, 28, 512)       2359808   \n",
      "_________________________________________________________________\n",
      "block4_pool (MaxPooling2D)   (None, 14, 14, 512)       0         \n",
      "_________________________________________________________________\n",
      "block5_conv1 (Conv2D)        (None, 14, 14, 512)       2359808   \n",
      "_________________________________________________________________\n",
      "block5_conv2 (Conv2D)        (None, 14, 14, 512)       2359808   \n",
      "_________________________________________________________________\n",
      "block5_conv3 (Conv2D)        (None, 14, 14, 512)       2359808   \n",
      "_________________________________________________________________\n",
      "block5_pool (MaxPooling2D)   (None, 7, 7, 512)         0         \n",
      "=================================================================\n",
      "Total params: 14,714,688\n",
      "Trainable params: 14,714,688\n",
      "Non-trainable params: 0\n",
      "_________________________________________________________________\n"
     ]
    },
    {
     "name": "stderr",
     "output_type": "stream",
     "text": [
      "/usr/local/lib/python3.6/dist-packages/ipykernel_launcher.py:1: UserWarning: Update your `Model` call to the Keras 2 API: `Model(inputs=Tensor(\"in..., outputs=Tensor(\"bl...)`\n",
      "  \"\"\"Entry point for launching an IPython kernel.\n"
     ]
    }
   ],
   "source": [
    "net=Model(input=base_net.input,output=base_net.output)\n",
    "net.summary()"
   ]
  },
  {
   "cell_type": "code",
   "execution_count": 0,
   "metadata": {
    "colab": {},
    "colab_type": "code",
    "id": "fvZ_iB6_DQ7Y"
   },
   "outputs": [],
   "source": [
    "def load_images(dir_name,neural_network):\n",
    "\n",
    "  vgg16_feature_list = []\n",
    "  names=[\"cane\",\"cavallo\",\"elefante\",\"farfalla\",\"gallina\",\"gatto\",\"mucca\",\"pecora\",\"ragno\",\"scoiattolo\"]\n",
    "  root_dir=\"drive/My Drive/dataset/{}\".format(dir_name)\n",
    "\n",
    "  source_dir_list=[]\n",
    "\n",
    "  for name in names:\n",
    "    source_dir_list.append(root_dir+\"/\"+name)\n",
    "\n",
    "  for folder in source_dir_list:\n",
    "    for img in glob.glob(os.path.join(folder,\"*\")):\n",
    "      img = image.load_img(img, target_size=(224,224))\n",
    "      img = image.img_to_array(img)\n",
    "      img = np.expand_dims(img, axis=0)\n",
    "      img = vgg16.preprocess_input(img)\n",
    "\n",
    "      vgg16_feature = neural_network.predict(img)\n",
    "      vgg16_feature_np = np.array(vgg16_feature)\n",
    "      vgg16_feature_list.append(vgg16_feature_np.flatten())\n",
    "\n",
    "\n",
    "  vgg16_feature_list_np = np.array(vgg16_feature_list)\n",
    "\n",
    "  return vgg16_feature_list_np\n",
    "\n",
    "  "
   ]
  },
  {
   "cell_type": "code",
   "execution_count": 0,
   "metadata": {
    "colab": {},
    "colab_type": "code",
    "id": "tiq7Y7P7HQxW"
   },
   "outputs": [],
   "source": [
    "train_images=load_images(\"train_imgs\",net)"
   ]
  },
  {
   "cell_type": "code",
   "execution_count": 0,
   "metadata": {
    "colab": {},
    "colab_type": "code",
    "id": "bSpFVUuQMnot"
   },
   "outputs": [],
   "source": [
    "test_images=load_images(\"test_imgs\",net)"
   ]
  },
  {
   "cell_type": "code",
   "execution_count": 0,
   "metadata": {
    "colab": {},
    "colab_type": "code",
    "id": "Ht8UZDn1V4_3"
   },
   "outputs": [],
   "source": [
    "def create_labels(dir_name):\n",
    "  names=[\"cane\",\"cavallo\",\"elefante\",\"farfalla\",\"gallina\",\"gatto\",\"mucca\",\"pecora\",\"ragno\",\"scoiattolo\"]\n",
    "  root_dir=\"drive/My Drive/dataset/{}\".format(dir_name)\n",
    "\n",
    "  source_dir_list=[]\n",
    "\n",
    "  for name in names:\n",
    "    source_dir_list.append(root_dir+\"/\"+name)\n",
    "\n",
    "  labels_list=[]\n",
    "\n",
    "  for folder in source_dir_list:\n",
    "    for img in os.listdir(folder):\n",
    "      name=img.split('.')[0]\n",
    "      label=name.split('_')[0]\n",
    "      if(label==\"cane\"):\n",
    "        labels_list.append(0)\n",
    "      if(label==\"cavallo\"):\n",
    "        labels_list.append(1)\n",
    "      if(label==\"elefante\"):\n",
    "        labels_list.append(2)\n",
    "      if(label==\"farfalla\"):\n",
    "        labels_list.append(3)\n",
    "      if(label==\"gallina\"):\n",
    "        labels_list.append(4)\n",
    "      if(label==\"gatto\"):\n",
    "        labels_list.append(5)\n",
    "      if(label==\"mucca\"):\n",
    "        labels_list.append(6)\n",
    "      if(label==\"pecora\"):\n",
    "        labels_list.append(7)\n",
    "      if(label==\"ragno\"):\n",
    "        labels_list.append(8)\n",
    "      if(label==\"scoiattolo\"):\n",
    "        labels_list.append(9)\n",
    "\n",
    "  return labels_list\n",
    "\n",
    "\n",
    "\n"
   ]
  },
  {
   "cell_type": "code",
   "execution_count": 0,
   "metadata": {
    "colab": {},
    "colab_type": "code",
    "id": "5ZNlsYqSY1s7"
   },
   "outputs": [],
   "source": [
    "train_labels=create_labels(\"train_imgs\")"
   ]
  },
  {
   "cell_type": "code",
   "execution_count": 0,
   "metadata": {
    "colab": {},
    "colab_type": "code",
    "id": "YGKby-AJY6MB"
   },
   "outputs": [],
   "source": [
    "test_labels=create_labels(\"test_imgs\")"
   ]
  },
  {
   "cell_type": "code",
   "execution_count": 41,
   "metadata": {
    "colab": {
     "base_uri": "https://localhost:8080/",
     "height": 182
    },
    "colab_type": "code",
    "id": "0a0uyk-Nf9h5",
    "outputId": "eac7d7c3-c5f4-4746-beee-7fed97d1a759"
   },
   "outputs": [
    {
     "name": "stderr",
     "output_type": "stream",
     "text": [
      "/usr/local/lib/python3.6/dist-packages/scipy/optimize/linesearch.py:314: LineSearchWarning: The line search algorithm did not converge\n",
      "  warn('The line search algorithm did not converge', LineSearchWarning)\n",
      "/usr/local/lib/python3.6/dist-packages/sklearn/utils/optimize.py:195: UserWarning: Line Search failed\n",
      "  warnings.warn('Line Search failed')\n"
     ]
    },
    {
     "data": {
      "text/plain": [
       "LogisticRegression(C=1.0, class_weight='balanced', dual=False,\n",
       "                   fit_intercept=True, intercept_scaling=1, l1_ratio=None,\n",
       "                   max_iter=200, multi_class='auto', n_jobs=None, penalty='l2',\n",
       "                   random_state=1, solver='newton-cg', tol=0.0001, verbose=0,\n",
       "                   warm_start=False)"
      ]
     },
     "execution_count": 41,
     "metadata": {
      "tags": []
     },
     "output_type": "execute_result"
    }
   ],
   "source": [
    "classifier=LogisticRegression(class_weight='balanced', multi_class=\"auto\",max_iter=200, random_state=1,solver='newton-cg')\n",
    "classifier.fit(train_images,train_labels)"
   ]
  },
  {
   "cell_type": "code",
   "execution_count": 0,
   "metadata": {
    "colab": {},
    "colab_type": "code",
    "id": "WwHc-547hyOb"
   },
   "outputs": [],
   "source": [
    "train_set_pred=classifier.predict(train_images)"
   ]
  },
  {
   "cell_type": "code",
   "execution_count": 43,
   "metadata": {
    "colab": {
     "base_uri": "https://localhost:8080/",
     "height": 35
    },
    "colab_type": "code",
    "id": "uD8DT6ohiM83",
    "outputId": "2f33bce8-31c7-4bc9-c77e-4b122e32d8ed"
   },
   "outputs": [
    {
     "data": {
      "text/plain": [
       "1.0"
      ]
     },
     "execution_count": 43,
     "metadata": {
      "tags": []
     },
     "output_type": "execute_result"
    }
   ],
   "source": [
    "accuracy_score(train_set_pred,train_labels)"
   ]
  },
  {
   "cell_type": "code",
   "execution_count": 0,
   "metadata": {
    "colab": {},
    "colab_type": "code",
    "id": "IfJP0S04jBxy"
   },
   "outputs": [],
   "source": [
    "test_set_pred=classifier.predict(test_images)"
   ]
  },
  {
   "cell_type": "code",
   "execution_count": 45,
   "metadata": {
    "colab": {
     "base_uri": "https://localhost:8080/",
     "height": 366
    },
    "colab_type": "code",
    "id": "wgiMWY--kkCf",
    "outputId": "33fb5f1a-7c2f-43df-d002-61cbd78c1831"
   },
   "outputs": [
    {
     "name": "stdout",
     "output_type": "stream",
     "text": [
      "CLASSIFICATION REPORT FOR THE FIRST CUT\n",
      "\n",
      "              precision    recall  f1-score   support\n",
      "\n",
      "           0       0.87      0.94      0.90       186\n",
      "           1       0.90      0.86      0.88       207\n",
      "           2       0.94      0.95      0.95       198\n",
      "           3       0.98      0.92      0.95       212\n",
      "           4       0.96      0.95      0.95       203\n",
      "           5       0.94      0.96      0.95       195\n",
      "           6       0.86      0.87      0.87       199\n",
      "           7       0.88      0.88      0.88       198\n",
      "           8       0.95      0.95      0.95       199\n",
      "           9       0.95      0.94      0.95       203\n",
      "\n",
      "    accuracy                           0.92      2000\n",
      "   macro avg       0.92      0.92      0.92      2000\n",
      "weighted avg       0.92      0.92      0.92      2000\n",
      "\n"
     ]
    }
   ],
   "source": [
    "print(\"CLASSIFICATION REPORT FOR THE FIRST CUT\\n\")\n",
    "print(classification_report(test_set_pred,test_labels))"
   ]
  },
  {
   "cell_type": "code",
   "execution_count": 47,
   "metadata": {
    "colab": {
     "base_uri": "https://localhost:8080/",
     "height": 441
    },
    "colab_type": "code",
    "id": "Z5lJXh4avjZz",
    "outputId": "2c52c85f-9467-48ef-82d2-90311a67b90e"
   },
   "outputs": [
    {
     "name": "stdout",
     "output_type": "stream",
     "text": [
      "CONFUSION MATRIX FOR THE FIRST CUT\n",
      "\n"
     ]
    },
    {
     "data": {
      "image/png": "[encoded data removed]",
      "text/plain": [
       "<Figure size 576x432 with 2 Axes>"
      ]
     },
     "metadata": {
      "tags": []
     },
     "output_type": "display_data"
    }
   ],
   "source": [
    "print(\"CONFUSION MATRIX FOR THE FIRST CUT\\n\")\n",
    "\n",
    "%matplotlib inline\n",
    "\n",
    "matrix = confusion_matrix(test_labels,test_set_pred)\n",
    "plt.figure(figsize=(8, 6))\n",
    "ax = sns.heatmap(matrix,annot=True,cbar=True, cmap=\"YlGnBu\", fmt=\"d\")\n",
    "ax.set_ylim(len(matrix)-0.01, -0.01)\n",
    "\n",
    "plt.ylabel('True Label')\n",
    "plt.xlabel('Predicted Label')\n",
    "plt.title('Confusion Matrix')\n",
    "\n",
    "plt.show()"
   ]
  },
  {
   "cell_type": "code",
   "execution_count": 48,
   "metadata": {
    "colab": {
     "base_uri": "https://localhost:8080/",
     "height": 74
    },
    "colab_type": "code",
    "id": "wyFY8ZfbQrsu",
    "outputId": "c8180a3e-8a34-41e7-f1ed-735689d5877b"
   },
   "outputs": [
    {
     "name": "stderr",
     "output_type": "stream",
     "text": [
      "/usr/local/lib/python3.6/dist-packages/ipykernel_launcher.py:1: UserWarning: Update your `Model` call to the Keras 2 API: `Model(inputs=Tensor(\"in..., outputs=Tensor(\"bl...)`\n",
      "  \"\"\"Entry point for launching an IPython kernel.\n"
     ]
    }
   ],
   "source": [
    "net_2=Model(input=base_net.input,output=base_net.layers[-5].output)"
   ]
  },
  {
   "cell_type": "code",
   "execution_count": 49,
   "metadata": {
    "colab": {
     "base_uri": "https://localhost:8080/",
     "height": 715
    },
    "colab_type": "code",
    "id": "GAihhTD7QtiA",
    "outputId": "8780ccf4-d72e-442a-e891-d725f01b9d4f"
   },
   "outputs": [
    {
     "name": "stdout",
     "output_type": "stream",
     "text": [
      "Model: \"model_3\"\n",
      "_________________________________________________________________\n",
      "Layer (type)                 Output Shape              Param #   \n",
      "=================================================================\n",
      "input_2 (InputLayer)         (None, 224, 224, 3)       0         \n",
      "_________________________________________________________________\n",
      "block1_conv1 (Conv2D)        (None, 224, 224, 64)      1792      \n",
      "_________________________________________________________________\n",
      "block1_conv2 (Conv2D)        (None, 224, 224, 64)      36928     \n",
      "_________________________________________________________________\n",
      "block1_pool (MaxPooling2D)   (None, 112, 112, 64)      0         \n",
      "_________________________________________________________________\n",
      "block2_conv1 (Conv2D)        (None, 112, 112, 128)     73856     \n",
      "_________________________________________________________________\n",
      "block2_conv2 (Conv2D)        (None, 112, 112, 128)     147584    \n",
      "_________________________________________________________________\n",
      "block2_pool (MaxPooling2D)   (None, 56, 56, 128)       0         \n",
      "_________________________________________________________________\n",
      "block3_conv1 (Conv2D)        (None, 56, 56, 256)       295168    \n",
      "_________________________________________________________________\n",
      "block3_conv2 (Conv2D)        (None, 56, 56, 256)       590080    \n",
      "_________________________________________________________________\n",
      "block3_conv3 (Conv2D)        (None, 56, 56, 256)       590080    \n",
      "_________________________________________________________________\n",
      "block3_pool (MaxPooling2D)   (None, 28, 28, 256)       0         \n",
      "_________________________________________________________________\n",
      "block4_conv1 (Conv2D)        (None, 28, 28, 512)       1180160   \n",
      "_________________________________________________________________\n",
      "block4_conv2 (Conv2D)        (None, 28, 28, 512)       2359808   \n",
      "_________________________________________________________________\n",
      "block4_conv3 (Conv2D)        (None, 28, 28, 512)       2359808   \n",
      "_________________________________________________________________\n",
      "block4_pool (MaxPooling2D)   (None, 14, 14, 512)       0         \n",
      "=================================================================\n",
      "Total params: 7,635,264\n",
      "Trainable params: 7,635,264\n",
      "Non-trainable params: 0\n",
      "_________________________________________________________________\n"
     ]
    }
   ],
   "source": [
    "net_2.summary()"
   ]
  },
  {
   "cell_type": "code",
   "execution_count": 0,
   "metadata": {
    "colab": {},
    "colab_type": "code",
    "id": "yA8OTTf5RdsY"
   },
   "outputs": [],
   "source": [
    "train_images_2=load_images(\"train_imgs\",net_2)"
   ]
  },
  {
   "cell_type": "code",
   "execution_count": 0,
   "metadata": {
    "colab": {},
    "colab_type": "code",
    "id": "MhgED4DITxaa"
   },
   "outputs": [],
   "source": [
    "test_images_2=load_images(\"test_imgs\",net_2)"
   ]
  },
  {
   "cell_type": "code",
   "execution_count": 52,
   "metadata": {
    "colab": {
     "base_uri": "https://localhost:8080/",
     "height": 182
    },
    "colab_type": "code",
    "id": "3QFxDmGtzY-8",
    "outputId": "de6338e2-89f4-475c-aba2-d1caaa7a74d7"
   },
   "outputs": [
    {
     "name": "stderr",
     "output_type": "stream",
     "text": [
      "/usr/local/lib/python3.6/dist-packages/scipy/optimize/linesearch.py:314: LineSearchWarning: The line search algorithm did not converge\n",
      "  warn('The line search algorithm did not converge', LineSearchWarning)\n",
      "/usr/local/lib/python3.6/dist-packages/sklearn/utils/optimize.py:195: UserWarning: Line Search failed\n",
      "  warnings.warn('Line Search failed')\n"
     ]
    },
    {
     "data": {
      "text/plain": [
       "LogisticRegression(C=1.0, class_weight='balanced', dual=False,\n",
       "                   fit_intercept=True, intercept_scaling=1, l1_ratio=None,\n",
       "                   max_iter=200, multi_class='auto', n_jobs=None, penalty='l2',\n",
       "                   random_state=1, solver='newton-cg', tol=0.0001, verbose=0,\n",
       "                   warm_start=False)"
      ]
     },
     "execution_count": 52,
     "metadata": {
      "tags": []
     },
     "output_type": "execute_result"
    }
   ],
   "source": [
    "classifier_2=LogisticRegression(class_weight='balanced', multi_class=\"auto\",max_iter=200, random_state=1,solver='newton-cg')\n",
    "classifier_2.fit(train_images_2,train_labels)"
   ]
  },
  {
   "cell_type": "code",
   "execution_count": 0,
   "metadata": {
    "colab": {},
    "colab_type": "code",
    "id": "skHQ15B4nm3L"
   },
   "outputs": [],
   "source": [
    "train_set_pred_2=classifier_2.predict(train_images_2)"
   ]
  },
  {
   "cell_type": "code",
   "execution_count": 54,
   "metadata": {
    "colab": {
     "base_uri": "https://localhost:8080/",
     "height": 35
    },
    "colab_type": "code",
    "id": "BQcgYtG5nxta",
    "outputId": "59b4b315-2d2a-4717-89d6-f4d01ffd52eb"
   },
   "outputs": [
    {
     "data": {
      "text/plain": [
       "1.0"
      ]
     },
     "execution_count": 54,
     "metadata": {
      "tags": []
     },
     "output_type": "execute_result"
    }
   ],
   "source": [
    "accuracy_score(train_set_pred_2,train_labels)"
   ]
  },
  {
   "cell_type": "code",
   "execution_count": 0,
   "metadata": {
    "colab": {},
    "colab_type": "code",
    "id": "ti4o8VHW0mvp"
   },
   "outputs": [],
   "source": [
    "test_set_pred_2=classifier_2.predict(test_images_2)"
   ]
  },
  {
   "cell_type": "code",
   "execution_count": 57,
   "metadata": {
    "colab": {
     "base_uri": "https://localhost:8080/",
     "height": 366
    },
    "colab_type": "code",
    "id": "hiR4Hg2L3SsJ",
    "outputId": "173bac1f-d0cd-4bfb-909f-304df4569dd2"
   },
   "outputs": [
    {
     "name": "stdout",
     "output_type": "stream",
     "text": [
      "CLASSIFICATION REPORT FOR THE SECOND CUT\n",
      "\n",
      "              precision    recall  f1-score   support\n",
      "\n",
      "           0       0.73      0.74      0.74       197\n",
      "           1       0.78      0.82      0.80       190\n",
      "           2       0.91      0.88      0.90       206\n",
      "           3       0.92      0.91      0.92       202\n",
      "           4       0.89      0.87      0.88       203\n",
      "           5       0.80      0.80      0.80       200\n",
      "           6       0.69      0.77      0.73       179\n",
      "           7       0.70      0.74      0.72       189\n",
      "           8       0.93      0.86      0.89       215\n",
      "           9       0.85      0.78      0.82       219\n",
      "\n",
      "    accuracy                           0.82      2000\n",
      "   macro avg       0.82      0.82      0.82      2000\n",
      "weighted avg       0.82      0.82      0.82      2000\n",
      "\n"
     ]
    }
   ],
   "source": [
    "print(\"CLASSIFICATION REPORT FOR THE SECOND CUT\\n\")\n",
    "print(classification_report(test_set_pred_2,test_labels))"
   ]
  },
  {
   "cell_type": "code",
   "execution_count": 58,
   "metadata": {
    "colab": {
     "base_uri": "https://localhost:8080/",
     "height": 422
    },
    "colab_type": "code",
    "id": "uL15nLKawgwm",
    "outputId": "0c8ee9e4-01ed-4b07-9fd9-94595f99757a"
   },
   "outputs": [
    {
     "name": "stdout",
     "output_type": "stream",
     "text": [
      "CONFUSION MATRIX FOR THE SECOND CUT\n"
     ]
    },
    {
     "data": {
      "image/png": "[encoded data removed]",
      "text/plain": [
       "<Figure size 576x432 with 2 Axes>"
      ]
     },
     "metadata": {
      "tags": []
     },
     "output_type": "display_data"
    }
   ],
   "source": [
    "print(\"CONFUSION MATRIX FOR THE SECOND CUT\")\n",
    "\n",
    "%matplotlib inline\n",
    "\n",
    "matrix = confusion_matrix(test_labels,test_set_pred_2)\n",
    "plt.figure(figsize=(8, 6))\n",
    "ax = sns.heatmap(matrix,annot=True,cbar=True, cmap=\"YlGnBu\", fmt=\"d\")\n",
    "ax.set_ylim(len(matrix)-0.01, -0.01)\n",
    "\n",
    "plt.ylabel('True Label')\n",
    "plt.xlabel('Predicted Label')\n",
    "plt.title('Confusion Matrix')\n",
    "\n",
    "plt.show()"
   ]
  },
  {
   "cell_type": "code",
   "execution_count": 22,
   "metadata": {
    "colab": {
     "base_uri": "https://localhost:8080/",
     "height": 441
    },
    "colab_type": "code",
    "id": "Bnj6yxHZzkuO",
    "outputId": "397698c1-96fe-4b49-f8d0-595e66df413f"
   },
   "outputs": [
    {
     "name": "stdout",
     "output_type": "stream",
     "text": [
      "WARNING:tensorflow:From /usr/local/lib/python3.6/dist-packages/keras/backend/tensorflow_backend.py:66: The name tf.get_default_graph is deprecated. Please use tf.compat.v1.get_default_graph instead.\n",
      "\n",
      "WARNING:tensorflow:From /usr/local/lib/python3.6/dist-packages/keras/backend/tensorflow_backend.py:541: The name tf.placeholder is deprecated. Please use tf.compat.v1.placeholder instead.\n",
      "\n",
      "WARNING:tensorflow:From /usr/local/lib/python3.6/dist-packages/keras/backend/tensorflow_backend.py:4432: The name tf.random_uniform is deprecated. Please use tf.random.uniform instead.\n",
      "\n",
      "WARNING:tensorflow:From /usr/local/lib/python3.6/dist-packages/keras/backend/tensorflow_backend.py:4267: The name tf.nn.max_pool is deprecated. Please use tf.nn.max_pool2d instead.\n",
      "\n",
      "Downloading data from https://github.com/fchollet/deep-learning-models/releases/download/v0.1/vgg16_weights_tf_dim_ordering_tf_kernels.h5\n",
      "553467904/553467096 [==============================] - 17s 0us/step\n",
      "WARNING:tensorflow:From /usr/local/lib/python3.6/dist-packages/keras/backend/tensorflow_backend.py:190: The name tf.get_default_session is deprecated. Please use tf.compat.v1.get_default_session instead.\n",
      "\n",
      "WARNING:tensorflow:From /usr/local/lib/python3.6/dist-packages/keras/backend/tensorflow_backend.py:197: The name tf.ConfigProto is deprecated. Please use tf.compat.v1.ConfigProto instead.\n",
      "\n",
      "WARNING:tensorflow:From /usr/local/lib/python3.6/dist-packages/keras/backend/tensorflow_backend.py:203: The name tf.Session is deprecated. Please use tf.compat.v1.Session instead.\n",
      "\n",
      "WARNING:tensorflow:From /usr/local/lib/python3.6/dist-packages/keras/backend/tensorflow_backend.py:207: The name tf.global_variables is deprecated. Please use tf.compat.v1.global_variables instead.\n",
      "\n",
      "WARNING:tensorflow:From /usr/local/lib/python3.6/dist-packages/keras/backend/tensorflow_backend.py:216: The name tf.is_variable_initialized is deprecated. Please use tf.compat.v1.is_variable_initialized instead.\n",
      "\n",
      "WARNING:tensorflow:From /usr/local/lib/python3.6/dist-packages/keras/backend/tensorflow_backend.py:223: The name tf.variables_initializer is deprecated. Please use tf.compat.v1.variables_initializer instead.\n",
      "\n"
     ]
    }
   ],
   "source": [
    "new_base_net=vgg16.VGG16(input_shape=(224,224,3),weights='imagenet',include_top=True)"
   ]
  },
  {
   "cell_type": "code",
   "execution_count": 23,
   "metadata": {
    "colab": {
     "base_uri": "https://localhost:8080/",
     "height": 74
    },
    "colab_type": "code",
    "id": "n40NiUHk0Vdu",
    "outputId": "21411c14-1a26-409b-d807-a0fa3968305e"
   },
   "outputs": [
    {
     "name": "stderr",
     "output_type": "stream",
     "text": [
      "/usr/local/lib/python3.6/dist-packages/ipykernel_launcher.py:1: UserWarning: Update your `Model` call to the Keras 2 API: `Model(inputs=Tensor(\"in..., outputs=Tensor(\"fc...)`\n",
      "  \"\"\"Entry point for launching an IPython kernel.\n"
     ]
    }
   ],
   "source": [
    "net_3=Model(input=new_base_net.input,output=new_base_net.layers[-2].output)"
   ]
  },
  {
   "cell_type": "code",
   "execution_count": 24,
   "metadata": {
    "colab": {
     "base_uri": "https://localhost:8080/",
     "height": 972
    },
    "colab_type": "code",
    "id": "OlbbzpX81e9p",
    "outputId": "880a83c6-ff74-4b2d-cf9b-35ae57b20e9f"
   },
   "outputs": [
    {
     "name": "stdout",
     "output_type": "stream",
     "text": [
      "Model: \"model_1\"\n",
      "_________________________________________________________________\n",
      "Layer (type)                 Output Shape              Param #   \n",
      "=================================================================\n",
      "input_1 (InputLayer)         (None, 224, 224, 3)       0         \n",
      "_________________________________________________________________\n",
      "block1_conv1 (Conv2D)        (None, 224, 224, 64)      1792      \n",
      "_________________________________________________________________\n",
      "block1_conv2 (Conv2D)        (None, 224, 224, 64)      36928     \n",
      "_________________________________________________________________\n",
      "block1_pool (MaxPooling2D)   (None, 112, 112, 64)      0         \n",
      "_________________________________________________________________\n",
      "block2_conv1 (Conv2D)        (None, 112, 112, 128)     73856     \n",
      "_________________________________________________________________\n",
      "block2_conv2 (Conv2D)        (None, 112, 112, 128)     147584    \n",
      "_________________________________________________________________\n",
      "block2_pool (MaxPooling2D)   (None, 56, 56, 128)       0         \n",
      "_________________________________________________________________\n",
      "block3_conv1 (Conv2D)        (None, 56, 56, 256)       295168    \n",
      "_________________________________________________________________\n",
      "block3_conv2 (Conv2D)        (None, 56, 56, 256)       590080    \n",
      "_________________________________________________________________\n",
      "block3_conv3 (Conv2D)        (None, 56, 56, 256)       590080    \n",
      "_________________________________________________________________\n",
      "block3_pool (MaxPooling2D)   (None, 28, 28, 256)       0         \n",
      "_________________________________________________________________\n",
      "block4_conv1 (Conv2D)        (None, 28, 28, 512)       1180160   \n",
      "_________________________________________________________________\n",
      "block4_conv2 (Conv2D)        (None, 28, 28, 512)       2359808   \n",
      "_________________________________________________________________\n",
      "block4_conv3 (Conv2D)        (None, 28, 28, 512)       2359808   \n",
      "_________________________________________________________________\n",
      "block4_pool (MaxPooling2D)   (None, 14, 14, 512)       0         \n",
      "_________________________________________________________________\n",
      "block5_conv1 (Conv2D)        (None, 14, 14, 512)       2359808   \n",
      "_________________________________________________________________\n",
      "block5_conv2 (Conv2D)        (None, 14, 14, 512)       2359808   \n",
      "_________________________________________________________________\n",
      "block5_conv3 (Conv2D)        (None, 14, 14, 512)       2359808   \n",
      "_________________________________________________________________\n",
      "block5_pool (MaxPooling2D)   (None, 7, 7, 512)         0         \n",
      "_________________________________________________________________\n",
      "flatten (Flatten)            (None, 25088)             0         \n",
      "_________________________________________________________________\n",
      "fc1 (Dense)                  (None, 4096)              102764544 \n",
      "_________________________________________________________________\n",
      "fc2 (Dense)                  (None, 4096)              16781312  \n",
      "=================================================================\n",
      "Total params: 134,260,544\n",
      "Trainable params: 134,260,544\n",
      "Non-trainable params: 0\n",
      "_________________________________________________________________\n"
     ]
    }
   ],
   "source": [
    "net_3.summary()"
   ]
  },
  {
   "cell_type": "code",
   "execution_count": 0,
   "metadata": {
    "colab": {},
    "colab_type": "code",
    "id": "6W-tCW7I1hSe"
   },
   "outputs": [],
   "source": [
    "train_images_3=load_images(\"train_imgs\",net_3)"
   ]
  },
  {
   "cell_type": "code",
   "execution_count": 0,
   "metadata": {
    "colab": {},
    "colab_type": "code",
    "id": "h600ui2D17nF"
   },
   "outputs": [],
   "source": [
    "test_images_3=load_images(\"test_imgs\",net_3)"
   ]
  },
  {
   "cell_type": "code",
   "execution_count": 27,
   "metadata": {
    "colab": {
     "base_uri": "https://localhost:8080/",
     "height": 182
    },
    "colab_type": "code",
    "id": "ZyviNWyJ3ZH_",
    "outputId": "2b5b1cf7-5498-4c1f-8ff3-59b53f1e27de"
   },
   "outputs": [
    {
     "name": "stderr",
     "output_type": "stream",
     "text": [
      "/usr/local/lib/python3.6/dist-packages/scipy/optimize/linesearch.py:314: LineSearchWarning: The line search algorithm did not converge\n",
      "  warn('The line search algorithm did not converge', LineSearchWarning)\n",
      "/usr/local/lib/python3.6/dist-packages/sklearn/utils/optimize.py:195: UserWarning: Line Search failed\n",
      "  warnings.warn('Line Search failed')\n"
     ]
    },
    {
     "data": {
      "text/plain": [
       "LogisticRegression(C=1.0, class_weight='balanced', dual=False,\n",
       "                   fit_intercept=True, intercept_scaling=1, l1_ratio=None,\n",
       "                   max_iter=200, multi_class='auto', n_jobs=None, penalty='l2',\n",
       "                   random_state=1, solver='newton-cg', tol=0.0001, verbose=0,\n",
       "                   warm_start=False)"
      ]
     },
     "execution_count": 27,
     "metadata": {
      "tags": []
     },
     "output_type": "execute_result"
    }
   ],
   "source": [
    "classifier_3=LogisticRegression(class_weight='balanced', multi_class=\"auto\",max_iter=200, random_state=1,solver='newton-cg')\n",
    "classifier_3.fit(train_images_3,train_labels)"
   ]
  },
  {
   "cell_type": "code",
   "execution_count": 0,
   "metadata": {
    "colab": {},
    "colab_type": "code",
    "id": "KLmHsg1q4dKD"
   },
   "outputs": [],
   "source": [
    "train_set_pred_3=classifier_3.predict(train_images_3)"
   ]
  },
  {
   "cell_type": "code",
   "execution_count": 30,
   "metadata": {
    "colab": {
     "base_uri": "https://localhost:8080/",
     "height": 35
    },
    "colab_type": "code",
    "id": "yCb0-j8O6VqK",
    "outputId": "9a6dc467-3ba1-49b3-fc8b-494613db47bc"
   },
   "outputs": [
    {
     "data": {
      "text/plain": [
       "1.0"
      ]
     },
     "execution_count": 30,
     "metadata": {
      "tags": []
     },
     "output_type": "execute_result"
    }
   ],
   "source": [
    "accuracy_score(train_set_pred_3,train_labels)"
   ]
  },
  {
   "cell_type": "code",
   "execution_count": 0,
   "metadata": {
    "colab": {},
    "colab_type": "code",
    "id": "HWkF42lH6ZBA"
   },
   "outputs": [],
   "source": [
    "test_set_pred_3=classifier_3.predict(test_images_3)"
   ]
  },
  {
   "cell_type": "code",
   "execution_count": 32,
   "metadata": {
    "colab": {
     "base_uri": "https://localhost:8080/",
     "height": 366
    },
    "colab_type": "code",
    "id": "gJnHpr4B6e2H",
    "outputId": "ac8a5f9d-5b3c-47d6-c104-86709cefb064"
   },
   "outputs": [
    {
     "name": "stdout",
     "output_type": "stream",
     "text": [
      "CLASSIFICATION REPORT FOR THE THIRD CUT\n",
      "\n",
      "              precision    recall  f1-score   support\n",
      "\n",
      "           0       0.94      0.87      0.91       217\n",
      "           1       0.93      0.91      0.92       205\n",
      "           2       0.92      0.95      0.93       193\n",
      "           3       0.95      0.95      0.95       201\n",
      "           4       0.95      0.97      0.96       195\n",
      "           5       0.94      0.96      0.95       196\n",
      "           6       0.84      0.84      0.84       200\n",
      "           7       0.88      0.91      0.89       192\n",
      "           8       0.96      0.96      0.96       200\n",
      "           9       0.95      0.95      0.95       201\n",
      "\n",
      "    accuracy                           0.93      2000\n",
      "   macro avg       0.93      0.93      0.93      2000\n",
      "weighted avg       0.93      0.93      0.93      2000\n",
      "\n"
     ]
    }
   ],
   "source": [
    "print(\"CLASSIFICATION REPORT FOR THE THIRD CUT\\n\")\n",
    "print(classification_report(test_set_pred_3,test_labels))"
   ]
  },
  {
   "cell_type": "code",
   "execution_count": 59,
   "metadata": {
    "colab": {
     "base_uri": "https://localhost:8080/",
     "height": 441
    },
    "colab_type": "code",
    "id": "zNM8ZH1B6kK2",
    "outputId": "3211f6a5-4aca-4bac-d102-5f17322612ff"
   },
   "outputs": [
    {
     "name": "stdout",
     "output_type": "stream",
     "text": [
      "CONFUSION MATRIX FOR THE THIRD CUT\n",
      "\n"
     ]
    },
    {
     "data": {
      "image/png": "[encoded data removed]",
      "text/plain": [
       "<Figure size 576x432 with 2 Axes>"
      ]
     },
     "metadata": {
      "tags": []
     },
     "output_type": "display_data"
    }
   ],
   "source": [
    "print(\"CONFUSION MATRIX FOR THE THIRD CUT\\n\")\n",
    "\n",
    "%matplotlib inline\n",
    "\n",
    "matrix = confusion_matrix(test_labels,test_set_pred_3)\n",
    "plt.figure(figsize=(8, 6))\n",
    "ax = sns.heatmap(matrix,annot=True,cbar=True, cmap=\"YlGnBu\", fmt=\"d\")\n",
    "ax.set_ylim(len(matrix)-0.01, -0.01)\n",
    "\n",
    "plt.ylabel('True Label')\n",
    "plt.xlabel('Predicted Label')\n",
    "plt.title('Confusion Matrix')\n",
    "\n",
    "plt.show()"
   ]
  },
  {
   "cell_type": "code",
   "execution_count": 0,
   "metadata": {
    "colab": {},
    "colab_type": "code",
    "id": "UFmHi0BzxTwA"
   },
   "outputs": [],
   "source": []
  }
 ],
 "metadata": {
  "accelerator": "GPU",
  "colab": {
   "collapsed_sections": [],
   "name": "Assignment_4_AML.ipynb",
   "provenance": []
  },
  "kernelspec": {
   "display_name": "Python 3",
   "language": "python",
   "name": "python3"
  },
  "language_info": {
   "codemirror_mode": {
    "name": "ipython",
    "version": 3
   },
   "file_extension": ".py",
   "mimetype": "text/x-python",
   "name": "python",
   "nbconvert_exporter": "python",
   "pygments_lexer": "ipython3",
   "version": "3.6.8"
  }
 },
 "nbformat": 4,
 "nbformat_minor": 1
}
