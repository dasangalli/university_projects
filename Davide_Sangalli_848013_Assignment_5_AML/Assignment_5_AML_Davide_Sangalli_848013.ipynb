{
  "nbformat": 4,
  "nbformat_minor": 0,
  "metadata": {
    "colab": {
      "name": "Assignment_5_AML_Davide_Sangalli_848013.ipynb",
      "provenance": [],
      "collapsed_sections": []
    },
    "kernelspec": {
      "name": "python3",
      "display_name": "Python 3"
    }
  },
  "cells": [
    {
      "cell_type": "code",
      "metadata": {
        "id": "5sTn-9gnLLb8",
        "colab_type": "code",
        "outputId": "b096a7e4-7f4c-4915-c928-539b37088e32",
        "colab": {
          "base_uri": "https://localhost:8080/",
          "height": 1000
        }
      },
      "source": [
        "!apt-get install swig\n",
        "!pip install smac[all]"
      ],
      "execution_count": 1,
      "outputs": [
        {
          "output_type": "stream",
          "text": [
            "Reading package lists... Done\n",
            "Building dependency tree       \n",
            "Reading state information... Done\n",
            "The following packages were automatically installed and are no longer required:\n",
            "  cuda-cufft-10-1 cuda-cufft-dev-10-1 cuda-curand-10-1 cuda-curand-dev-10-1\n",
            "  cuda-cusolver-10-1 cuda-cusolver-dev-10-1 cuda-cusparse-10-1\n",
            "  cuda-cusparse-dev-10-1 cuda-drivers cuda-license-10-2 cuda-npp-10-1\n",
            "  cuda-npp-dev-10-1 cuda-nsight-10-1 cuda-nsight-compute-10-1\n",
            "  cuda-nsight-systems-10-1 cuda-nvgraph-10-1 cuda-nvgraph-dev-10-1\n",
            "  cuda-nvjpeg-10-1 cuda-nvjpeg-dev-10-1 cuda-nvrtc-10-1 cuda-nvrtc-dev-10-1\n",
            "  cuda-nvvp-10-1 default-jre dkms freeglut3 freeglut3-dev\n",
            "  keyboard-configuration libargon2-0 libcap2 libcryptsetup12 libcublas10\n",
            "  libdevmapper1.02.1 libfontenc1 libgtk2.0-0 libgtk2.0-common libidn11\n",
            "  libip4tc0 libjansson4 libnvidia-cfg1-440 libnvidia-common-430\n",
            "  libnvidia-common-440 libnvidia-decode-440 libnvidia-encode-440\n",
            "  libnvidia-fbc1-440 libnvidia-gl-440 libnvidia-ifr1-440 libpam-systemd\n",
            "  libpolkit-agent-1-0 libpolkit-backend-1-0 libpolkit-gobject-1-0 libxfont2\n",
            "  libxi-dev libxkbfile1 libxmu-dev libxmu-headers libxnvctrl0\n",
            "  nsight-compute-2019.5.0 nsight-systems-2019.5.2 nvidia-compute-utils-440\n",
            "  nvidia-dkms-440 nvidia-driver-440 nvidia-kernel-common-440\n",
            "  nvidia-kernel-source-440 nvidia-modprobe nvidia-settings nvidia-utils-440\n",
            "  openjdk-11-jre policykit-1 policykit-1-gnome python3-xkit\n",
            "  screen-resolution-extra systemd systemd-sysv udev x11-xkb-utils\n",
            "  xserver-common xserver-xorg-core-hwe-18.04 xserver-xorg-video-nvidia-440\n",
            "Use 'apt autoremove' to remove them.\n",
            "The following additional packages will be installed:\n",
            "  swig3.0\n",
            "Suggested packages:\n",
            "  swig-doc swig-examples swig3.0-examples swig3.0-doc\n",
            "The following NEW packages will be installed:\n",
            "  swig swig3.0\n",
            "0 upgraded, 2 newly installed, 0 to remove and 5 not upgraded.\n",
            "Need to get 1,100 kB of archives.\n",
            "After this operation, 5,822 kB of additional disk space will be used.\n",
            "Get:1 http://archive.ubuntu.com/ubuntu bionic/universe amd64 swig3.0 amd64 3.0.12-1 [1,094 kB]\n",
            "Get:2 http://archive.ubuntu.com/ubuntu bionic/universe amd64 swig amd64 3.0.12-1 [6,460 B]\n",
            "Fetched 1,100 kB in 1s (1,265 kB/s)\n",
            "Selecting previously unselected package swig3.0.\n",
            "(Reading database ... 125048 files and directories currently installed.)\n",
            "Preparing to unpack .../swig3.0_3.0.12-1_amd64.deb ...\n",
            "Unpacking swig3.0 (3.0.12-1) ...\n",
            "Selecting previously unselected package swig.\n",
            "Preparing to unpack .../swig_3.0.12-1_amd64.deb ...\n",
            "Unpacking swig (3.0.12-1) ...\n",
            "Setting up swig3.0 (3.0.12-1) ...\n",
            "Setting up swig (3.0.12-1) ...\n",
            "Processing triggers for man-db (2.8.3-2ubuntu0.1) ...\n",
            "Collecting smac[all]\n",
            "\u001b[?25l  Downloading https://files.pythonhosted.org/packages/01/b7/b4d720b5eb7c705bab5b243fc38a60ca9bbc151cc09872b7e9e0a316581d/smac-0.11.1.tar.gz (161kB)\n",
            "\u001b[K     |████████████████████████████████| 163kB 2.8MB/s \n",
            "\u001b[?25hRequirement already satisfied: numpy>=1.7.1 in /usr/local/lib/python3.6/dist-packages (from smac[all]) (1.17.4)\n",
            "Requirement already satisfied: scipy>=0.18.1 in /usr/local/lib/python3.6/dist-packages (from smac[all]) (1.3.3)\n",
            "Requirement already satisfied: psutil in /usr/local/lib/python3.6/dist-packages (from smac[all]) (5.4.8)\n",
            "Collecting pynisher>=0.4.1\n",
            "  Downloading https://files.pythonhosted.org/packages/b2/21/c86c64c305da6d43fb89780d33cbc839c07736b71955a8bdb642a02b7538/pynisher-0.5.0.tar.gz\n",
            "Collecting ConfigSpace<0.5,>=0.4.6\n",
            "\u001b[?25l  Downloading https://files.pythonhosted.org/packages/be/07/ebb7c6c6d03c82ffe6314161f2c8da32599c841e74b08f5c23812fee0e6f/ConfigSpace-0.4.11.tar.gz (957kB)\n",
            "\u001b[K     |████████████████████████████████| 962kB 45.2MB/s \n",
            "\u001b[?25hRequirement already satisfied: scikit-learn>=0.18.0 in /usr/local/lib/python3.6/dist-packages (from smac[all]) (0.21.3)\n",
            "Collecting pyrfr>=0.8.0\n",
            "\u001b[?25l  Downloading https://files.pythonhosted.org/packages/ed/0f/4d7e42a9dfef3a1898e03cffa8f1cfcd1f96507d718808b2db584c6f8401/pyrfr-0.8.0.tar.gz (293kB)\n",
            "\u001b[K     |████████████████████████████████| 296kB 48.1MB/s \n",
            "\u001b[?25hCollecting sobol_seq\n",
            "  Downloading https://files.pythonhosted.org/packages/89/7a/7b374fd1f100bfea2624190f3dd879029e1aabe70d34e279ef456d522717/sobol_seq-0.1.2.zip\n",
            "Requirement already satisfied: joblib in /usr/local/lib/python3.6/dist-packages (from smac[all]) (0.14.0)\n",
            "Collecting lazy_import\n",
            "  Downloading https://files.pythonhosted.org/packages/44/2e/5378f9b9cbc893826c2ecb022646c97ece9efbaad351adf89425fff33990/lazy_import-0.2.2.tar.gz\n",
            "Collecting scikit-optimize\n",
            "\u001b[?25l  Downloading https://files.pythonhosted.org/packages/f4/44/60f82c97d1caa98752c7da2c1681cab5c7a390a0fdd3a55fac672b321cac/scikit_optimize-0.5.2-py2.py3-none-any.whl (74kB)\n",
            "\u001b[K     |████████████████████████████████| 81kB 9.5MB/s \n",
            "\u001b[?25hCollecting pyDOE\n",
            "  Downloading https://files.pythonhosted.org/packages/bc/ac/91fe4c039e2744466621343d3b8af4a485193ed0aab53af5b1db03be0989/pyDOE-0.3.8.zip\n",
            "Collecting emcee>=2.1.0\n",
            "\u001b[?25l  Downloading https://files.pythonhosted.org/packages/97/f4/00151f5f843088337c6a53edd6cbb2df340f1044d23080c662f95219cc3f/emcee-3.0.2-py2.py3-none-any.whl (41kB)\n",
            "\u001b[K     |████████████████████████████████| 51kB 6.5MB/s \n",
            "\u001b[?25hRequirement already satisfied: docutils>=0.3 in /usr/local/lib/python3.6/dist-packages (from pynisher>=0.4.1->smac[all]) (0.15.2)\n",
            "Requirement already satisfied: setuptools in /usr/local/lib/python3.6/dist-packages (from pynisher>=0.4.1->smac[all]) (42.0.1)\n",
            "Requirement already satisfied: cython in /usr/local/lib/python3.6/dist-packages (from ConfigSpace<0.5,>=0.4.6->smac[all]) (0.29.14)\n",
            "Requirement already satisfied: pyparsing in /usr/local/lib/python3.6/dist-packages (from ConfigSpace<0.5,>=0.4.6->smac[all]) (2.4.5)\n",
            "Requirement already satisfied: six in /usr/local/lib/python3.6/dist-packages (from lazy_import->smac[all]) (1.12.0)\n",
            "Building wheels for collected packages: smac, pynisher, ConfigSpace, pyrfr, sobol-seq, lazy-import, pyDOE\n",
            "  Building wheel for smac (setup.py) ... \u001b[?25l\u001b[?25hdone\n",
            "  Created wheel for smac: filename=smac-0.11.1-cp36-none-any.whl size=165909 sha256=6170c891256ea26d610a989c825db5c40826d7a8909600c9a5a390a8e97257c5\n",
            "  Stored in directory: /root/.cache/pip/wheels/5c/22/71/14afa2097163de1d610894f7985ff2bfbec08a9e02c5932faa\n",
            "  Building wheel for pynisher (setup.py) ... \u001b[?25l\u001b[?25hdone\n",
            "  Created wheel for pynisher: filename=pynisher-0.5.0-cp36-none-any.whl size=4360 sha256=636603d13705934a017504a4f210fd54e7ce349edcf8c6859de9e52ced2db577\n",
            "  Stored in directory: /root/.cache/pip/wheels/af/2a/c4/ec3abc8a2f786ef9786ea8fe6ff629a4e54812a3f98cc41b47\n",
            "  Building wheel for ConfigSpace (setup.py) ... \u001b[?25l\u001b[?25hdone\n",
            "  Created wheel for ConfigSpace: filename=ConfigSpace-0.4.11-cp36-cp36m-linux_x86_64.whl size=2907940 sha256=be174f864c3319faa21ecc3f85ee175150a7ca40f56ec70f04a1506ac5838146\n",
            "  Stored in directory: /root/.cache/pip/wheels/9f/bf/27/d224e97900342ebed7f81311458a572b557b99dd9492e00bf5\n",
            "  Building wheel for pyrfr (setup.py) ... \u001b[?25l\u001b[?25hdone\n",
            "  Created wheel for pyrfr: filename=pyrfr-0.8.0-cp36-cp36m-linux_x86_64.whl size=2540576 sha256=a5d801713e22dbd51b09c3f40f9546eabceb2d0a4cc45e875c8d8b8bd54445fb\n",
            "  Stored in directory: /root/.cache/pip/wheels/61/1a/d2/b5aee388a492a01946143d3c976b2ca810af537480e1f16999\n",
            "  Building wheel for sobol-seq (setup.py) ... \u001b[?25l\u001b[?25hdone\n",
            "  Created wheel for sobol-seq: filename=sobol_seq-0.1.2-cp36-none-any.whl size=8191 sha256=0e8a19b31846949f58f2ae4ff52d18540e935da8d1fb5c45dd3f0e497e6549f8\n",
            "  Stored in directory: /root/.cache/pip/wheels/d5/72/1f/6cd8a0b472da802ee9c84fdc39626bb4ec544668c030917d9f\n",
            "  Building wheel for lazy-import (setup.py) ... \u001b[?25l\u001b[?25hdone\n",
            "  Created wheel for lazy-import: filename=lazy_import-0.2.2-py2.py3-none-any.whl size=16488 sha256=091d7cbc3f453d984837ae44506bbe37e2aa81a060cf5dfed4f0aa234401cf71\n",
            "  Stored in directory: /root/.cache/pip/wheels/a9/b0/b5/8c7e6810aee14bc4ed4a542ce56e744126263bf4f4825a9094\n",
            "  Building wheel for pyDOE (setup.py) ... \u001b[?25l\u001b[?25hdone\n",
            "  Created wheel for pyDOE: filename=pyDOE-0.3.8-cp36-none-any.whl size=18178 sha256=b28bf184223f6739b7461460316be117285bd37b58e7ebfb33c7f1d3e5c202f9\n",
            "  Stored in directory: /root/.cache/pip/wheels/7c/c8/58/a6493bd415e8ba5735082b5e0c096d7c1f2933077a8ce34544\n",
            "Successfully built smac pynisher ConfigSpace pyrfr sobol-seq lazy-import pyDOE\n",
            "Installing collected packages: pynisher, ConfigSpace, pyrfr, sobol-seq, lazy-import, scikit-optimize, pyDOE, emcee, smac\n",
            "Successfully installed ConfigSpace-0.4.11 emcee-3.0.2 lazy-import-0.2.2 pyDOE-0.3.8 pynisher-0.5.0 pyrfr-0.8.0 scikit-optimize-0.5.2 smac-0.11.1 sobol-seq-0.1.2\n"
          ],
          "name": "stdout"
        }
      ]
    },
    {
      "cell_type": "code",
      "metadata": {
        "id": "hVH1qOLMcSWg",
        "colab_type": "code",
        "colab": {}
      },
      "source": [
        "import warnings\n",
        "warnings.filterwarnings(\"ignore\")"
      ],
      "execution_count": 0,
      "outputs": []
    },
    {
      "cell_type": "code",
      "metadata": {
        "id": "DLYIYn7NK55Q",
        "colab_type": "code",
        "colab": {}
      },
      "source": [
        "import numpy as np\n",
        "from sklearn import svm, datasets\n",
        "from sklearn.model_selection import cross_val_score\n",
        "from sklearn.neural_network import MLPClassifier\n",
        "\n",
        "# Import ConfigSpace and different types of parameters\n",
        "from smac.configspace import ConfigurationSpace\n",
        "from ConfigSpace.hyperparameters import CategoricalHyperparameter, \\\n",
        "    UniformFloatHyperparameter, UniformIntegerHyperparameter\n",
        "from ConfigSpace.conditions import InCondition\n",
        "\n",
        "# Import SMAC-utilities\n",
        "from smac.tae.execute_func import ExecuteTAFuncDict\n",
        "from smac.scenario.scenario import Scenario\n",
        "from smac.facade.smac_hpo_facade import SMAC4HPO\n",
        "from smac.facade.smac_bo_facade import SMAC4BO\n",
        "\n",
        "\n",
        "from smac.optimizer.acquisition import LCB, EI, PI\n",
        "from smac.initial_design.random_configuration_design import RandomConfigurations\n",
        "from smac.runhistory.runhistory2epm import RunHistory2EPM4InvScaledCost\n",
        "\n",
        "from numpy import genfromtxt\n",
        "import logging\n",
        "\n",
        "from sklearn.model_selection import StratifiedKFold\n",
        "import matplotlib.pyplot as plt\n",
        "\n",
        "from sklearn.model_selection import GridSearchCV\n",
        "from sklearn.model_selection import RandomizedSearchCV\n",
        "from scipy.stats import uniform\n",
        "import random"
      ],
      "execution_count": 0,
      "outputs": []
    },
    {
      "cell_type": "code",
      "metadata": {
        "id": "Aog1ehrGLDPN",
        "colab_type": "code",
        "colab": {}
      },
      "source": [
        "data_fertility = genfromtxt('php9pgo5r.csv', delimiter=',', skip_header = 1)\n",
        "data = data_fertility[:,:-1]\n",
        "target = data_fertility[:,-1]"
      ],
      "execution_count": 0,
      "outputs": []
    },
    {
      "cell_type": "code",
      "metadata": {
        "id": "ccw-RmRQOxX0",
        "colab_type": "code",
        "outputId": "99e3d6aa-f411-4bc4-da4d-2f9bea97401c",
        "colab": {
          "base_uri": "https://localhost:8080/",
          "height": 54
        }
      },
      "source": [
        "cs = ConfigurationSpace()\n",
        "learning_rate = UniformFloatHyperparameter(\"learning_rate_init\", 0.01, 1.0)\n",
        "momentum = UniformFloatHyperparameter(\"momentum\", 0.1, 0.9)\n",
        "cs.add_hyperparameters([learning_rate,momentum])"
      ],
      "execution_count": 5,
      "outputs": [
        {
          "output_type": "execute_result",
          "data": {
            "text/plain": [
              "[learning_rate_init, Type: UniformFloat, Range: [0.01, 1.0], Default: 0.505,\n",
              " momentum, Type: UniformFloat, Range: [0.1, 0.9], Default: 0.5]"
            ]
          },
          "metadata": {
            "tags": []
          },
          "execution_count": 5
        }
      ]
    },
    {
      "cell_type": "code",
      "metadata": {
        "id": "kaV6ryIktUN0",
        "colab_type": "code",
        "colab": {}
      },
      "source": [
        "def ann_from_cfg(cfg):\n",
        "\n",
        "  random_seed =int(cfg['momentum']*cfg['learning_rate_init']*5000)\n",
        "  \n",
        "  clf = MLPClassifier(**cfg, hidden_layer_sizes = (4,2,), random_state=random_seed)\n",
        "  scores = cross_val_score(clf, data, target, cv=StratifiedKFold(n_splits=10,random_state=strat_seed), scoring=\"accuracy\")\n",
        "  return -np.mean(scores)"
      ],
      "execution_count": 0,
      "outputs": []
    },
    {
      "cell_type": "code",
      "metadata": {
        "id": "0s0V-FeitlqM",
        "colab_type": "code",
        "outputId": "561d5b82-2a9f-4511-904d-d7b4f5226bb2",
        "colab": {
          "base_uri": "https://localhost:8080/",
          "height": 35
        }
      },
      "source": [
        "# Scenario object\n",
        "scenario = Scenario({\"run_obj\": \"quality\",   # we optimize quality (alternatively runtime)\n",
        "                     \"runcount-limit\": 25,   # max. number of function evaluations; for this example set to a low number\n",
        "                     \"cs\": cs,               # configuration space\n",
        "                     \"deterministic\": \"true\",\n",
        "                     })"
      ],
      "execution_count": 7,
      "outputs": [
        {
          "output_type": "stream",
          "text": [
            "INFO:smac.utils.io.cmd_reader.CMDReader:Output to smac3-output_2019-12-09_10:15:11_259139\n"
          ],
          "name": "stderr"
        }
      ]
    },
    {
      "cell_type": "code",
      "metadata": {
        "id": "RGjn8Z0StqPb",
        "colab_type": "code",
        "colab": {}
      },
      "source": [
        "init = cs.sample_configuration(5)\n",
        "strat_seed=12345"
      ],
      "execution_count": 0,
      "outputs": []
    },
    {
      "cell_type": "code",
      "metadata": {
        "id": "8Yu-cXIHOjUw",
        "colab_type": "code",
        "outputId": "7650b978-38c7-4157-dd01-ff0fb3233d67",
        "colab": {
          "base_uri": "https://localhost:8080/",
          "height": 845
        }
      },
      "source": [
        "print(\"Optimizing using EI acquisition function:\\n\")\n",
        "\n",
        "smac_EI_acq_func=SMAC4BO(scenario = scenario,\n",
        "                tae_runner = ann_from_cfg,\n",
        "               initial_design = None,\n",
        "              initial_design_kwargs = {'max_config_fracs': 5/25},\n",
        "               initial_configurations = init,\n",
        "               acquisition_function = EI)\n",
        "\n",
        "incumbent_EI_acq_func = smac_EI_acq_func.optimize()\n",
        "\n",
        "inc_value_EI_acq_func = ann_from_cfg(incumbent_EI_acq_func)\n",
        "print(\"Optimized Value: %.2f\" % (-inc_value_EI_acq_func))"
      ],
      "execution_count": 25,
      "outputs": [
        {
          "output_type": "stream",
          "text": [
            "INFO:smac.facade.smac_bo_facade.SMAC4BO:Optimizing a deterministic scenario for quality without a tuner timeout - will make SMAC deterministic and only evaluate one configuration per iteration!\n",
            "INFO:smac.initial_design.initial_design.InitialDesign:Running initial design for 5 configurations\n",
            "INFO:smac.facade.smac_bo_facade.SMAC4BO:<class 'smac.facade.smac_bo_facade.SMAC4BO'>\n"
          ],
          "name": "stderr"
        },
        {
          "output_type": "stream",
          "text": [
            "Optimizing using EI acquisition function:\n",
            "\n"
          ],
          "name": "stdout"
        },
        {
          "output_type": "stream",
          "text": [
            "INFO:smac.intensification.intensification.Intensifier:Updated estimated cost of incumbent on 1 runs: -0.8814\n",
            "INFO:smac.intensification.intensification.Intensifier:Updated estimated cost of incumbent on 1 runs: -0.8814\n",
            "INFO:smac.intensification.intensification.Intensifier:Updated estimated cost of incumbent on 1 runs: -0.8814\n",
            "INFO:smac.intensification.intensification.Intensifier:Updated estimated cost of incumbent on 1 runs: -0.8814\n",
            "INFO:smac.intensification.intensification.Intensifier:Updated estimated cost of incumbent on 1 runs: -0.8814\n",
            "INFO:smac.intensification.intensification.Intensifier:Updated estimated cost of incumbent on 1 runs: -0.8814\n",
            "INFO:smac.intensification.intensification.Intensifier:Updated estimated cost of incumbent on 1 runs: -0.8814\n",
            "INFO:smac.intensification.intensification.Intensifier:Updated estimated cost of incumbent on 1 runs: -0.8814\n",
            "INFO:smac.intensification.intensification.Intensifier:Updated estimated cost of incumbent on 1 runs: -0.8814\n",
            "INFO:smac.intensification.intensification.Intensifier:Updated estimated cost of incumbent on 1 runs: -0.8814\n",
            "INFO:smac.intensification.intensification.Intensifier:Updated estimated cost of incumbent on 1 runs: -0.8814\n",
            "INFO:smac.intensification.intensification.Intensifier:Updated estimated cost of incumbent on 1 runs: -0.8814\n",
            "INFO:smac.intensification.intensification.Intensifier:Updated estimated cost of incumbent on 1 runs: -0.8814\n",
            "INFO:smac.intensification.intensification.Intensifier:Updated estimated cost of incumbent on 1 runs: -0.8814\n",
            "INFO:smac.intensification.intensification.Intensifier:Updated estimated cost of incumbent on 1 runs: -0.8814\n",
            "INFO:smac.intensification.intensification.Intensifier:Updated estimated cost of incumbent on 1 runs: -0.8814\n",
            "INFO:smac.intensification.intensification.Intensifier:Updated estimated cost of incumbent on 1 runs: -0.8814\n",
            "INFO:smac.intensification.intensification.Intensifier:Challenger (-0.8914) is better than incumbent (-0.8814) on 1 runs.\n",
            "INFO:smac.intensification.intensification.Intensifier:Changes in incumbent:\n",
            "INFO:smac.intensification.intensification.Intensifier:  learning_rate_init : 0.5494957900820864 -> 0.05115374571228807\n",
            "INFO:smac.intensification.intensification.Intensifier:  momentum : 0.7724272124030863 -> 0.697576005290237\n",
            "INFO:smac.intensification.intensification.Intensifier:Updated estimated cost of incumbent on 1 runs: -0.8914\n",
            "INFO:smac.intensification.intensification.Intensifier:Updated estimated cost of incumbent on 1 runs: -0.8914\n",
            "INFO:smac.intensification.intensification.Intensifier:Updated estimated cost of incumbent on 1 runs: -0.8914\n",
            "INFO:smac.intensification.intensification.Intensifier:Updated estimated cost of incumbent on 1 runs: -0.8914\n",
            "INFO:smac.stats.stats.Stats:##########################################################\n",
            "INFO:smac.stats.stats.Stats:Statistics:\n",
            "INFO:smac.stats.stats.Stats:#Incumbent changed: 1\n",
            "INFO:smac.stats.stats.Stats:#Target algorithm runs: 25 / 25.0\n",
            "INFO:smac.stats.stats.Stats:#Configurations: 25\n",
            "INFO:smac.stats.stats.Stats:Used wallclock time: 100.65 / inf sec \n",
            "INFO:smac.stats.stats.Stats:Used target algorithm runtime: 12.10 / inf sec\n",
            "INFO:smac.stats.stats.Stats:##########################################################\n",
            "INFO:smac.facade.smac_bo_facade.SMAC4BO:Final Incumbent: Configuration:\n",
            "  learning_rate_init, Value: 0.05115374571228807\n",
            "  momentum, Value: 0.697576005290237\n",
            "\n",
            "INFO:smac.facade.smac_bo_facade.SMAC4BO:Estimated cost of incumbent: -0.891414\n"
          ],
          "name": "stderr"
        },
        {
          "output_type": "stream",
          "text": [
            "Optimized Value: 0.89\n"
          ],
          "name": "stdout"
        }
      ]
    },
    {
      "cell_type": "code",
      "metadata": {
        "id": "F8gQK8KISE5L",
        "colab_type": "code",
        "outputId": "c1606658-8987-40cf-c860-829d55ebe8b9",
        "colab": {
          "base_uri": "https://localhost:8080/",
          "height": 772
        }
      },
      "source": [
        "print(\"Optimizing using LCB acquisition function:\\n\")\n",
        "\n",
        "smac_LCB_acq_func=SMAC4BO(scenario = scenario,\n",
        "                tae_runner = ann_from_cfg,\n",
        "               initial_design = None,\n",
        "              initial_design_kwargs = {'max_config_fracs': 5/25},\n",
        "               initial_configurations = init,\n",
        "               acquisition_function = LCB)\n",
        "\n",
        "incumbent_LCB_acq_func = smac_LCB_acq_func.optimize()\n",
        "\n",
        "inc_value_LCB_acq_func = ann_from_cfg(incumbent_LCB_acq_func)\n",
        "print(\"Optimized Value: %.2f\" % (-inc_value_LCB_acq_func))"
      ],
      "execution_count": 26,
      "outputs": [
        {
          "output_type": "stream",
          "text": [
            "INFO:smac.facade.smac_bo_facade.SMAC4BO:Optimizing a deterministic scenario for quality without a tuner timeout - will make SMAC deterministic and only evaluate one configuration per iteration!\n",
            "INFO:smac.initial_design.initial_design.InitialDesign:Running initial design for 5 configurations\n",
            "INFO:smac.facade.smac_bo_facade.SMAC4BO:<class 'smac.facade.smac_bo_facade.SMAC4BO'>\n"
          ],
          "name": "stderr"
        },
        {
          "output_type": "stream",
          "text": [
            "Optimizing using LCB acquisition function:\n",
            "\n"
          ],
          "name": "stdout"
        },
        {
          "output_type": "stream",
          "text": [
            "INFO:smac.intensification.intensification.Intensifier:Updated estimated cost of incumbent on 1 runs: -0.8814\n",
            "INFO:smac.intensification.intensification.Intensifier:Updated estimated cost of incumbent on 1 runs: -0.8814\n",
            "INFO:smac.intensification.intensification.Intensifier:Updated estimated cost of incumbent on 1 runs: -0.8814\n",
            "INFO:smac.intensification.intensification.Intensifier:Updated estimated cost of incumbent on 1 runs: -0.8814\n",
            "INFO:smac.intensification.intensification.Intensifier:Updated estimated cost of incumbent on 1 runs: -0.8814\n",
            "INFO:smac.intensification.intensification.Intensifier:Updated estimated cost of incumbent on 1 runs: -0.8814\n",
            "INFO:smac.intensification.intensification.Intensifier:Updated estimated cost of incumbent on 1 runs: -0.8814\n",
            "INFO:smac.intensification.intensification.Intensifier:Updated estimated cost of incumbent on 1 runs: -0.8814\n",
            "INFO:smac.intensification.intensification.Intensifier:Updated estimated cost of incumbent on 1 runs: -0.8814\n",
            "INFO:smac.intensification.intensification.Intensifier:Updated estimated cost of incumbent on 1 runs: -0.8814\n",
            "INFO:smac.intensification.intensification.Intensifier:Updated estimated cost of incumbent on 1 runs: -0.8814\n",
            "INFO:smac.intensification.intensification.Intensifier:Updated estimated cost of incumbent on 1 runs: -0.8814\n",
            "INFO:smac.intensification.intensification.Intensifier:Updated estimated cost of incumbent on 1 runs: -0.8814\n",
            "INFO:smac.intensification.intensification.Intensifier:Updated estimated cost of incumbent on 1 runs: -0.8814\n",
            "INFO:smac.intensification.intensification.Intensifier:Updated estimated cost of incumbent on 1 runs: -0.8814\n",
            "INFO:smac.intensification.intensification.Intensifier:Updated estimated cost of incumbent on 1 runs: -0.8814\n",
            "INFO:smac.intensification.intensification.Intensifier:Updated estimated cost of incumbent on 1 runs: -0.8814\n",
            "INFO:smac.intensification.intensification.Intensifier:Updated estimated cost of incumbent on 1 runs: -0.8814\n",
            "INFO:smac.intensification.intensification.Intensifier:Updated estimated cost of incumbent on 1 runs: -0.8814\n",
            "INFO:smac.intensification.intensification.Intensifier:Updated estimated cost of incumbent on 1 runs: -0.8814\n",
            "INFO:smac.intensification.intensification.Intensifier:Updated estimated cost of incumbent on 1 runs: -0.8814\n",
            "INFO:smac.stats.stats.Stats:##########################################################\n",
            "INFO:smac.stats.stats.Stats:Statistics:\n",
            "INFO:smac.stats.stats.Stats:#Incumbent changed: 0\n",
            "INFO:smac.stats.stats.Stats:#Target algorithm runs: 25 / 25.0\n",
            "INFO:smac.stats.stats.Stats:#Configurations: 25\n",
            "INFO:smac.stats.stats.Stats:Used wallclock time: 80.02 / inf sec \n",
            "INFO:smac.stats.stats.Stats:Used target algorithm runtime: 7.21 / inf sec\n",
            "INFO:smac.stats.stats.Stats:##########################################################\n",
            "INFO:smac.facade.smac_bo_facade.SMAC4BO:Final Incumbent: Configuration:\n",
            "  learning_rate_init, Value: 0.5494957900820864\n",
            "  momentum, Value: 0.7724272124030863\n",
            "\n",
            "INFO:smac.facade.smac_bo_facade.SMAC4BO:Estimated cost of incumbent: -0.881414\n"
          ],
          "name": "stderr"
        },
        {
          "output_type": "stream",
          "text": [
            "Optimized Value: 0.88\n"
          ],
          "name": "stdout"
        }
      ]
    },
    {
      "cell_type": "code",
      "metadata": {
        "id": "i8PHrmK4KEEM",
        "colab_type": "code",
        "colab": {}
      },
      "source": [
        "def get_acquisition_function_history(smac):\n",
        "\n",
        "  maximum = 0.00000001\n",
        "  history_of_maximums = []\n",
        "\n",
        "  history = -smac.get_X_y()[1]\n",
        "\n",
        "  for i in range(len(history)):\n",
        "      if history[i] > maximum:\n",
        "          maximum = history[i]\n",
        "          history_of_maximums.append(maximum)\n",
        "      else:\n",
        "          history_of_maximums.append(maximum) \n",
        "  \n",
        "  return history_of_maximums"
      ],
      "execution_count": 0,
      "outputs": []
    },
    {
      "cell_type": "code",
      "metadata": {
        "id": "pd4LRqs-KKyX",
        "colab_type": "code",
        "colab": {}
      },
      "source": [
        "history_EI = get_acquisition_function_history(smac_EI_acq_func)\n",
        "history_LCB = get_acquisition_function_history(smac_LCB_acq_func)"
      ],
      "execution_count": 0,
      "outputs": []
    },
    {
      "cell_type": "code",
      "metadata": {
        "id": "INst9Yp0KeOF",
        "colab_type": "code",
        "outputId": "696e00fe-cbe5-42ff-9af5-866df3d72383",
        "colab": {
          "base_uri": "https://localhost:8080/",
          "height": 352
        }
      },
      "source": [
        "plt.figure(figsize = (15,5))\n",
        "plt.plot(history_EI, marker = \"8\", color = \"blue\")\n",
        "plt.plot(history_LCB, marker = \"8\",color=\"red\")\n",
        "plt.legend([\"LCB\", \"EI\"])\n",
        "plt.xlabel(\"Iterations\")\n",
        "plt.ylabel(\"Accuracy\")\n"
      ],
      "execution_count": 29,
      "outputs": [
        {
          "output_type": "execute_result",
          "data": {
            "text/plain": [
              "Text(0, 0.5, 'Accuracy')"
            ]
          },
          "metadata": {
            "tags": []
          },
          "execution_count": 29
        },
        {
          "output_type": "display_data",
          "data": {
            "image/png": "[encoded data removed]",
            "text/plain": [
              "<Figure size 1080x360 with 1 Axes>"
            ]
          },
          "metadata": {
            "tags": []
          }
        }
      ]
    },
    {
      "cell_type": "code",
      "metadata": {
        "id": "Krq3BVdZndWT",
        "colab_type": "code",
        "outputId": "9c0883ec-b908-4a4f-ed26-86106e7c4680",
        "colab": {
          "base_uri": "https://localhost:8080/",
          "height": 110
        }
      },
      "source": [
        "mlp = MLPClassifier(hidden_layer_sizes = (4,2,))\n",
        "mlp_param_grid = {\"learning_rate_init\":[0.01, 0.03, 0.06, 0.09, 0.1], \"momentum\":[0.1, 0.2, 0.4, 0.6, 0.9]}\n",
        "\n",
        "mlp_grid = GridSearchCV(mlp, mlp_param_grid, scoring = \"accuracy\", cv = StratifiedKFold(n_splits=10,random_state=strat_seed))\n",
        "\n",
        "mlp_grid.fit(data, target)\n",
        "\n",
        "print(\"Best params: {}\\nBest score: {}\".format(mlp_grid.best_params_, mlp_grid.best_score_))\n"
      ],
      "execution_count": 14,
      "outputs": [
        {
          "output_type": "stream",
          "text": [
            "Best params: {'learning_rate_init': 0.01, 'momentum': 0.1}\n",
            "Best score: 0.88\n"
          ],
          "name": "stdout"
        },
        {
          "output_type": "stream",
          "text": [
            "/usr/local/lib/python3.6/dist-packages/sklearn/model_selection/_search.py:814: DeprecationWarning: The default of the `iid` parameter will change from True to False in version 0.22 and will be removed in 0.24. This will change numeric results when test-set sizes are unequal.\n",
            "  DeprecationWarning)\n"
          ],
          "name": "stderr"
        }
      ]
    },
    {
      "cell_type": "code",
      "metadata": {
        "id": "7LjI1VJCq68I",
        "colab_type": "code",
        "outputId": "ac64d767-6e89-4afb-b167-e021529d2e67",
        "colab": {
          "base_uri": "https://localhost:8080/",
          "height": 110
        }
      },
      "source": [
        "param_distribution = {\"learning_rate_init\":uniform(0.01, 0.1), \"momentum\":uniform(0.1, 0.9)}\n",
        "\n",
        "mlp_random = RandomizedSearchCV(mlp, param_distribution, scoring = \"accuracy\", cv = StratifiedKFold(n_splits=10,random_state=strat_seed) , n_iter = 25)\n",
        "\n",
        "mlp_random.fit(data, target)\n",
        "\n",
        "print(\"Best params: {}\\nBest score: {}\".format(mlp_random.best_params_, mlp_random.best_score_))"
      ],
      "execution_count": 15,
      "outputs": [
        {
          "output_type": "stream",
          "text": [
            "Best params: {'learning_rate_init': 0.05431456317397255, 'momentum': 0.14092100882739633}\n",
            "Best score: 0.9\n"
          ],
          "name": "stdout"
        },
        {
          "output_type": "stream",
          "text": [
            "/usr/local/lib/python3.6/dist-packages/sklearn/model_selection/_search.py:814: DeprecationWarning: The default of the `iid` parameter will change from True to False in version 0.22 and will be removed in 0.24. This will change numeric results when test-set sizes are unequal.\n",
            "  DeprecationWarning)\n"
          ],
          "name": "stderr"
        }
      ]
    },
    {
      "cell_type": "code",
      "metadata": {
        "id": "0NYnbJ5htd5R",
        "colab_type": "code",
        "colab": {}
      },
      "source": [
        "##### STEP 2"
      ],
      "execution_count": 0,
      "outputs": []
    },
    {
      "cell_type": "code",
      "metadata": {
        "id": "gNw0h5gBPnol",
        "colab_type": "code",
        "outputId": "2a1bea10-fdf3-41ce-cf03-f54218f63217",
        "colab": {
          "base_uri": "https://localhost:8080/",
          "height": 90
        }
      },
      "source": [
        "cs_2 = ConfigurationSpace()\n",
        "learning_rate_2 = UniformFloatHyperparameter(\"learning_rate_init_2\", 0.01, 1.0)\n",
        "momentum_2 = UniformFloatHyperparameter(\"momentum_2\", 0.1, 0.9)\n",
        "hidden_neurons_1 = UniformIntegerHyperparameter(\"hidden_neurons_1\", 1, 5)\n",
        "hidden_neurons_2 = UniformIntegerHyperparameter(\"hidden_neurons_2\", 1, 5)\n",
        "\n",
        "cs_2.add_hyperparameters([learning_rate_2,momentum_2,hidden_neurons_1,hidden_neurons_2])"
      ],
      "execution_count": 17,
      "outputs": [
        {
          "output_type": "execute_result",
          "data": {
            "text/plain": [
              "[learning_rate_init_2, Type: UniformFloat, Range: [0.01, 1.0], Default: 0.505,\n",
              " momentum_2, Type: UniformFloat, Range: [0.1, 0.9], Default: 0.5,\n",
              " hidden_neurons_1, Type: UniformInteger, Range: [1, 5], Default: 3,\n",
              " hidden_neurons_2, Type: UniformInteger, Range: [1, 5], Default: 3]"
            ]
          },
          "metadata": {
            "tags": []
          },
          "execution_count": 17
        }
      ]
    },
    {
      "cell_type": "code",
      "metadata": {
        "id": "ml9IC1NSQMnJ",
        "colab_type": "code",
        "colab": {}
      },
      "source": [
        "def ann_from_cfg_2(cfg):\n",
        "\n",
        "  random_seed_2 = int(cfg[\"learning_rate_init_2\"]*cfg[\"momentum_2\"]*5000)\n",
        "\n",
        "  clf = MLPClassifier(learning_rate_init = cfg[\"learning_rate_init_2\"],\n",
        "                      momentum = cfg[\"momentum_2\"], \n",
        "                      hidden_layer_sizes = (cfg[\"hidden_neurons_1\"],cfg[\"hidden_neurons_2\"],),\n",
        "                      random_state = random_seed_2)\n",
        "\n",
        "  scores_2 = cross_val_score(clf, data, target, cv =StratifiedKFold(n_splits=10,random_state=strat_seed), scoring = 'accuracy')\n",
        "\n",
        "\n",
        "  return -np.mean(scores_2)"
      ],
      "execution_count": 0,
      "outputs": []
    },
    {
      "cell_type": "code",
      "metadata": {
        "id": "e3jis21iXObB",
        "colab_type": "code",
        "colab": {}
      },
      "source": [
        "init_2 = cs_2.sample_configuration(10)"
      ],
      "execution_count": 0,
      "outputs": []
    },
    {
      "cell_type": "code",
      "metadata": {
        "id": "lOON-KUuX7Qx",
        "colab_type": "code",
        "outputId": "3d79b201-ed83-4ad4-ccf3-73b8212b6ee9",
        "colab": {
          "base_uri": "https://localhost:8080/",
          "height": 35
        }
      },
      "source": [
        "# Scenario object\n",
        "scenario_2 = Scenario({\"run_obj\": \"quality\",   # we optimize quality (alternatively runtime)\n",
        "                     \"runcount-limit\": 110,   # max. number of function evaluations; for this example set to a low number\n",
        "                     \"cs\": cs_2,               # configuration space\n",
        "                     \"deterministic\": \"true\",\n",
        "                     \"abort_on_first_run_crash\": \"false\"\n",
        "                     })"
      ],
      "execution_count": 20,
      "outputs": [
        {
          "output_type": "stream",
          "text": [
            "INFO:smac.utils.io.cmd_reader.CMDReader:Output to smac3-output_2019-12-09_10:18:46_044069\n"
          ],
          "name": "stderr"
        }
      ]
    },
    {
      "cell_type": "code",
      "metadata": {
        "id": "g8RNXSM1YDZh",
        "colab_type": "code",
        "outputId": "8e408283-553d-4990-d529-4896206034ea",
        "colab": {
          "base_uri": "https://localhost:8080/",
          "height": 1000
        }
      },
      "source": [
        "print(\"Optimizing using EI acquisition function:\\n\")\n",
        "\n",
        "smac_EI_acq_func_2=SMAC4HPO(scenario = scenario_2,\n",
        "                tae_runner = ann_from_cfg_2,\n",
        "               initial_design = None,\n",
        "              initial_design_kwargs = {'max_config_fracs': 10/110},\n",
        "               initial_configurations = init_2,\n",
        "               acquisition_function = EI)\n",
        "\n",
        "incumbent_EI_acq_func_2 = smac_EI_acq_func_2.optimize()\n",
        "\n",
        "inc_value_EI_acq_func_2 = ann_from_cfg_2(incumbent_EI_acq_func_2)\n",
        "print(\"Optimized Value: %.2f\" % (-inc_value_EI_acq_func_2))"
      ],
      "execution_count": 21,
      "outputs": [
        {
          "output_type": "stream",
          "text": [
            "INFO:smac.facade.smac_hpo_facade.SMAC4HPO:Optimizing a deterministic scenario for quality without a tuner timeout - will make SMAC deterministic and only evaluate one configuration per iteration!\n",
            "INFO:smac.initial_design.initial_design.InitialDesign:Running initial design for 10 configurations\n",
            "INFO:smac.facade.smac_hpo_facade.SMAC4HPO:<class 'smac.facade.smac_hpo_facade.SMAC4HPO'>\n"
          ],
          "name": "stderr"
        },
        {
          "output_type": "stream",
          "text": [
            "Optimizing using EI acquisition function:\n",
            "\n"
          ],
          "name": "stdout"
        },
        {
          "output_type": "stream",
          "text": [
            "INFO:smac.intensification.intensification.Intensifier:Challenger (-0.8814) is better than incumbent (-0.8714) on 1 runs.\n",
            "INFO:smac.intensification.intensification.Intensifier:Changes in incumbent:\n",
            "INFO:smac.intensification.intensification.Intensifier:  hidden_neurons_1 : 3 -> 1\n",
            "INFO:smac.intensification.intensification.Intensifier:  hidden_neurons_2 : 4 -> 1\n",
            "INFO:smac.intensification.intensification.Intensifier:  learning_rate_init_2 : 0.9909430032430783 -> 0.545279802949211\n",
            "INFO:smac.intensification.intensification.Intensifier:  momentum_2 : 0.6299723146582347 -> 0.7999628865153477\n",
            "INFO:smac.intensification.intensification.Intensifier:Challenger (-0.9005) is better than incumbent (-0.8814) on 1 runs.\n",
            "INFO:smac.intensification.intensification.Intensifier:Changes in incumbent:\n",
            "INFO:smac.intensification.intensification.Intensifier:  hidden_neurons_1 : 1 -> 4\n",
            "INFO:smac.intensification.intensification.Intensifier:  hidden_neurons_2 : 1 -> 5\n",
            "INFO:smac.intensification.intensification.Intensifier:  learning_rate_init_2 : 0.545279802949211 -> 0.02406056721665562\n",
            "INFO:smac.intensification.intensification.Intensifier:  momentum_2 : 0.7999628865153477 -> 0.263794177043713\n",
            "INFO:smac.intensification.intensification.Intensifier:Updated estimated cost of incumbent on 1 runs: -0.9005\n",
            "INFO:smac.intensification.intensification.Intensifier:Updated estimated cost of incumbent on 1 runs: -0.9005\n",
            "INFO:smac.intensification.intensification.Intensifier:Updated estimated cost of incumbent on 1 runs: -0.9005\n",
            "INFO:smac.intensification.intensification.Intensifier:Updated estimated cost of incumbent on 1 runs: -0.9005\n",
            "INFO:smac.intensification.intensification.Intensifier:Updated estimated cost of incumbent on 1 runs: -0.9005\n",
            "INFO:smac.intensification.intensification.Intensifier:Updated estimated cost of incumbent on 1 runs: -0.9005\n",
            "INFO:smac.intensification.intensification.Intensifier:Updated estimated cost of incumbent on 1 runs: -0.9005\n",
            "INFO:smac.intensification.intensification.Intensifier:Updated estimated cost of incumbent on 1 runs: -0.9005\n",
            "INFO:smac.intensification.intensification.Intensifier:Updated estimated cost of incumbent on 1 runs: -0.9005\n",
            "INFO:smac.intensification.intensification.Intensifier:Updated estimated cost of incumbent on 1 runs: -0.9005\n",
            "INFO:smac.intensification.intensification.Intensifier:Updated estimated cost of incumbent on 1 runs: -0.9005\n",
            "INFO:smac.intensification.intensification.Intensifier:Updated estimated cost of incumbent on 1 runs: -0.9005\n",
            "INFO:smac.intensification.intensification.Intensifier:Updated estimated cost of incumbent on 1 runs: -0.9005\n",
            "INFO:smac.intensification.intensification.Intensifier:Updated estimated cost of incumbent on 1 runs: -0.9005\n",
            "INFO:smac.intensification.intensification.Intensifier:Updated estimated cost of incumbent on 1 runs: -0.9005\n",
            "INFO:smac.intensification.intensification.Intensifier:Updated estimated cost of incumbent on 1 runs: -0.9005\n",
            "INFO:smac.intensification.intensification.Intensifier:Updated estimated cost of incumbent on 1 runs: -0.9005\n",
            "INFO:smac.intensification.intensification.Intensifier:Updated estimated cost of incumbent on 1 runs: -0.9005\n",
            "INFO:smac.intensification.intensification.Intensifier:Updated estimated cost of incumbent on 1 runs: -0.9005\n",
            "INFO:smac.intensification.intensification.Intensifier:Updated estimated cost of incumbent on 1 runs: -0.9005\n",
            "INFO:smac.intensification.intensification.Intensifier:Updated estimated cost of incumbent on 1 runs: -0.9005\n",
            "INFO:smac.intensification.intensification.Intensifier:Updated estimated cost of incumbent on 1 runs: -0.9005\n",
            "INFO:smac.intensification.intensification.Intensifier:Updated estimated cost of incumbent on 1 runs: -0.9005\n",
            "INFO:smac.intensification.intensification.Intensifier:Updated estimated cost of incumbent on 1 runs: -0.9005\n",
            "INFO:smac.intensification.intensification.Intensifier:Updated estimated cost of incumbent on 1 runs: -0.9005\n",
            "INFO:smac.intensification.intensification.Intensifier:Updated estimated cost of incumbent on 1 runs: -0.9005\n",
            "INFO:smac.intensification.intensification.Intensifier:Updated estimated cost of incumbent on 1 runs: -0.9005\n",
            "INFO:smac.intensification.intensification.Intensifier:Updated estimated cost of incumbent on 1 runs: -0.9005\n",
            "INFO:smac.intensification.intensification.Intensifier:Updated estimated cost of incumbent on 1 runs: -0.9005\n",
            "INFO:smac.intensification.intensification.Intensifier:Updated estimated cost of incumbent on 1 runs: -0.9005\n",
            "INFO:smac.intensification.intensification.Intensifier:Updated estimated cost of incumbent on 1 runs: -0.9005\n",
            "INFO:smac.intensification.intensification.Intensifier:Updated estimated cost of incumbent on 1 runs: -0.9005\n",
            "INFO:smac.intensification.intensification.Intensifier:Updated estimated cost of incumbent on 1 runs: -0.9005\n",
            "INFO:smac.intensification.intensification.Intensifier:Updated estimated cost of incumbent on 1 runs: -0.9005\n",
            "INFO:smac.intensification.intensification.Intensifier:Updated estimated cost of incumbent on 1 runs: -0.9005\n",
            "INFO:smac.intensification.intensification.Intensifier:Updated estimated cost of incumbent on 1 runs: -0.9005\n",
            "INFO:smac.intensification.intensification.Intensifier:Updated estimated cost of incumbent on 1 runs: -0.9005\n",
            "INFO:smac.intensification.intensification.Intensifier:Updated estimated cost of incumbent on 1 runs: -0.9005\n",
            "INFO:smac.intensification.intensification.Intensifier:Updated estimated cost of incumbent on 1 runs: -0.9005\n",
            "INFO:smac.intensification.intensification.Intensifier:Updated estimated cost of incumbent on 1 runs: -0.9005\n",
            "INFO:smac.intensification.intensification.Intensifier:Updated estimated cost of incumbent on 1 runs: -0.9005\n",
            "INFO:smac.intensification.intensification.Intensifier:Updated estimated cost of incumbent on 1 runs: -0.9005\n",
            "INFO:smac.intensification.intensification.Intensifier:Updated estimated cost of incumbent on 1 runs: -0.9005\n",
            "INFO:smac.intensification.intensification.Intensifier:Updated estimated cost of incumbent on 1 runs: -0.9005\n",
            "INFO:smac.intensification.intensification.Intensifier:Updated estimated cost of incumbent on 1 runs: -0.9005\n",
            "INFO:smac.intensification.intensification.Intensifier:Updated estimated cost of incumbent on 1 runs: -0.9005\n",
            "INFO:smac.intensification.intensification.Intensifier:Updated estimated cost of incumbent on 1 runs: -0.9005\n",
            "INFO:smac.intensification.intensification.Intensifier:Updated estimated cost of incumbent on 1 runs: -0.9005\n",
            "INFO:smac.intensification.intensification.Intensifier:Updated estimated cost of incumbent on 1 runs: -0.9005\n",
            "INFO:smac.intensification.intensification.Intensifier:Updated estimated cost of incumbent on 1 runs: -0.9005\n",
            "INFO:smac.intensification.intensification.Intensifier:Updated estimated cost of incumbent on 1 runs: -0.9005\n",
            "INFO:smac.intensification.intensification.Intensifier:Updated estimated cost of incumbent on 1 runs: -0.9005\n",
            "INFO:smac.intensification.intensification.Intensifier:Updated estimated cost of incumbent on 1 runs: -0.9005\n",
            "INFO:smac.intensification.intensification.Intensifier:Updated estimated cost of incumbent on 1 runs: -0.9005\n",
            "INFO:smac.intensification.intensification.Intensifier:Updated estimated cost of incumbent on 1 runs: -0.9005\n",
            "INFO:smac.intensification.intensification.Intensifier:Updated estimated cost of incumbent on 1 runs: -0.9005\n",
            "INFO:smac.intensification.intensification.Intensifier:Updated estimated cost of incumbent on 1 runs: -0.9005\n",
            "INFO:smac.intensification.intensification.Intensifier:Updated estimated cost of incumbent on 1 runs: -0.9005\n",
            "INFO:smac.intensification.intensification.Intensifier:Updated estimated cost of incumbent on 1 runs: -0.9005\n",
            "INFO:smac.intensification.intensification.Intensifier:Updated estimated cost of incumbent on 1 runs: -0.9005\n",
            "INFO:smac.intensification.intensification.Intensifier:Updated estimated cost of incumbent on 1 runs: -0.9005\n",
            "INFO:smac.intensification.intensification.Intensifier:Updated estimated cost of incumbent on 1 runs: -0.9005\n",
            "INFO:smac.intensification.intensification.Intensifier:Updated estimated cost of incumbent on 1 runs: -0.9005\n",
            "INFO:smac.intensification.intensification.Intensifier:Updated estimated cost of incumbent on 1 runs: -0.9005\n",
            "INFO:smac.intensification.intensification.Intensifier:Updated estimated cost of incumbent on 1 runs: -0.9005\n",
            "INFO:smac.intensification.intensification.Intensifier:Updated estimated cost of incumbent on 1 runs: -0.9005\n",
            "INFO:smac.intensification.intensification.Intensifier:Updated estimated cost of incumbent on 1 runs: -0.9005\n",
            "INFO:smac.intensification.intensification.Intensifier:Updated estimated cost of incumbent on 1 runs: -0.9005\n",
            "INFO:smac.intensification.intensification.Intensifier:Updated estimated cost of incumbent on 1 runs: -0.9005\n",
            "INFO:smac.intensification.intensification.Intensifier:Updated estimated cost of incumbent on 1 runs: -0.9005\n",
            "INFO:smac.intensification.intensification.Intensifier:Updated estimated cost of incumbent on 1 runs: -0.9005\n",
            "INFO:smac.intensification.intensification.Intensifier:Updated estimated cost of incumbent on 1 runs: -0.9005\n",
            "INFO:smac.intensification.intensification.Intensifier:Updated estimated cost of incumbent on 1 runs: -0.9005\n",
            "INFO:smac.intensification.intensification.Intensifier:Updated estimated cost of incumbent on 1 runs: -0.9005\n",
            "INFO:smac.intensification.intensification.Intensifier:Updated estimated cost of incumbent on 1 runs: -0.9005\n",
            "INFO:smac.intensification.intensification.Intensifier:Updated estimated cost of incumbent on 1 runs: -0.9005\n",
            "INFO:smac.intensification.intensification.Intensifier:Updated estimated cost of incumbent on 1 runs: -0.9005\n",
            "INFO:smac.intensification.intensification.Intensifier:Updated estimated cost of incumbent on 1 runs: -0.9005\n",
            "INFO:smac.intensification.intensification.Intensifier:Updated estimated cost of incumbent on 1 runs: -0.9005\n",
            "INFO:smac.intensification.intensification.Intensifier:Updated estimated cost of incumbent on 1 runs: -0.9005\n",
            "INFO:smac.intensification.intensification.Intensifier:Updated estimated cost of incumbent on 1 runs: -0.9005\n",
            "INFO:smac.intensification.intensification.Intensifier:Updated estimated cost of incumbent on 1 runs: -0.9005\n",
            "INFO:smac.intensification.intensification.Intensifier:Updated estimated cost of incumbent on 1 runs: -0.9005\n",
            "INFO:smac.intensification.intensification.Intensifier:Updated estimated cost of incumbent on 1 runs: -0.9005\n",
            "INFO:smac.intensification.intensification.Intensifier:Updated estimated cost of incumbent on 1 runs: -0.9005\n",
            "INFO:smac.intensification.intensification.Intensifier:Updated estimated cost of incumbent on 1 runs: -0.9005\n",
            "INFO:smac.intensification.intensification.Intensifier:Updated estimated cost of incumbent on 1 runs: -0.9005\n",
            "INFO:smac.intensification.intensification.Intensifier:Updated estimated cost of incumbent on 1 runs: -0.9005\n",
            "INFO:smac.intensification.intensification.Intensifier:Updated estimated cost of incumbent on 1 runs: -0.9005\n",
            "INFO:smac.intensification.intensification.Intensifier:Updated estimated cost of incumbent on 1 runs: -0.9005\n",
            "INFO:smac.intensification.intensification.Intensifier:Updated estimated cost of incumbent on 1 runs: -0.9005\n",
            "INFO:smac.intensification.intensification.Intensifier:Updated estimated cost of incumbent on 1 runs: -0.9005\n",
            "INFO:smac.intensification.intensification.Intensifier:Updated estimated cost of incumbent on 1 runs: -0.9005\n",
            "INFO:smac.intensification.intensification.Intensifier:Updated estimated cost of incumbent on 1 runs: -0.9005\n",
            "INFO:smac.intensification.intensification.Intensifier:Updated estimated cost of incumbent on 1 runs: -0.9005\n",
            "INFO:smac.intensification.intensification.Intensifier:Updated estimated cost of incumbent on 1 runs: -0.9005\n",
            "INFO:smac.intensification.intensification.Intensifier:Updated estimated cost of incumbent on 1 runs: -0.9005\n",
            "INFO:smac.intensification.intensification.Intensifier:Updated estimated cost of incumbent on 1 runs: -0.9005\n",
            "INFO:smac.intensification.intensification.Intensifier:Updated estimated cost of incumbent on 1 runs: -0.9005\n",
            "INFO:smac.intensification.intensification.Intensifier:Updated estimated cost of incumbent on 1 runs: -0.9005\n",
            "INFO:smac.intensification.intensification.Intensifier:Updated estimated cost of incumbent on 1 runs: -0.9005\n",
            "INFO:smac.stats.stats.Stats:##########################################################\n",
            "INFO:smac.stats.stats.Stats:Statistics:\n",
            "INFO:smac.stats.stats.Stats:#Incumbent changed: 2\n",
            "INFO:smac.stats.stats.Stats:#Target algorithm runs: 110 / 110.0\n",
            "INFO:smac.stats.stats.Stats:#Configurations: 110\n",
            "INFO:smac.stats.stats.Stats:Used wallclock time: 169.00 / inf sec \n",
            "INFO:smac.stats.stats.Stats:Used target algorithm runtime: 63.05 / inf sec\n",
            "INFO:smac.stats.stats.Stats:##########################################################\n",
            "INFO:smac.facade.smac_hpo_facade.SMAC4HPO:Final Incumbent: Configuration:\n",
            "  hidden_neurons_1, Value: 4\n",
            "  hidden_neurons_2, Value: 5\n",
            "  learning_rate_init_2, Value: 0.02406056721665562\n",
            "  momentum_2, Value: 0.263794177043713\n",
            "\n",
            "INFO:smac.facade.smac_hpo_facade.SMAC4HPO:Estimated cost of incumbent: -0.900505\n"
          ],
          "name": "stderr"
        },
        {
          "output_type": "stream",
          "text": [
            "Optimized Value: 0.90\n"
          ],
          "name": "stdout"
        }
      ]
    },
    {
      "cell_type": "code",
      "metadata": {
        "id": "7CZ1UeI5YjMk",
        "colab_type": "code",
        "outputId": "d17fa670-6d56-4a33-85b7-32b4512bbb36",
        "colab": {
          "base_uri": "https://localhost:8080/",
          "height": 1000
        }
      },
      "source": [
        "print(\"Optimizing using LCB acquisition function:\\n\")\n",
        "\n",
        "smac_LCB_acq_func_2=SMAC4HPO(scenario = scenario_2,\n",
        "                tae_runner = ann_from_cfg_2,\n",
        "               initial_design = None,\n",
        "              initial_design_kwargs = {'max_config_fracs': 10/110},\n",
        "               initial_configurations = init_2,\n",
        "               acquisition_function = LCB)\n",
        "\n",
        "incumbent_LCB_acq_func_2 = smac_LCB_acq_func_2.optimize()\n",
        "\n",
        "inc_value_LCB_acq_func_2 = ann_from_cfg_2(incumbent_LCB_acq_func_2)\n",
        "print(\"Optimized Value: %.2f\" % (-inc_value_LCB_acq_func_2))"
      ],
      "execution_count": 22,
      "outputs": [
        {
          "output_type": "stream",
          "text": [
            "INFO:smac.facade.smac_hpo_facade.SMAC4HPO:Optimizing a deterministic scenario for quality without a tuner timeout - will make SMAC deterministic and only evaluate one configuration per iteration!\n",
            "INFO:smac.initial_design.initial_design.InitialDesign:Running initial design for 10 configurations\n",
            "INFO:smac.facade.smac_hpo_facade.SMAC4HPO:<class 'smac.facade.smac_hpo_facade.SMAC4HPO'>\n"
          ],
          "name": "stderr"
        },
        {
          "output_type": "stream",
          "text": [
            "Optimizing using LCB acquisition function:\n",
            "\n"
          ],
          "name": "stdout"
        },
        {
          "output_type": "stream",
          "text": [
            "INFO:smac.intensification.intensification.Intensifier:Challenger (-0.8814) is better than incumbent (-0.8714) on 1 runs.\n",
            "INFO:smac.intensification.intensification.Intensifier:Changes in incumbent:\n",
            "INFO:smac.intensification.intensification.Intensifier:  hidden_neurons_1 : 3 -> 1\n",
            "INFO:smac.intensification.intensification.Intensifier:  hidden_neurons_2 : 4 -> 1\n",
            "INFO:smac.intensification.intensification.Intensifier:  learning_rate_init_2 : 0.9909430032430783 -> 0.545279802949211\n",
            "INFO:smac.intensification.intensification.Intensifier:  momentum_2 : 0.6299723146582347 -> 0.7999628865153477\n",
            "INFO:smac.intensification.intensification.Intensifier:Challenger (-0.9005) is better than incumbent (-0.8814) on 1 runs.\n",
            "INFO:smac.intensification.intensification.Intensifier:Changes in incumbent:\n",
            "INFO:smac.intensification.intensification.Intensifier:  hidden_neurons_1 : 1 -> 4\n",
            "INFO:smac.intensification.intensification.Intensifier:  hidden_neurons_2 : 1 -> 5\n",
            "INFO:smac.intensification.intensification.Intensifier:  learning_rate_init_2 : 0.545279802949211 -> 0.02406056721665562\n",
            "INFO:smac.intensification.intensification.Intensifier:  momentum_2 : 0.7999628865153477 -> 0.263794177043713\n",
            "INFO:smac.intensification.intensification.Intensifier:Updated estimated cost of incumbent on 1 runs: -0.9005\n",
            "INFO:smac.intensification.intensification.Intensifier:Updated estimated cost of incumbent on 1 runs: -0.9005\n",
            "INFO:smac.intensification.intensification.Intensifier:Updated estimated cost of incumbent on 1 runs: -0.9005\n",
            "INFO:smac.intensification.intensification.Intensifier:Updated estimated cost of incumbent on 1 runs: -0.9005\n",
            "INFO:smac.intensification.intensification.Intensifier:Updated estimated cost of incumbent on 1 runs: -0.9005\n",
            "INFO:smac.intensification.intensification.Intensifier:Updated estimated cost of incumbent on 1 runs: -0.9005\n",
            "INFO:smac.intensification.intensification.Intensifier:Updated estimated cost of incumbent on 1 runs: -0.9005\n",
            "INFO:smac.intensification.intensification.Intensifier:Updated estimated cost of incumbent on 1 runs: -0.9005\n",
            "INFO:smac.intensification.intensification.Intensifier:Updated estimated cost of incumbent on 1 runs: -0.9005\n",
            "INFO:smac.intensification.intensification.Intensifier:Updated estimated cost of incumbent on 1 runs: -0.9005\n",
            "INFO:smac.intensification.intensification.Intensifier:Updated estimated cost of incumbent on 1 runs: -0.9005\n",
            "INFO:smac.intensification.intensification.Intensifier:Updated estimated cost of incumbent on 1 runs: -0.9005\n",
            "INFO:smac.intensification.intensification.Intensifier:Updated estimated cost of incumbent on 1 runs: -0.9005\n",
            "INFO:smac.intensification.intensification.Intensifier:Updated estimated cost of incumbent on 1 runs: -0.9005\n",
            "INFO:smac.intensification.intensification.Intensifier:Updated estimated cost of incumbent on 1 runs: -0.9005\n",
            "INFO:smac.intensification.intensification.Intensifier:Updated estimated cost of incumbent on 1 runs: -0.9005\n",
            "INFO:smac.intensification.intensification.Intensifier:Updated estimated cost of incumbent on 1 runs: -0.9005\n",
            "INFO:smac.intensification.intensification.Intensifier:Updated estimated cost of incumbent on 1 runs: -0.9005\n",
            "INFO:smac.intensification.intensification.Intensifier:Updated estimated cost of incumbent on 1 runs: -0.9005\n",
            "INFO:smac.intensification.intensification.Intensifier:Updated estimated cost of incumbent on 1 runs: -0.9005\n",
            "INFO:smac.intensification.intensification.Intensifier:Updated estimated cost of incumbent on 1 runs: -0.9005\n",
            "INFO:smac.intensification.intensification.Intensifier:Updated estimated cost of incumbent on 1 runs: -0.9005\n",
            "INFO:smac.intensification.intensification.Intensifier:Updated estimated cost of incumbent on 1 runs: -0.9005\n",
            "INFO:smac.intensification.intensification.Intensifier:Updated estimated cost of incumbent on 1 runs: -0.9005\n",
            "INFO:smac.intensification.intensification.Intensifier:Updated estimated cost of incumbent on 1 runs: -0.9005\n",
            "INFO:smac.intensification.intensification.Intensifier:Updated estimated cost of incumbent on 1 runs: -0.9005\n",
            "INFO:smac.intensification.intensification.Intensifier:Updated estimated cost of incumbent on 1 runs: -0.9005\n",
            "INFO:smac.intensification.intensification.Intensifier:Updated estimated cost of incumbent on 1 runs: -0.9005\n",
            "INFO:smac.intensification.intensification.Intensifier:Updated estimated cost of incumbent on 1 runs: -0.9005\n",
            "INFO:smac.intensification.intensification.Intensifier:Updated estimated cost of incumbent on 1 runs: -0.9005\n",
            "INFO:smac.intensification.intensification.Intensifier:Updated estimated cost of incumbent on 1 runs: -0.9005\n",
            "INFO:smac.intensification.intensification.Intensifier:Updated estimated cost of incumbent on 1 runs: -0.9005\n",
            "INFO:smac.intensification.intensification.Intensifier:Updated estimated cost of incumbent on 1 runs: -0.9005\n",
            "INFO:smac.intensification.intensification.Intensifier:Updated estimated cost of incumbent on 1 runs: -0.9005\n",
            "INFO:smac.intensification.intensification.Intensifier:Updated estimated cost of incumbent on 1 runs: -0.9005\n",
            "INFO:smac.intensification.intensification.Intensifier:Updated estimated cost of incumbent on 1 runs: -0.9005\n",
            "INFO:smac.intensification.intensification.Intensifier:Updated estimated cost of incumbent on 1 runs: -0.9005\n",
            "INFO:smac.intensification.intensification.Intensifier:Updated estimated cost of incumbent on 1 runs: -0.9005\n",
            "INFO:smac.intensification.intensification.Intensifier:Updated estimated cost of incumbent on 1 runs: -0.9005\n",
            "INFO:smac.intensification.intensification.Intensifier:Updated estimated cost of incumbent on 1 runs: -0.9005\n",
            "INFO:smac.intensification.intensification.Intensifier:Updated estimated cost of incumbent on 1 runs: -0.9005\n",
            "INFO:smac.intensification.intensification.Intensifier:Updated estimated cost of incumbent on 1 runs: -0.9005\n",
            "INFO:smac.intensification.intensification.Intensifier:Updated estimated cost of incumbent on 1 runs: -0.9005\n",
            "INFO:smac.intensification.intensification.Intensifier:Updated estimated cost of incumbent on 1 runs: -0.9005\n",
            "INFO:smac.intensification.intensification.Intensifier:Updated estimated cost of incumbent on 1 runs: -0.9005\n",
            "INFO:smac.intensification.intensification.Intensifier:Updated estimated cost of incumbent on 1 runs: -0.9005\n",
            "INFO:smac.intensification.intensification.Intensifier:Updated estimated cost of incumbent on 1 runs: -0.9005\n",
            "INFO:smac.intensification.intensification.Intensifier:Updated estimated cost of incumbent on 1 runs: -0.9005\n",
            "INFO:smac.intensification.intensification.Intensifier:Updated estimated cost of incumbent on 1 runs: -0.9005\n",
            "INFO:smac.intensification.intensification.Intensifier:Updated estimated cost of incumbent on 1 runs: -0.9005\n",
            "INFO:smac.intensification.intensification.Intensifier:Updated estimated cost of incumbent on 1 runs: -0.9005\n",
            "INFO:smac.intensification.intensification.Intensifier:Updated estimated cost of incumbent on 1 runs: -0.9005\n",
            "INFO:smac.intensification.intensification.Intensifier:Updated estimated cost of incumbent on 1 runs: -0.9005\n",
            "INFO:smac.intensification.intensification.Intensifier:Updated estimated cost of incumbent on 1 runs: -0.9005\n",
            "INFO:smac.intensification.intensification.Intensifier:Updated estimated cost of incumbent on 1 runs: -0.9005\n",
            "INFO:smac.intensification.intensification.Intensifier:Updated estimated cost of incumbent on 1 runs: -0.9005\n",
            "INFO:smac.intensification.intensification.Intensifier:Updated estimated cost of incumbent on 1 runs: -0.9005\n",
            "INFO:smac.intensification.intensification.Intensifier:Updated estimated cost of incumbent on 1 runs: -0.9005\n",
            "INFO:smac.intensification.intensification.Intensifier:Updated estimated cost of incumbent on 1 runs: -0.9005\n",
            "INFO:smac.intensification.intensification.Intensifier:Updated estimated cost of incumbent on 1 runs: -0.9005\n",
            "INFO:smac.intensification.intensification.Intensifier:Updated estimated cost of incumbent on 1 runs: -0.9005\n",
            "INFO:smac.intensification.intensification.Intensifier:Updated estimated cost of incumbent on 1 runs: -0.9005\n",
            "INFO:smac.intensification.intensification.Intensifier:Updated estimated cost of incumbent on 1 runs: -0.9005\n",
            "INFO:smac.intensification.intensification.Intensifier:Updated estimated cost of incumbent on 1 runs: -0.9005\n",
            "INFO:smac.intensification.intensification.Intensifier:Updated estimated cost of incumbent on 1 runs: -0.9005\n",
            "INFO:smac.intensification.intensification.Intensifier:Updated estimated cost of incumbent on 1 runs: -0.9005\n",
            "INFO:smac.intensification.intensification.Intensifier:Updated estimated cost of incumbent on 1 runs: -0.9005\n",
            "INFO:smac.intensification.intensification.Intensifier:Updated estimated cost of incumbent on 1 runs: -0.9005\n",
            "INFO:smac.intensification.intensification.Intensifier:Updated estimated cost of incumbent on 1 runs: -0.9005\n",
            "INFO:smac.intensification.intensification.Intensifier:Updated estimated cost of incumbent on 1 runs: -0.9005\n",
            "INFO:smac.intensification.intensification.Intensifier:Updated estimated cost of incumbent on 1 runs: -0.9005\n",
            "INFO:smac.intensification.intensification.Intensifier:Updated estimated cost of incumbent on 1 runs: -0.9005\n",
            "INFO:smac.intensification.intensification.Intensifier:Updated estimated cost of incumbent on 1 runs: -0.9005\n",
            "INFO:smac.intensification.intensification.Intensifier:Updated estimated cost of incumbent on 1 runs: -0.9005\n",
            "INFO:smac.intensification.intensification.Intensifier:Updated estimated cost of incumbent on 1 runs: -0.9005\n",
            "INFO:smac.intensification.intensification.Intensifier:Updated estimated cost of incumbent on 1 runs: -0.9005\n",
            "INFO:smac.intensification.intensification.Intensifier:Updated estimated cost of incumbent on 1 runs: -0.9005\n",
            "INFO:smac.intensification.intensification.Intensifier:Updated estimated cost of incumbent on 1 runs: -0.9005\n",
            "INFO:smac.intensification.intensification.Intensifier:Updated estimated cost of incumbent on 1 runs: -0.9005\n",
            "INFO:smac.intensification.intensification.Intensifier:Updated estimated cost of incumbent on 1 runs: -0.9005\n",
            "INFO:smac.intensification.intensification.Intensifier:Updated estimated cost of incumbent on 1 runs: -0.9005\n",
            "INFO:smac.intensification.intensification.Intensifier:Updated estimated cost of incumbent on 1 runs: -0.9005\n",
            "INFO:smac.intensification.intensification.Intensifier:Updated estimated cost of incumbent on 1 runs: -0.9005\n",
            "INFO:smac.intensification.intensification.Intensifier:Updated estimated cost of incumbent on 1 runs: -0.9005\n",
            "INFO:smac.intensification.intensification.Intensifier:Updated estimated cost of incumbent on 1 runs: -0.9005\n",
            "INFO:smac.intensification.intensification.Intensifier:Updated estimated cost of incumbent on 1 runs: -0.9005\n",
            "INFO:smac.intensification.intensification.Intensifier:Updated estimated cost of incumbent on 1 runs: -0.9005\n",
            "INFO:smac.intensification.intensification.Intensifier:Updated estimated cost of incumbent on 1 runs: -0.9005\n",
            "INFO:smac.intensification.intensification.Intensifier:Updated estimated cost of incumbent on 1 runs: -0.9005\n",
            "INFO:smac.intensification.intensification.Intensifier:Updated estimated cost of incumbent on 1 runs: -0.9005\n",
            "INFO:smac.intensification.intensification.Intensifier:Updated estimated cost of incumbent on 1 runs: -0.9005\n",
            "INFO:smac.intensification.intensification.Intensifier:Updated estimated cost of incumbent on 1 runs: -0.9005\n",
            "INFO:smac.intensification.intensification.Intensifier:Updated estimated cost of incumbent on 1 runs: -0.9005\n",
            "INFO:smac.intensification.intensification.Intensifier:Updated estimated cost of incumbent on 1 runs: -0.9005\n",
            "INFO:smac.intensification.intensification.Intensifier:Updated estimated cost of incumbent on 1 runs: -0.9005\n",
            "INFO:smac.intensification.intensification.Intensifier:Updated estimated cost of incumbent on 1 runs: -0.9005\n",
            "INFO:smac.intensification.intensification.Intensifier:Updated estimated cost of incumbent on 1 runs: -0.9005\n",
            "INFO:smac.intensification.intensification.Intensifier:Updated estimated cost of incumbent on 1 runs: -0.9005\n",
            "INFO:smac.intensification.intensification.Intensifier:Updated estimated cost of incumbent on 1 runs: -0.9005\n",
            "INFO:smac.intensification.intensification.Intensifier:Updated estimated cost of incumbent on 1 runs: -0.9005\n",
            "INFO:smac.intensification.intensification.Intensifier:Updated estimated cost of incumbent on 1 runs: -0.9005\n",
            "INFO:smac.stats.stats.Stats:##########################################################\n",
            "INFO:smac.stats.stats.Stats:Statistics:\n",
            "INFO:smac.stats.stats.Stats:#Incumbent changed: 2\n",
            "INFO:smac.stats.stats.Stats:#Target algorithm runs: 110 / 110.0\n",
            "INFO:smac.stats.stats.Stats:#Configurations: 110\n",
            "INFO:smac.stats.stats.Stats:Used wallclock time: 170.53 / inf sec \n",
            "INFO:smac.stats.stats.Stats:Used target algorithm runtime: 71.16 / inf sec\n",
            "INFO:smac.stats.stats.Stats:##########################################################\n",
            "INFO:smac.facade.smac_hpo_facade.SMAC4HPO:Final Incumbent: Configuration:\n",
            "  hidden_neurons_1, Value: 4\n",
            "  hidden_neurons_2, Value: 5\n",
            "  learning_rate_init_2, Value: 0.02406056721665562\n",
            "  momentum_2, Value: 0.263794177043713\n",
            "\n",
            "INFO:smac.facade.smac_hpo_facade.SMAC4HPO:Estimated cost of incumbent: -0.900505\n"
          ],
          "name": "stderr"
        },
        {
          "output_type": "stream",
          "text": [
            "Optimized Value: 0.90\n"
          ],
          "name": "stdout"
        }
      ]
    },
    {
      "cell_type": "code",
      "metadata": {
        "id": "yf24XuOGcH2n",
        "colab_type": "code",
        "colab": {}
      },
      "source": [
        "history_EI_2 = get_acquisition_function_history(smac_EI_acq_func_2)\n",
        "history_LCB_2 = get_acquisition_function_history(smac_LCB_acq_func_2)"
      ],
      "execution_count": 0,
      "outputs": []
    },
    {
      "cell_type": "code",
      "metadata": {
        "id": "wm1MmX33dMke",
        "colab_type": "code",
        "outputId": "150f6e26-cc41-48af-a011-0f74441f8bdf",
        "colab": {
          "base_uri": "https://localhost:8080/",
          "height": 352
        }
      },
      "source": [
        "plt.figure(figsize = (15,5))\n",
        "plt.plot(history_EI_2, marker = \"8\", color = \"blue\")\n",
        "plt.plot(history_LCB_2, marker = \"8\",color=\"red\")\n",
        "plt.legend([\"LCB\", \"EI\"])\n",
        "plt.xlabel(\"Iterations\")\n",
        "plt.ylabel(\"Accuracy\")"
      ],
      "execution_count": 24,
      "outputs": [
        {
          "output_type": "execute_result",
          "data": {
            "text/plain": [
              "Text(0, 0.5, 'Accuracy')"
            ]
          },
          "metadata": {
            "tags": []
          },
          "execution_count": 24
        },
        {
          "output_type": "display_data",
          "data": {
            "image/png": "[encoded data removed]",
            "text/plain": [
              "<Figure size 1080x360 with 1 Axes>"
            ]
          },
          "metadata": {
            "tags": []
          }
        }
      ]
    },
    {
      "cell_type": "code",
      "metadata": {
        "id": "dgmScqBLdd4h",
        "colab_type": "code",
        "colab": {}
      },
      "source": [
        ""
      ],
      "execution_count": 0,
      "outputs": []
    }
  ]
}