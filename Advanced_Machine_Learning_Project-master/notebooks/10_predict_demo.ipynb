{
 "cells": [
  {
   "cell_type": "code",
   "execution_count": 1,
   "metadata": {
    "colab": {
     "base_uri": "https://localhost:8080/",
     "height": 51
    },
    "colab_type": "code",
    "executionInfo": {
     "elapsed": 9269,
     "status": "ok",
     "timestamp": 1585897601876,
     "user": {
      "displayName": "Alessandro Riboni",
      "photoUrl": "",
      "userId": "16829951719295926048"
     },
     "user_tz": -120
    },
    "id": "VAJG-1desUIj",
    "outputId": "4cdb44da-fd99-421c-a754-227234f95981"
   },
   "outputs": [],
   "source": [
    "import tensorflow as tf\n",
    "import numpy as np\n",
    "import pandas as pd\n",
    "import matplotlib.pyplot as plt\n",
    "import cv2\n",
    "import os\n",
    "import random\n",
    "import pickle\n",
    "from sklearn.model_selection import KFold\n",
    "from tensorflow.keras.utils import to_categorical\n",
    "from tensorflow.keras.models import Sequential, Model\n",
    "from tensorflow.keras.layers import Conv2D, MaxPooling2D, Flatten, Dense, Dropout, BatchNormalization\n",
    "from sklearn.metrics import accuracy_score, log_loss\n",
    "from tensorflow.keras.callbacks import EarlyStopping, ModelCheckpoint\n",
    "from tensorflow.keras import backend as K\n",
    "from tensorflow.keras.optimizers import Adam, RMSprop, SGD\n",
    "import matplotlib.pyplot as plt\n",
    "from tensorflow.keras.applications import MobileNet\n",
    "from sklearn.metrics import classification_report\n",
    "from sklearn.utils import class_weight\n",
    "from tensorflow.keras.preprocessing.image import ImageDataGenerator\n",
    "from tensorflow.keras.layers import LeakyReLU, ReLU\n",
    "import json\n",
    "\n",
    "np.random.seed(2020)\n",
    "random_state = 52\n",
    "CATEGORIES = [\"c0\",\"c1\",\"c2\",\"c3\",\"c4\",\"c5\",\"c6\",\"c7\",\"c8\",\"c9\"]\n",
    "\n",
    "with open('best_params_mobilenet.json') as json_file:\n",
    "    best_params = json.load(json_file)"
   ]
  },
  {
   "cell_type": "code",
   "execution_count": 2,
   "metadata": {
    "colab": {},
    "colab_type": "code",
    "id": "FRvF_SajsUIt"
   },
   "outputs": [],
   "source": [
    "def restore_data(path):\n",
    "    data = dict()\n",
    "    if os.path.isfile(path):\n",
    "        file = open(path, 'rb')\n",
    "        data = pickle.load(file)\n",
    "    return data\n",
    "\n",
    "def preprocessing(X, Y, img_rows, img_cols, color_type=3):\n",
    "    \n",
    "    Y = np.array(Y, dtype=np.uint8)\n",
    "\n",
    "    if color_type == 1:\n",
    "        X = np.array(X, dtype=np.uint8).reshape(-1, img_rows, img_cols, 1)\n",
    "    else:\n",
    "        X = np.array(X, dtype=np.uint8).reshape(-1, img_rows, img_cols, 3)\n",
    "\n",
    "    Y = to_categorical(Y, 10)\n",
    "    X = X.astype('float32')\n",
    "    X /= 255\n",
    "    \n",
    "    return X, Y\n",
    "\n",
    "\n",
    "def read_image(path, img_rows, img_cols, color_type=3):\n",
    "  \n",
    "  image = cv2.imread(path, cv2.IMREAD_COLOR)\n",
    "  \n",
    "  resized_image = cv2.resize(image, (img_cols, img_rows))\n",
    "  \n",
    "  return resized_image\n",
    "\n",
    "def load_images(img_rows, img_cols, color_type, folder):\n",
    "    \n",
    "    images = []\n",
    "    labels = []\n",
    "    img_names = []\n",
    "\n",
    "    for category in CATEGORIES:\n",
    "        path = os.path.join(folder, category)\n",
    "        label = CATEGORIES.index(category)\n",
    "\n",
    "        for img in sorted(os.listdir(path)):\n",
    "            #print(img)\n",
    "            try:\n",
    "                image = read_image(os.path.join(path, img), img_rows, img_cols, color_type)     \n",
    "                images.append(image)\n",
    "                labels.append(label)\n",
    "                img_names.append(img)\n",
    "\n",
    "            except Exception as e:\n",
    "                pass\n",
    "\n",
    "    return images, labels, img_names"
   ]
  },
  {
   "cell_type": "code",
   "execution_count": 3,
   "metadata": {
    "colab": {},
    "colab_type": "code",
    "id": "uZahhq1BsUIz"
   },
   "outputs": [],
   "source": [
    "def best_fine_tuning_mobilenet(img_rows, img_cols, color_type, mobilenet_base):\n",
    "\n",
    "    model = Sequential()\n",
    "    model.add(mobilenet_base)\n",
    "    model.add(Flatten())\n",
    "    model.add(Dense(best_params[\"n_units_1\"]))\n",
    "    model.add(ReLU())\n",
    "    model.add(Dropout(best_params[\"dropout_rate_1\"]))\n",
    "    model.add(Dense(best_params[\"n_units_2\"]))\n",
    "    model.add(ReLU())\n",
    "    model.add(BatchNormalization())\n",
    "    model.add(Dropout(best_params[\"dropout_rate_2\"]))\n",
    "    model.add(Dense(10, activation = 'softmax'))\n",
    "\n",
    "    model.compile(optimizer = SGD(lr=best_params[\"lr\"], momentum=best_params[\"momentum\"]), loss='categorical_crossentropy', metrics = [\"accuracy\"])\n",
    "\n",
    "    return model"
   ]
  },
  {
   "cell_type": "code",
   "execution_count": 4,
   "metadata": {
    "colab": {},
    "colab_type": "code",
    "id": "UJxeGAbnsUI3"
   },
   "outputs": [],
   "source": [
    "def training_model(img_rows, img_cols, color_type=3):\n",
    "    \n",
    "    mobilenet = MobileNet(weights=\"imagenet\", include_top=False, input_shape=(img_rows, img_cols, color_type))\n",
    "    model = best_fine_tuning_mobilenet(img_rows, img_cols, color_type, mobilenet)\n",
    "    \n",
    "    X_test_1, Y_test_1, img_names_1 = load_images(img_rows, img_cols,color_type,\"pilota_1\")\n",
    "    X_test_2, Y_test_2, img_names_2 = load_images(img_rows, img_cols,color_type,\"pilota_2\")\n",
    "    X_test_1, Y_test_1 = preprocessing(X_test_1, Y_test_1, img_rows, img_cols, color_type)\n",
    "    X_test_2, Y_test_2 = preprocessing(X_test_2, Y_test_2, img_rows, img_cols, color_type)\n",
    "    print(\"Immagini caricate\", len(X_test_1))\n",
    "    p_test_1_final = []\n",
    "    p_test_2_final = []\n",
    "\n",
    "    for k in range(1,6):\n",
    "        weights_path = os.path.join('best_config_mobilenet', 'weights_kfold_' + str(k) + '.h5')\n",
    "\n",
    "        model.load_weights(weights_path)\n",
    "\n",
    "        predictions_test_1 = model.predict_proba(X_test_1, verbose=0)\n",
    "        predictions_test_2 = model.predict_proba(X_test_2, verbose=0)\n",
    "\n",
    "        Y_test_1_arg = [y.argmax() for y in Y_test_1]  \n",
    "        Y_test_2_arg = [y.argmax() for y in Y_test_2]\n",
    "\n",
    "        p_test_1_final.append(predictions_test_1)\n",
    "        p_test_2_final.append(predictions_test_2)\n",
    "\n",
    "    p_test_1_final = np.array(p_test_1_final)\n",
    "    p_mean_1 = np.mean(p_test_1_final, axis = 0)\n",
    "\n",
    "    p_test_2_final = np.array(p_test_2_final)\n",
    "    p_mean_2 = np.mean(p_test_2_final, axis = 0)\n",
    "    \n",
    "    predictions_test_1_arg = [y.argmax() for y in p_mean_1]\n",
    "    predictions_test_2_arg = [y.argmax() for y in p_mean_2] \n",
    "    \n",
    "    print('Classification report pilota_1')\n",
    "    print(classification_report(Y_test_1_arg, predictions_test_1_arg, target_names=CATEGORIES))\n",
    "\n",
    "    print('Classification report pilota_2')\n",
    "    print(classification_report(Y_test_2_arg, predictions_test_2_arg, target_names=CATEGORIES))\n",
    "    \n",
    "    return predictions_test_1, img_names_1, predictions_test_2, img_names_2"
   ]
  },
  {
   "cell_type": "code",
   "execution_count": 5,
   "metadata": {
    "colab": {
     "base_uri": "https://localhost:8080/",
     "height": 1000
    },
    "colab_type": "code",
    "executionInfo": {
     "elapsed": 39487,
     "status": "ok",
     "timestamp": 1585830355045,
     "user": {
      "displayName": "Alessandro Riboni",
      "photoUrl": "",
      "userId": "16752254102724944367"
     },
     "user_tz": -120
    },
    "id": "De4zcWows-A8",
    "outputId": "62bf63ce-e98b-4c74-ffcb-6a060623c8a6",
    "scrolled": true
   },
   "outputs": [
    {
     "name": "stdout",
     "output_type": "stream",
     "text": [
      "Immagini caricate 60\n",
      "Classification report pilota_1\n",
      "              precision    recall  f1-score   support\n",
      "\n",
      "          c0       1.00      0.50      0.67         6\n",
      "          c1       1.00      1.00      1.00         6\n",
      "          c2       1.00      1.00      1.00         6\n",
      "          c3       1.00      1.00      1.00         6\n",
      "          c4       1.00      1.00      1.00         6\n",
      "          c5       1.00      1.00      1.00         6\n",
      "          c6       1.00      1.00      1.00         6\n",
      "          c7       1.00      1.00      1.00         6\n",
      "          c8       1.00      1.00      1.00         6\n",
      "          c9       0.67      1.00      0.80         6\n",
      "\n",
      "    accuracy                           0.95        60\n",
      "   macro avg       0.97      0.95      0.95        60\n",
      "weighted avg       0.97      0.95      0.95        60\n",
      "\n",
      "Classification report pilota_2\n",
      "              precision    recall  f1-score   support\n",
      "\n",
      "          c0       1.00      0.50      0.67         6\n",
      "          c1       1.00      0.83      0.91         6\n",
      "          c2       1.00      1.00      1.00         6\n",
      "          c3       0.86      1.00      0.92         6\n",
      "          c4       0.55      1.00      0.71         6\n",
      "          c5       0.60      1.00      0.75         6\n",
      "          c6       1.00      1.00      1.00         6\n",
      "          c7       1.00      1.00      1.00         6\n",
      "          c8       1.00      0.17      0.29         6\n",
      "          c9       1.00      0.83      0.91         6\n",
      "\n",
      "    accuracy                           0.83        60\n",
      "   macro avg       0.90      0.83      0.81        60\n",
      "weighted avg       0.90      0.83      0.81        60\n",
      "\n"
     ]
    }
   ],
   "source": [
    "pred_1, img_names_1, pred_2, img_names_2 = training_model(128,128,3)"
   ]
  },
  {
   "cell_type": "code",
   "execution_count": 6,
   "metadata": {
    "colab": {},
    "colab_type": "code",
    "id": "azazBmxS3EjG"
   },
   "outputs": [],
   "source": [
    "import pandas as pd\n",
    "\n",
    "df_1 = pd.DataFrame(np.round(pred_1[0]*1000,0)).transpose()\n",
    "\n",
    "for i in range(1, len(pred_1)):\n",
    "    df_1 = pd.concat([df_1,pd.DataFrame(np.round(pred_1[i]*1000,0)).transpose()], axis=0)\n",
    "\n",
    "df_1[\"name\"] = img_names_1\n",
    "#df_1 = df_1.sort_values(by=['name'])\n",
    "df_1.to_csv(\"demo_v2/demo_1.csv\")"
   ]
  },
  {
   "cell_type": "code",
   "execution_count": 7,
   "metadata": {
    "colab": {},
    "colab_type": "code",
    "id": "iS_uPWzETaUE"
   },
   "outputs": [],
   "source": [
    "df_2 = pd.DataFrame(np.round(pred_2[0]*1000,0)).transpose()\n",
    "\n",
    "for i in range(1,len(pred_2)):\n",
    "    df_2 = pd.concat([df_2,pd.DataFrame(np.round(pred_2[i]*1000,0)).transpose()], axis=0)\n",
    "\n",
    "df_2[\"name\"] = img_names_2\n",
    "#df_2 = df_2.sort_values(by=['name'])\n",
    "df_2.to_csv(\"demo_v2/demo_2.csv\")"
   ]
  },
  {
   "cell_type": "code",
   "execution_count": null,
   "metadata": {},
   "outputs": [],
   "source": []
  }
 ],
 "metadata": {
  "accelerator": "GPU",
  "colab": {
   "collapsed_sections": [],
   "machine_shape": "hm",
   "name": "final_training.ipynb",
   "provenance": [
    {
     "file_id": "1ETyFQ7H4KHMkx9XmJS-LhfQyiBbndmOv",
     "timestamp": 1584698998334
    }
   ]
  },
  "kernelspec": {
   "display_name": "Python 3",
   "language": "python",
   "name": "python3"
  },
  "language_info": {
   "codemirror_mode": {
    "name": "ipython",
    "version": 3
   },
   "file_extension": ".py",
   "mimetype": "text/x-python",
   "name": "python",
   "nbconvert_exporter": "python",
   "pygments_lexer": "ipython3",
   "version": "3.7.4"
  }
 },
 "nbformat": 4,
 "nbformat_minor": 1
}
