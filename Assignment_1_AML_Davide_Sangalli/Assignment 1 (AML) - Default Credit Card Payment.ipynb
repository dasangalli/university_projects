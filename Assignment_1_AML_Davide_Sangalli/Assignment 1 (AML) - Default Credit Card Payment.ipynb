{
 "cells": [
  {
   "cell_type": "code",
   "execution_count": 1,
   "metadata": {},
   "outputs": [
    {
     "name": "stderr",
     "output_type": "stream",
     "text": [
      "Using TensorFlow backend.\n"
     ]
    }
   ],
   "source": [
    "#vengono importate le librerie necessarie\n",
    "\n",
    "import pandas as pd\n",
    "import numpy as np\n",
    "from sklearn.feature_selection import SelectKBest\n",
    "from sklearn.feature_selection import f_classif\n",
    "from sklearn.model_selection import train_test_split\n",
    "from sklearn.preprocessing import StandardScaler\n",
    "from sklearn.metrics import classification_report\n",
    "from keras.utils import np_utils\n",
    "from keras.models import Sequential\n",
    "from keras.layers import Dense\n",
    "import keras_metrics as km\n",
    "from keras import optimizers\n",
    "from keras.wrappers.scikit_learn import KerasClassifier\n",
    "from sklearn.model_selection import GridSearchCV\n",
    "from sklearn.metrics import f1_score"
   ]
  },
  {
   "cell_type": "code",
   "execution_count": 2,
   "metadata": {},
   "outputs": [],
   "source": [
    "#la funzione read_dataset legge il file contenente il dataset e riceve come input il nome del file\n",
    "\n",
    "def read_dataset(file_name):\n",
    "    df=pd.read_csv(\"/home/davide/Scrivania/Advanced Machine Learning/Assignment 1/{}\".format(file_name))\n",
    "    return df"
   ]
  },
  {
   "cell_type": "code",
   "execution_count": 3,
   "metadata": {},
   "outputs": [],
   "source": [
    "#la funzione split_dataset divide il dataset in features e labels. Essa richiama prima di tutto la funzione \n",
    "#read_dataset e poi effettua lo split. Questa funzione prende come parametri di input il nome del file e il nome\n",
    "#della colonna di target.\n",
    "\n",
    "def split_dataset(file_name,target):\n",
    "    df=read_dataset(file_name)\n",
    "    labels=df[\"{}\".format(target)]\n",
    "    dataset=df.drop([\"{}\".format(target)],axis=1)\n",
    "    return dataset,labels"
   ]
  },
  {
   "cell_type": "code",
   "execution_count": 4,
   "metadata": {},
   "outputs": [],
   "source": [
    "# prima di costruire la rete neurale viene fatto un minimo di preprocessing per capire quali siano le features \n",
    "#più importanti ai fini di una corretta classificazione. La funzione prepare_data restituisce un nuovo dataframe\n",
    "#con le features standardizzate (X_std) e il vettore di label (y). Questa funzione effettua come prima cosa\n",
    "#lo split del dataset tramite la funzione definita precedentemente e poi effettua la standardizzazione.\n",
    "#Riceve come parametri il nome del file e il nome della colonna di target.\n",
    "\n",
    "def prepare_data(file_name,target):\n",
    "    X,y=split_dataset(file_name,target)\n",
    "    scaler=StandardScaler()\n",
    "    X_std=scaler.fit_transform(X)\n",
    "    X_std=pd.DataFrame(X_std,columns=X.columns)\n",
    "    return X_std,y"
   ]
  },
  {
   "cell_type": "code",
   "execution_count": 5,
   "metadata": {},
   "outputs": [],
   "source": [
    "#La funzione univariate_selection effettua una feature selection univariata. Questa scelta è derivata dalla volontà \n",
    "#che l'importanza delle features non fosse influenzata dal tipo di classificatore utilizzato.\n",
    "#Questa funzione prende come parametri il nome del file e il nome della colonna di target. Viene prima letto \n",
    "#il dataset tramite la funzione read_dataset, viene poi invocata la funzione prepare_data e poi vengono stampate \n",
    "#in ordine di importanza le features che sono maggiormente significative rispetto alla variabile di target.\n",
    "\n",
    "def univariate_selection(file_name,target):\n",
    "    df=read_dataset(file_name)\n",
    "    X,y=prepare_data(file_name,target)\n",
    "    \n",
    "    #parametri di default (score_func=f_classif,k=10) \n",
    "    best_features=SelectKBest()\n",
    "    fit=best_features.fit(X,y)\n",
    "    \n",
    "    df_scores = pd.DataFrame(fit.scores_)\n",
    "    df_columns = pd.DataFrame(X.columns)\n",
    "    feature_scores = pd.concat([df_columns,df_scores],axis=1)\n",
    "    feature_scores.columns = ['Specs','Score']\n",
    "    \n",
    "    print(feature_scores.nlargest(len(df.columns),'Score'))"
   ]
  },
  {
   "cell_type": "code",
   "execution_count": 6,
   "metadata": {},
   "outputs": [
    {
     "name": "stdout",
     "output_type": "stream",
     "text": [
      "        Specs        Score\n",
      "5       PAY_0  3188.598395\n",
      "6       PAY_2  1959.137288\n",
      "7       PAY_3  1562.739676\n",
      "8       PAY_4  1318.868708\n",
      "9       PAY_5  1167.201233\n",
      "10      PAY_6   985.403368\n",
      "0   LIMIT_BAL   646.848436\n",
      "17   PAY_AMT1   146.980092\n",
      "18   PAY_AMT2    85.641326\n",
      "21   PAY_AMT5    84.843470\n",
      "20   PAY_AMT4    83.914118\n",
      "19   PAY_AMT3    79.029125\n",
      "22   PAY_AMT6    71.249181\n",
      "1         SEX    45.878062\n",
      "3    MARRIAGE    18.595389\n",
      "2   EDUCATION    18.328189\n",
      "11  BILL_AMT1    10.119373\n",
      "12  BILL_AMT2     5.202868\n",
      "13  BILL_AMT3     4.963755\n",
      "4         AGE     4.545373\n",
      "14  BILL_AMT4     2.717445\n",
      "15  BILL_AMT5     0.991987\n",
      "16  BILL_AMT6     0.564829\n"
     ]
    }
   ],
   "source": [
    "# di seguito vengono stampate le features in ordine di importanza. Si è deciso di prendere in considerazione solo \n",
    "#le prime 8.\n",
    "\n",
    "univariate_selection(\"train.csv\",\"default.payment.next.month\")"
   ]
  },
  {
   "cell_type": "code",
   "execution_count": 7,
   "metadata": {},
   "outputs": [],
   "source": [
    "#la funzione get_important_variables serve per estrarre le feautures importanti basate sull'osservazione del chunk \n",
    "#di cui sopra. Questa funzione prende in input il nome del file e una lista di parametri da selezionare \n",
    "#dal dataset che viene letto.\n",
    "\n",
    "def get_important_variables(file_name,parameter_list):\n",
    "    df=read_dataset(file_name)\n",
    "    new_df=pd.DataFrame()\n",
    "    for i in range(len(parameter_list)):\n",
    "        new_df[\"{}\".format(parameter_list[i])]=df[\"{}\".format(parameter_list[i])]\n",
    "        \n",
    "    return new_df"
   ]
  },
  {
   "cell_type": "code",
   "execution_count": 8,
   "metadata": {},
   "outputs": [],
   "source": [
    "#la funzione preprocess_dataset prepara il dataset per poter essere usato dalla rete neurale. Prima di tutto\n",
    "#vengono selezionate le variabili significative tramite la funzione get_important_variables, poi vengono\n",
    "#standardizzate le features e le labels vengono trasformate con il processo di one-hot encoding. \n",
    "#Vengono poi restituite le features e le labels processate. Questa funzione prende come parametri di input il nome\n",
    "#del file, la lista di parametri da selezionare e il numero di classi di output per la classificazione finale. \n",
    "\n",
    "def preprocess_dataset(file_name,parameter_list,target,num_classes):\n",
    "    new_df=get_important_variables(file_name,parameter_list)\n",
    "    y=new_df[\"{}\".format(target)]\n",
    "    X=new_df.drop([\"{}\".format(target)],axis=1)\n",
    "    scaler=StandardScaler()\n",
    "    X=scaler.fit_transform(X)\n",
    "    y=np_utils.to_categorical(y,num_classes=num_classes)\n",
    "    return X,y"
   ]
  },
  {
   "cell_type": "code",
   "execution_count": 9,
   "metadata": {},
   "outputs": [],
   "source": [
    "#viene splittato il dataset tra le features e le labels, selezionando preliminarmente solo le features importanti. \n",
    "\n",
    "X,y=preprocess_dataset(\"train.csv\",[\"PAY_0\",\"PAY_2\",\"PAY_3\",\"PAY_4\",\"PAY_5\",\"PAY_6\",\"LIMIT_BAL\",\"PAY_AMT1\",\n",
    "                                    \"default.payment.next.month\"],\"default.payment.next.month\",2)"
   ]
  },
  {
   "cell_type": "code",
   "execution_count": 10,
   "metadata": {},
   "outputs": [],
   "source": [
    "#le features e le labels vengono splittate in train e test,secondo i parametri passati\n",
    "\n",
    "X_train,X_val,y_train,y_val=train_test_split(X,y,test_size=0.15,random_state=42)"
   ]
  },
  {
   "cell_type": "code",
   "execution_count": 11,
   "metadata": {},
   "outputs": [],
   "source": [
    "#vengono riconvertiti in un array i valori delle labels del training set, per poter poi essere passate \n",
    "#correttamente alla funzione di GridSearch\n",
    "\n",
    "y_true_train=[]\n",
    "for i in range(len(y_train)):\n",
    "    y_true_train.append(np.argmax(y_train[i]))"
   ]
  },
  {
   "cell_type": "code",
   "execution_count": 301,
   "metadata": {},
   "outputs": [
    {
     "name": "stdout",
     "output_type": "stream",
     "text": [
      "0.5197984908619067 {'layers': [8, 16]}\n"
     ]
    }
   ],
   "source": [
    "#viene creata la la funzione create_model, a cui viene passato come input una lista di layer, che la funzione \n",
    "#di GridSearch dovrà ottimizzare.\n",
    "\n",
    "def create_model(layers):\n",
    "    \n",
    "    model=Sequential()\n",
    "    \n",
    "    for i,neurons in enumerate(layers):\n",
    "        if i==0:\n",
    "            model.add(Dense(neurons,input_shape=(8,),activation='relu'))\n",
    "        else:\n",
    "            model.add(Dense(neurons,activation='relu'))\n",
    "            \n",
    "    model.add(Dense(2,activation='softmax'))\n",
    "    \n",
    "    model.compile(optimizer='adam',loss='categorical_crossentropy')\n",
    "    \n",
    "    return model\n",
    "\n",
    "\n",
    "model=KerasClassifier(build_fn=create_model,batch_size=32,epochs=50,verbose=0)\n",
    "\n",
    "layers=[[8,16],[16,32],[8,16,32],[16,32,64]]\n",
    "\n",
    "param_grid=dict(layers=layers)\n",
    "\n",
    "grid=GridSearchCV(estimator=model,param_grid=param_grid,cv=3,scoring='f1')\n",
    "grid_result=grid.fit(X_train,y_true_train,class_weight={0:1,1:3.56})\n",
    "\n",
    "print(grid_result.best_score_,grid_result.best_params_)"
   ]
  },
  {
   "cell_type": "code",
   "execution_count": 12,
   "metadata": {},
   "outputs": [],
   "source": [
    "#questa funzione costruisce il modello vero e proprio in base ai parametri restituiti dalla grid search.\n",
    "#Prende in input le feautures e le labels, per poterne ottenere la shape\n",
    "\n",
    "def build_model(train_data,train_labels):\n",
    "    \n",
    "    model=Sequential()\n",
    "    model.add(Dense(8,input_shape=(train_data.shape[1],),activation='relu'))\n",
    "    model.add(Dense(16,activation='relu'))\n",
    "    model.add(Dense(train_labels.shape[1],activation='softmax'))\n",
    "    \n",
    "    model.compile(optimizer='adam',loss='categorical_crossentropy')\n",
    "    \n",
    "    return model"
   ]
  },
  {
   "cell_type": "code",
   "execution_count": 13,
   "metadata": {},
   "outputs": [
    {
     "name": "stdout",
     "output_type": "stream",
     "text": [
      "Train on 22950 samples, validate on 4050 samples\n",
      "Epoch 1/50\n",
      "22950/22950 [==============================] - 1s 42us/step - loss: 0.9736 - val_loss: 0.5994\n",
      "Epoch 2/50\n",
      "22950/22950 [==============================] - 1s 37us/step - loss: 0.9254 - val_loss: 0.5871\n",
      "Epoch 3/50\n",
      "22950/22950 [==============================] - 1s 38us/step - loss: 0.9168 - val_loss: 0.5522\n",
      "Epoch 4/50\n",
      "22950/22950 [==============================] - 1s 33us/step - loss: 0.9117 - val_loss: 0.5852\n",
      "Epoch 5/50\n",
      "22950/22950 [==============================] - 1s 33us/step - loss: 0.9086 - val_loss: 0.5264\n",
      "Epoch 6/50\n",
      "22950/22950 [==============================] - 1s 33us/step - loss: 0.9061 - val_loss: 0.5451\n",
      "Epoch 7/50\n",
      "22950/22950 [==============================] - 1s 33us/step - loss: 0.9036 - val_loss: 0.5658\n",
      "Epoch 8/50\n",
      "22950/22950 [==============================] - 1s 38us/step - loss: 0.9014 - val_loss: 0.5290\n",
      "Epoch 9/50\n",
      "22950/22950 [==============================] - 1s 33us/step - loss: 0.9000 - val_loss: 0.5634\n",
      "Epoch 10/50\n",
      "22950/22950 [==============================] - 1s 33us/step - loss: 0.8983 - val_loss: 0.5494\n",
      "Epoch 11/50\n",
      "22950/22950 [==============================] - 1s 33us/step - loss: 0.8969 - val_loss: 0.5746\n",
      "Epoch 12/50\n",
      "22950/22950 [==============================] - 1s 33us/step - loss: 0.8951 - val_loss: 0.5583\n",
      "Epoch 13/50\n",
      "22950/22950 [==============================] - 1s 33us/step - loss: 0.8949 - val_loss: 0.5670\n",
      "Epoch 14/50\n",
      "22950/22950 [==============================] - 1s 33us/step - loss: 0.8929 - val_loss: 0.5567\n",
      "Epoch 15/50\n",
      "22950/22950 [==============================] - 1s 34us/step - loss: 0.8928 - val_loss: 0.5551\n",
      "Epoch 16/50\n",
      "22950/22950 [==============================] - 1s 33us/step - loss: 0.8923 - val_loss: 0.5465\n",
      "Epoch 17/50\n",
      "22950/22950 [==============================] - 1s 34us/step - loss: 0.8910 - val_loss: 0.5619\n",
      "Epoch 18/50\n",
      "22950/22950 [==============================] - 1s 35us/step - loss: 0.8903 - val_loss: 0.5650\n",
      "Epoch 19/50\n",
      "22950/22950 [==============================] - 1s 35us/step - loss: 0.8899 - val_loss: 0.5387\n",
      "Epoch 20/50\n",
      "22950/22950 [==============================] - 1s 35us/step - loss: 0.8887 - val_loss: 0.5355\n",
      "Epoch 21/50\n",
      "22950/22950 [==============================] - 1s 35us/step - loss: 0.8887 - val_loss: 0.5303\n",
      "Epoch 22/50\n",
      "22950/22950 [==============================] - 1s 35us/step - loss: 0.8881 - val_loss: 0.5460\n",
      "Epoch 23/50\n",
      "22950/22950 [==============================] - 1s 35us/step - loss: 0.8881 - val_loss: 0.5497\n",
      "Epoch 24/50\n",
      "22950/22950 [==============================] - 1s 35us/step - loss: 0.8867 - val_loss: 0.5379\n",
      "Epoch 25/50\n",
      "22950/22950 [==============================] - 1s 35us/step - loss: 0.8870 - val_loss: 0.5635\n",
      "Epoch 26/50\n",
      "22950/22950 [==============================] - 1s 35us/step - loss: 0.8863 - val_loss: 0.5525\n",
      "Epoch 27/50\n",
      "22950/22950 [==============================] - 1s 35us/step - loss: 0.8863 - val_loss: 0.5334\n",
      "Epoch 28/50\n",
      "22950/22950 [==============================] - 1s 34us/step - loss: 0.8855 - val_loss: 0.5370\n",
      "Epoch 29/50\n",
      "22950/22950 [==============================] - 1s 33us/step - loss: 0.8857 - val_loss: 0.5471\n",
      "Epoch 30/50\n",
      "22950/22950 [==============================] - 1s 39us/step - loss: 0.8853 - val_loss: 0.5465\n",
      "Epoch 31/50\n",
      "22950/22950 [==============================] - 1s 42us/step - loss: 0.8850 - val_loss: 0.5332\n",
      "Epoch 32/50\n",
      "22950/22950 [==============================] - 1s 35us/step - loss: 0.8847 - val_loss: 0.5368\n",
      "Epoch 33/50\n",
      "22950/22950 [==============================] - 1s 35us/step - loss: 0.8846 - val_loss: 0.5441\n",
      "Epoch 34/50\n",
      "22950/22950 [==============================] - 1s 38us/step - loss: 0.8840 - val_loss: 0.5528\n",
      "Epoch 35/50\n",
      "22950/22950 [==============================] - 1s 34us/step - loss: 0.8841 - val_loss: 0.5674\n",
      "Epoch 36/50\n",
      "22950/22950 [==============================] - 1s 34us/step - loss: 0.8834 - val_loss: 0.5193\n",
      "Epoch 37/50\n",
      "22950/22950 [==============================] - 1s 40us/step - loss: 0.8838 - val_loss: 0.5482\n",
      "Epoch 38/50\n",
      "22950/22950 [==============================] - 1s 33us/step - loss: 0.8832 - val_loss: 0.5861\n",
      "Epoch 39/50\n",
      "22950/22950 [==============================] - 1s 40us/step - loss: 0.8837 - val_loss: 0.5582\n",
      "Epoch 40/50\n",
      "22950/22950 [==============================] - 1s 35us/step - loss: 0.8828 - val_loss: 0.5498\n",
      "Epoch 41/50\n",
      "22950/22950 [==============================] - 1s 35us/step - loss: 0.8830 - val_loss: 0.5409\n",
      "Epoch 42/50\n",
      "22950/22950 [==============================] - 1s 36us/step - loss: 0.8827 - val_loss: 0.5483\n",
      "Epoch 43/50\n",
      "22950/22950 [==============================] - 1s 47us/step - loss: 0.8827 - val_loss: 0.5550\n",
      "Epoch 44/50\n",
      "22950/22950 [==============================] - 1s 41us/step - loss: 0.8824 - val_loss: 0.5528\n",
      "Epoch 45/50\n",
      "22950/22950 [==============================] - 1s 50us/step - loss: 0.8813 - val_loss: 0.5327\n",
      "Epoch 46/50\n",
      "22950/22950 [==============================] - 1s 46us/step - loss: 0.8820 - val_loss: 0.5430\n",
      "Epoch 47/50\n",
      "22950/22950 [==============================] - 1s 40us/step - loss: 0.8821 - val_loss: 0.5278\n",
      "Epoch 48/50\n",
      "22950/22950 [==============================] - 1s 35us/step - loss: 0.8821 - val_loss: 0.5547\n",
      "Epoch 49/50\n",
      "22950/22950 [==============================] - 1s 35us/step - loss: 0.8815 - val_loss: 0.5679\n",
      "Epoch 50/50\n",
      "22950/22950 [==============================] - 1s 36us/step - loss: 0.8824 - val_loss: 0.5356\n"
     ]
    },
    {
     "data": {
      "text/plain": [
       "<keras.callbacks.callbacks.History at 0x7f34fc4d3080>"
      ]
     },
     "execution_count": 13,
     "metadata": {},
     "output_type": "execute_result"
    }
   ],
   "source": [
    "#viene costruito il modello e successivamente fittato con il training set e contemporaneamente validato sul \n",
    "#validation set. Si è scelta una batch size di 32, e si è dato un peso alle classi. In particolare pesi unitario \n",
    "#alla classe 1 (quella maggioritaria) e peso 3.56 alla classe 1 (quella minoritaria), visto il rapporto di class \n",
    "#imbalance\n",
    "\n",
    "model=build_model(X_train,y_train)\n",
    "model.fit(X_train,y_train,validation_data=(X_val,y_val),batch_size=32,epochs=50,class_weight={0:1,1:3.56})"
   ]
  },
  {
   "cell_type": "code",
   "execution_count": 304,
   "metadata": {},
   "outputs": [],
   "source": [
    "#vengono riconvertite le labels del validation set in un array, per poter poi essere passate correttamente alla\n",
    "#funzione classification_report.\n",
    "\n",
    "y_true_pred=[]\n",
    "for i in range(len(y_val)):\n",
    "    y_true_pred.append(np.argmax(y_val[i]))\n",
    "    \n",
    "y_true_pred=np.array(y_true_pred)"
   ]
  },
  {
   "cell_type": "code",
   "execution_count": 305,
   "metadata": {},
   "outputs": [],
   "source": [
    "#vengono predette le classi del validation set.\n",
    "\n",
    "y_pred=model.predict_classes(X_val)"
   ]
  },
  {
   "cell_type": "code",
   "execution_count": 306,
   "metadata": {},
   "outputs": [
    {
     "name": "stdout",
     "output_type": "stream",
     "text": [
      "              precision    recall  f1-score   support\n",
      "\n",
      "           0       0.88      0.82      0.85      3117\n",
      "           1       0.50      0.62      0.55       933\n",
      "\n",
      "    accuracy                           0.77      4050\n",
      "   macro avg       0.69      0.72      0.70      4050\n",
      "weighted avg       0.79      0.77      0.78      4050\n",
      "\n"
     ]
    }
   ],
   "source": [
    "#viene stampato il classification report del validation set.\n",
    "\n",
    "print(classification_report(y_true_pred,y_pred))"
   ]
  },
  {
   "cell_type": "code",
   "execution_count": 307,
   "metadata": {},
   "outputs": [
    {
     "name": "stdout",
     "output_type": "stream",
     "text": [
      "              precision    recall  f1-score   support\n",
      "\n",
      "           0       0.88      0.82      0.85     17910\n",
      "           1       0.49      0.60      0.54      5040\n",
      "\n",
      "    accuracy                           0.78     22950\n",
      "   macro avg       0.69      0.71      0.70     22950\n",
      "weighted avg       0.80      0.78      0.78     22950\n",
      "\n"
     ]
    }
   ],
   "source": [
    "#vengono predette le classi del train_set e viene poi stampato il classification report del training set. \n",
    "#Questa operazione viene fatta con lo scopo di verificare che non ci sia (troppo) overfitting tra training set \n",
    "#e validation set.\n",
    "\n",
    "y_pred_train=new_model.predict_classes(X_train)\n",
    "print(classification_report(y_true_train,y_pred_train))"
   ]
  },
  {
   "cell_type": "code",
   "execution_count": 14,
   "metadata": {},
   "outputs": [],
   "source": [
    "#viene importato il test set e vengono selezionate solo le variabili più importanti\n",
    "\n",
    "df_test=get_important_variables(\"test.csv\",[\"PAY_0\",\"PAY_2\",\"PAY_3\",\"PAY_4\",\"PAY_5\",\"PAY_6\",\"LIMIT_BAL\",\n",
    "                                            \"PAY_AMT1\"])"
   ]
  },
  {
   "cell_type": "code",
   "execution_count": 15,
   "metadata": {},
   "outputs": [],
   "source": [
    "#vengono normalizzate le features\n",
    "\n",
    "scaler_test=StandardScaler()\n",
    "X_test=scaler_test.fit_transform(df_test)"
   ]
  },
  {
   "cell_type": "code",
   "execution_count": 16,
   "metadata": {},
   "outputs": [],
   "source": [
    "#vengono predette le classi del test set\n",
    "\n",
    "y_test_pred=model.predict_classes(X_test)"
   ]
  },
  {
   "cell_type": "code",
   "execution_count": 19,
   "metadata": {},
   "outputs": [],
   "source": [
    "#vengono scritte le predizioni su un file di testo\n",
    "\n",
    "output_file = open(\"/home/davide/Scrivania/Advanced Machine Learning/Assignment 1/Davide_Sangalli_848013_score1.txt\",\"w\")\n",
    "\n",
    "for i in y_test_pred:\n",
    "    output_file.write(str(i)+'\\n')\n",
    "\n",
    "output_file.close()"
   ]
  },
  {
   "cell_type": "code",
   "execution_count": null,
   "metadata": {},
   "outputs": [],
   "source": []
  },
  {
   "cell_type": "code",
   "execution_count": null,
   "metadata": {},
   "outputs": [],
   "source": []
  },
  {
   "cell_type": "code",
   "execution_count": null,
   "metadata": {},
   "outputs": [],
   "source": []
  },
  {
   "cell_type": "code",
   "execution_count": null,
   "metadata": {},
   "outputs": [],
   "source": []
  },
  {
   "cell_type": "code",
   "execution_count": null,
   "metadata": {},
   "outputs": [],
   "source": []
  },
  {
   "cell_type": "code",
   "execution_count": null,
   "metadata": {},
   "outputs": [],
   "source": []
  },
  {
   "cell_type": "code",
   "execution_count": null,
   "metadata": {},
   "outputs": [],
   "source": []
  },
  {
   "cell_type": "code",
   "execution_count": null,
   "metadata": {},
   "outputs": [],
   "source": []
  },
  {
   "cell_type": "code",
   "execution_count": null,
   "metadata": {},
   "outputs": [],
   "source": []
  }
 ],
 "metadata": {
  "kernelspec": {
   "display_name": "Python 3",
   "language": "python",
   "name": "python3"
  },
  "language_info": {
   "codemirror_mode": {
    "name": "ipython",
    "version": 3
   },
   "file_extension": ".py",
   "mimetype": "text/x-python",
   "name": "python",
   "nbconvert_exporter": "python",
   "pygments_lexer": "ipython3",
   "version": "3.6.8"
  }
 },
 "nbformat": 4,
 "nbformat_minor": 2
}
