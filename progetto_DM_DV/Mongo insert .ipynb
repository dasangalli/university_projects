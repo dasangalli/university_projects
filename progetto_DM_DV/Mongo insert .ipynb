{
 "cells": [
  {
   "cell_type": "code",
   "execution_count": 1,
   "metadata": {},
   "outputs": [
    {
     "name": "stdout",
     "output_type": "stream",
     "text": [
      "Done\n"
     ]
    }
   ],
   "source": [
    "import pymongo\n",
    "from pymongo import MongoClient\n",
    "import pandas as pd\n",
    "import os\n",
    "import json\n",
    "import datetime\n",
    "import dateutil.parser\n",
    "\n",
    "client = MongoClient('localhost', 27017)\n",
    "\n",
    "db=client[\"DM_project_database\"]\n",
    "\n",
    "mycol=db[\"A12 (Genova-Roma)\"]\n",
    "\n",
    "week_dict={\n",
    "        \"lunedì\":[\"2019-05-06\",\"2019-05-13\",\"2019-05-20\",\"2019-05-27\"],\n",
    "        \"martedì\":[\"2019-05-07\",\"2019-05-14\",\"2019-05-21\",\"2019-05-28\"],\n",
    "        \"mercoledì\":[\"2019-05-01\",\"2019-05-08\",\"2019-05-15\",\"2019-05-22\",\"2019-05-29\"],\n",
    "        \"giovedì\":[\"2019-05-02\",\"2019-05-09\",\"2019-05-16\",\"2019-05-23\",\"2019-05-30\"],\n",
    "        \"venerdì\":[\"2019-05-03\",\"2019-05-10\",\"2019-05-17\",\"2019-05-24\",\"2019-05-31\"],\n",
    "        \"sabato\":[\"2019-05-04\",\"2019-05-11\",\"2019-05-18\",\"2019-05-25\"],\n",
    "        \"domenica\":[\"2019-05-05\",\"2019-05-12\",\"2019-05-19\",\"2019-05-26\"]\n",
    "    }\n",
    "\n",
    "def get_coordinates(file_name):\n",
    "    mongo_coord=[]\n",
    "    directory=\"C:/Users/dasan/Desktop\"\n",
    "    with open(directory+\"/\"+file_name) as file:\n",
    "            data=json.load(file)\n",
    "            \n",
    "            for i in range(len(data['places'])):\n",
    "                mongo_coord.append({\n",
    "                                      \"highway\":\"{}\".format(data['places'][i]['highway']),\n",
    "                                      \"latitude\":\"{}\".format(data['places'][i]['latitude']),\n",
    "                                      \"longitude\":\"{}\".format(data['places'][i]['longitude'])})\n",
    "    file.close()\n",
    "    return mongo_coord\n",
    "\n",
    "\n",
    "def find_place(place_name,highway_name):\n",
    "    with open(\"C:/Users/dasan/Desktop/coordinates_file.json\") as file:\n",
    "        data=json.load(file)\n",
    "        #print(data['places'])\n",
    "        for i in range(len(data['places'])):\n",
    "            if(data['places'][i]['city']==place_name and data['places'][i]['highway']== highway_name):\n",
    "                return data['places'][i]['latitude'],data['places'][i]['longitude']\n",
    "\n",
    "\n",
    "def find_minimum_base_time(subfolder):\n",
    "    \n",
    "    min_list=[]\n",
    "    \n",
    "    directory=\"C:/Users/dasan/Desktop/DM_project_final_Lagano/{}\".format(subfolder)\n",
    "    for filename in sorted(os.listdir(directory)):\n",
    "        if(filename.endswith(\".csv\")):\n",
    "            df=pd.read_csv(directory+\"/\"+filename)\n",
    "            min_base_time_in_file=min(df[\"BASE TIME (minutes)\"])\n",
    "            min_list.append(min_base_time_in_file)\n",
    "            \n",
    "    return min(min_list)\n",
    "\n",
    "\n",
    "def upload_data(subfolder):\n",
    "    \n",
    "    my_key=\"\"\n",
    "    \n",
    "    directory=\"C:/Users/dasan/Desktop/DM_project_final_Lagano/{}\".format(subfolder)\n",
    "\n",
    "    mongo_list=[]\n",
    "\n",
    "    for filename in sorted(os.listdir(directory)):\n",
    "        if(filename.endswith(\".csv\")):\n",
    "            df=pd.read_csv(directory+\"/\"+filename)\n",
    "            for i in range(len(df[\"TIMESTAMP\"])):\n",
    "                string= df.iloc[i][\"TIMESTAMP\"]\n",
    "                split=string.split(\" \")\n",
    "                date=split[0]\n",
    "                time=split[1]\n",
    "                \n",
    "                for key in week_dict.keys():\n",
    "                    for value in week_dict[key]:\n",
    "                        if(value==date):\n",
    "                            my_key=key\n",
    "                            \n",
    "                mongo_list.append({\n",
    "                    \"date\":datetime.datetime.strptime(date,\"%Y-%m-%d\"),\n",
    "                    \"time\":datetime.datetime.strptime(time,\"%H:%M:%S\"),\n",
    "                    \"day_of_week\":my_key,\n",
    "                    \"distance_km\":df.iloc[i][\"DISTANCE (Km)\"],\n",
    "                    \"delay_minutes\":df.iloc[i][\"TRAFFIC TIME (minutes)\"]-find_minimum_base_time(subfolder)})\n",
    "        my_key=\"\"\n",
    "    return mongo_list\n",
    "    \n",
    "if __name__==\"__main__\":\n",
    "    mongo_tot=[]\n",
    "    places={ \"Rosignano - Pisa Centro\":[\"Rosignano\",\"Pisa Centro\"]}\n",
    "    \n",
    "    mongo_1=upload_data(\"A12_Rosignano_PisaCentro\")\n",
    "    #mongo_2=upload_data(\"A4_SanGiorgio_Trieste\")\n",
    "    \n",
    "    mongo_tot.append(mongo_1)\n",
    "    #mongo_tot.append(mongo_2)\n",
    "    \n",
    "    print(\"Done\")\n",
    "    \n",
    "    keys_list=list(places.keys())\n",
    "    \n",
    "        \n",
    "    for i in range(len(mongo_tot)):\n",
    "        #if(i==0):\n",
    "         #   mycol.insert_one({\n",
    "          #      \"_id\": \"A32_coordinates\",\n",
    "           #     \"coordinates\": get_coordinates(\"A32.json\")\n",
    "           # })\n",
    "        mycol.insert_one({\n",
    "            \"_id\":keys_list[i],\n",
    "            \"origin_latitude\":float(find_place(places.get(keys_list[i])[0],\"A12(Genova-Roma)\")[0]),\n",
    "            \"origin_longitude\":float(find_place(places.get(keys_list[i])[0],\"A12(Genova-Roma)\")[1]),\n",
    "            \"destination_latitude\":float(find_place(places.get(keys_list[i])[1],\"A12(Genova-Roma)\")[0]),\n",
    "            \"destination_longitude\":float(find_place(places.get(keys_list[i])[1],\"A12(Genova-Roma)\")[1]),\n",
    "            \"traffic_info\":mongo_tot[i]         \n",
    "            })"
   ]
  },
  {
   "cell_type": "code",
   "execution_count": null,
   "metadata": {},
   "outputs": [],
   "source": []
  },
  {
   "cell_type": "code",
   "execution_count": null,
   "metadata": {},
   "outputs": [],
   "source": []
  },
  {
   "cell_type": "code",
   "execution_count": 55,
   "metadata": {},
   "outputs": [],
   "source": []
  },
  {
   "cell_type": "code",
   "execution_count": null,
   "metadata": {},
   "outputs": [],
   "source": []
  },
  {
   "cell_type": "code",
   "execution_count": null,
   "metadata": {
    "scrolled": false
   },
   "outputs": [],
   "source": []
  },
  {
   "cell_type": "code",
   "execution_count": null,
   "metadata": {},
   "outputs": [],
   "source": []
  },
  {
   "cell_type": "code",
   "execution_count": null,
   "metadata": {},
   "outputs": [],
   "source": []
  },
  {
   "cell_type": "code",
   "execution_count": null,
   "metadata": {},
   "outputs": [],
   "source": []
  },
  {
   "cell_type": "code",
   "execution_count": null,
   "metadata": {},
   "outputs": [],
   "source": []
  },
  {
   "cell_type": "code",
   "execution_count": null,
   "metadata": {},
   "outputs": [],
   "source": []
  },
  {
   "cell_type": "code",
   "execution_count": 7,
   "metadata": {},
   "outputs": [],
   "source": []
  },
  {
   "cell_type": "code",
   "execution_count": 8,
   "metadata": {},
   "outputs": [],
   "source": []
  },
  {
   "cell_type": "code",
   "execution_count": null,
   "metadata": {},
   "outputs": [],
   "source": []
  },
  {
   "cell_type": "code",
   "execution_count": null,
   "metadata": {},
   "outputs": [],
   "source": []
  },
  {
   "cell_type": "code",
   "execution_count": null,
   "metadata": {},
   "outputs": [],
   "source": []
  }
 ],
 "metadata": {
  "kernelspec": {
   "display_name": "Python 3",
   "language": "python",
   "name": "python3"
  },
  "language_info": {
   "codemirror_mode": {
    "name": "ipython",
    "version": 3
   },
   "file_extension": ".py",
   "mimetype": "text/x-python",
   "name": "python",
   "nbconvert_exporter": "python",
   "pygments_lexer": "ipython3",
   "version": "3.6.4"
  }
 },
 "nbformat": 4,
 "nbformat_minor": 2
}
